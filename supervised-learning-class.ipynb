{
 "cells": [
  {
   "cell_type": "code",
   "execution_count": 3,
   "metadata": {},
   "outputs": [],
   "source": [
    "import numpy as np \n",
    "import pandas as pd\n",
    "import matplotlib.pyplot as plt\n",
    "import seaborn as sns\n",
    "\n",
    "%matplotlib inline"
   ]
  },
  {
   "cell_type": "markdown",
   "metadata": {},
   "source": [
    "## Reading and investigating the data"
   ]
  },
  {
   "cell_type": "code",
   "execution_count": 4,
   "metadata": {},
   "outputs": [],
   "source": [
    "data = pd.read_csv('bankdata.csv')"
   ]
  },
  {
   "cell_type": "code",
   "execution_count": 5,
   "metadata": {},
   "outputs": [
    {
     "data": {
      "text/plain": [
       "(74364, 9)"
      ]
     },
     "execution_count": 5,
     "metadata": {},
     "output_type": "execute_result"
    }
   ],
   "source": [
    "data.shape"
   ]
  },
  {
   "cell_type": "code",
   "execution_count": 6,
   "metadata": {},
   "outputs": [
    {
     "data": {
      "text/plain": [
       "type             object\n",
       "operation        object\n",
       "amount_total    float64\n",
       "balance         float64\n",
       "k_symbol         object\n",
       "amount_left       int64\n",
       "duration          int64\n",
       "payments        float64\n",
       "status           object\n",
       "dtype: object"
      ]
     },
     "execution_count": 6,
     "metadata": {},
     "output_type": "execute_result"
    }
   ],
   "source": [
    "data.dtypes"
   ]
  },
  {
   "cell_type": "code",
   "execution_count": 7,
   "metadata": {
    "scrolled": true
   },
   "outputs": [
    {
     "data": {
      "text/html": [
       "<div>\n",
       "<style scoped>\n",
       "    .dataframe tbody tr th:only-of-type {\n",
       "        vertical-align: middle;\n",
       "    }\n",
       "\n",
       "    .dataframe tbody tr th {\n",
       "        vertical-align: top;\n",
       "    }\n",
       "\n",
       "    .dataframe thead th {\n",
       "        text-align: right;\n",
       "    }\n",
       "</style>\n",
       "<table border=\"1\" class=\"dataframe\">\n",
       "  <thead>\n",
       "    <tr style=\"text-align: right;\">\n",
       "      <th></th>\n",
       "      <th>type</th>\n",
       "      <th>operation</th>\n",
       "      <th>amount_total</th>\n",
       "      <th>balance</th>\n",
       "      <th>k_symbol</th>\n",
       "      <th>amount_left</th>\n",
       "      <th>duration</th>\n",
       "      <th>payments</th>\n",
       "      <th>status</th>\n",
       "    </tr>\n",
       "  </thead>\n",
       "  <tbody>\n",
       "    <tr>\n",
       "      <th>0</th>\n",
       "      <td>PRIJEM</td>\n",
       "      <td>prevod</td>\n",
       "      <td>44749.0</td>\n",
       "      <td>45549.0</td>\n",
       "      <td>unknown</td>\n",
       "      <td>79608</td>\n",
       "      <td>24</td>\n",
       "      <td>3317.0</td>\n",
       "      <td>A</td>\n",
       "    </tr>\n",
       "    <tr>\n",
       "      <th>1</th>\n",
       "      <td>PRIJEM</td>\n",
       "      <td>vklad</td>\n",
       "      <td>1000.0</td>\n",
       "      <td>1000.0</td>\n",
       "      <td>unknown</td>\n",
       "      <td>52788</td>\n",
       "      <td>12</td>\n",
       "      <td>4399.0</td>\n",
       "      <td>A</td>\n",
       "    </tr>\n",
       "    <tr>\n",
       "      <th>2</th>\n",
       "      <td>PRIJEM</td>\n",
       "      <td>vklad</td>\n",
       "      <td>1100.0</td>\n",
       "      <td>1100.0</td>\n",
       "      <td>unknown</td>\n",
       "      <td>21924</td>\n",
       "      <td>36</td>\n",
       "      <td>609.0</td>\n",
       "      <td>A</td>\n",
       "    </tr>\n",
       "    <tr>\n",
       "      <th>3</th>\n",
       "      <td>PRIJEM</td>\n",
       "      <td>vklad</td>\n",
       "      <td>700.0</td>\n",
       "      <td>700.0</td>\n",
       "      <td>unknown</td>\n",
       "      <td>23052</td>\n",
       "      <td>12</td>\n",
       "      <td>1921.0</td>\n",
       "      <td>A</td>\n",
       "    </tr>\n",
       "    <tr>\n",
       "      <th>4</th>\n",
       "      <td>PRIJEM</td>\n",
       "      <td>vklad</td>\n",
       "      <td>900.0</td>\n",
       "      <td>900.0</td>\n",
       "      <td>unknown</td>\n",
       "      <td>41904</td>\n",
       "      <td>12</td>\n",
       "      <td>3492.0</td>\n",
       "      <td>A</td>\n",
       "    </tr>\n",
       "  </tbody>\n",
       "</table>\n",
       "</div>"
      ],
      "text/plain": [
       "     type operation  amount_total  balance k_symbol  amount_left  duration  \\\n",
       "0  PRIJEM    prevod       44749.0  45549.0  unknown        79608        24   \n",
       "1  PRIJEM     vklad        1000.0   1000.0  unknown        52788        12   \n",
       "2  PRIJEM     vklad        1100.0   1100.0  unknown        21924        36   \n",
       "3  PRIJEM     vklad         700.0    700.0  unknown        23052        12   \n",
       "4  PRIJEM     vklad         900.0    900.0  unknown        41904        12   \n",
       "\n",
       "   payments status  \n",
       "0    3317.0      A  \n",
       "1    4399.0      A  \n",
       "2     609.0      A  \n",
       "3    1921.0      A  \n",
       "4    3492.0      A  "
      ]
     },
     "execution_count": 7,
     "metadata": {},
     "output_type": "execute_result"
    }
   ],
   "source": [
    "data.head()"
   ]
  },
  {
   "cell_type": "code",
   "execution_count": 8,
   "metadata": {},
   "outputs": [
    {
     "data": {
      "text/plain": [
       "A    64599\n",
       "B     9765\n",
       "Name: status, dtype: int64"
      ]
     },
     "execution_count": 8,
     "metadata": {},
     "output_type": "execute_result"
    }
   ],
   "source": [
    "data['status'].value_counts()"
   ]
  },
  {
   "cell_type": "markdown",
   "metadata": {},
   "source": [
    "### Investigating the numerical variables"
   ]
  },
  {
   "cell_type": "code",
   "execution_count": 9,
   "metadata": {},
   "outputs": [
    {
     "data": {
      "text/html": [
       "<div>\n",
       "<style scoped>\n",
       "    .dataframe tbody tr th:only-of-type {\n",
       "        vertical-align: middle;\n",
       "    }\n",
       "\n",
       "    .dataframe tbody tr th {\n",
       "        vertical-align: top;\n",
       "    }\n",
       "\n",
       "    .dataframe thead th {\n",
       "        text-align: right;\n",
       "    }\n",
       "</style>\n",
       "<table border=\"1\" class=\"dataframe\">\n",
       "  <thead>\n",
       "    <tr style=\"text-align: right;\">\n",
       "      <th></th>\n",
       "      <th>amount_total</th>\n",
       "      <th>balance</th>\n",
       "      <th>amount_left</th>\n",
       "      <th>duration</th>\n",
       "      <th>payments</th>\n",
       "    </tr>\n",
       "  </thead>\n",
       "  <tbody>\n",
       "    <tr>\n",
       "      <th>count</th>\n",
       "      <td>74364.000000</td>\n",
       "      <td>74364.000000</td>\n",
       "      <td>74364.000000</td>\n",
       "      <td>74364.000000</td>\n",
       "      <td>74364.000000</td>\n",
       "    </tr>\n",
       "    <tr>\n",
       "      <th>mean</th>\n",
       "      <td>7832.649125</td>\n",
       "      <td>46022.153061</td>\n",
       "      <td>102745.132645</td>\n",
       "      <td>23.942230</td>\n",
       "      <td>4356.580832</td>\n",
       "    </tr>\n",
       "    <tr>\n",
       "      <th>std</th>\n",
       "      <td>11729.040391</td>\n",
       "      <td>25439.948570</td>\n",
       "      <td>74749.275498</td>\n",
       "      <td>12.155783</td>\n",
       "      <td>2205.840892</td>\n",
       "    </tr>\n",
       "    <tr>\n",
       "      <th>min</th>\n",
       "      <td>0.000000</td>\n",
       "      <td>-14137.200000</td>\n",
       "      <td>4980.000000</td>\n",
       "      <td>12.000000</td>\n",
       "      <td>319.000000</td>\n",
       "    </tr>\n",
       "    <tr>\n",
       "      <th>25%</th>\n",
       "      <td>144.300000</td>\n",
       "      <td>27675.125000</td>\n",
       "      <td>46320.000000</td>\n",
       "      <td>12.000000</td>\n",
       "      <td>2569.000000</td>\n",
       "    </tr>\n",
       "    <tr>\n",
       "      <th>50%</th>\n",
       "      <td>3000.000000</td>\n",
       "      <td>40965.150000</td>\n",
       "      <td>86184.000000</td>\n",
       "      <td>24.000000</td>\n",
       "      <td>4051.000000</td>\n",
       "    </tr>\n",
       "    <tr>\n",
       "      <th>75%</th>\n",
       "      <td>9868.500000</td>\n",
       "      <td>60098.550000</td>\n",
       "      <td>140400.000000</td>\n",
       "      <td>36.000000</td>\n",
       "      <td>6315.000000</td>\n",
       "    </tr>\n",
       "    <tr>\n",
       "      <th>max</th>\n",
       "      <td>87300.000000</td>\n",
       "      <td>193910.000000</td>\n",
       "      <td>464520.000000</td>\n",
       "      <td>60.000000</td>\n",
       "      <td>9736.000000</td>\n",
       "    </tr>\n",
       "  </tbody>\n",
       "</table>\n",
       "</div>"
      ],
      "text/plain": [
       "       amount_total        balance    amount_left      duration      payments\n",
       "count  74364.000000   74364.000000   74364.000000  74364.000000  74364.000000\n",
       "mean    7832.649125   46022.153061  102745.132645     23.942230   4356.580832\n",
       "std    11729.040391   25439.948570   74749.275498     12.155783   2205.840892\n",
       "min        0.000000  -14137.200000    4980.000000     12.000000    319.000000\n",
       "25%      144.300000   27675.125000   46320.000000     12.000000   2569.000000\n",
       "50%     3000.000000   40965.150000   86184.000000     24.000000   4051.000000\n",
       "75%     9868.500000   60098.550000  140400.000000     36.000000   6315.000000\n",
       "max    87300.000000  193910.000000  464520.000000     60.000000   9736.000000"
      ]
     },
     "execution_count": 9,
     "metadata": {},
     "output_type": "execute_result"
    }
   ],
   "source": [
    "data.describe()"
   ]
  },
  {
   "cell_type": "markdown",
   "metadata": {},
   "source": [
    "#### Investigating variable duration"
   ]
  },
  {
   "cell_type": "code",
   "execution_count": 10,
   "metadata": {},
   "outputs": [
    {
     "data": {
      "text/plain": [
       "12    28761\n",
       "24    25155\n",
       "36    14110\n",
       "48     4721\n",
       "60     1617\n",
       "Name: duration, dtype: int64"
      ]
     },
     "execution_count": 10,
     "metadata": {},
     "output_type": "execute_result"
    }
   ],
   "source": [
    "data['duration'].value_counts()"
   ]
  },
  {
   "cell_type": "code",
   "execution_count": 11,
   "metadata": {},
   "outputs": [],
   "source": [
    "# we will convert this to a categorical\n",
    "data['duration'] = data['duration'].apply(str)"
   ]
  },
  {
   "cell_type": "code",
   "execution_count": 12,
   "metadata": {},
   "outputs": [
    {
     "data": {
      "image/png": "[encoded data removed]",
      "text/plain": [
       "<Figure size 720x576 with 2 Axes>"
      ]
     },
     "metadata": {
      "needs_background": "light"
     },
     "output_type": "display_data"
    }
   ],
   "source": [
    "# Checking for multicollinearity\n",
    "plt.figure(figsize=(10, 8))\n",
    "ax = sns.heatmap(data.corr(), annot=True)\n",
    "plt.show()"
   ]
  },
  {
   "cell_type": "markdown",
   "metadata": {},
   "source": [
    "payments and amount_left have a rather high correlation, so we will include only one of them in the model"
   ]
  },
  {
   "cell_type": "code",
   "execution_count": 13,
   "metadata": {},
   "outputs": [
    {
     "name": "stderr",
     "output_type": "stream",
     "text": [
      "/opt/anaconda3/envs/kittycat/lib/python3.8/site-packages/seaborn/distributions.py:2551: FutureWarning: `distplot` is a deprecated function and will be removed in a future version. Please adapt your code to use either `displot` (a figure-level function with similar flexibility) or `histplot` (an axes-level function for histograms).\n",
      "  warnings.warn(msg, FutureWarning)\n"
     ]
    },
    {
     "data": {
      "image/png": "[encoded data removed]",
      "text/plain": [
       "<Figure size 432x288 with 1 Axes>"
      ]
     },
     "metadata": {
      "needs_background": "light"
     },
     "output_type": "display_data"
    }
   ],
   "source": [
    "#sns.distplot(data['t_amount'])\n",
    "#plt.show()\n",
    "\n",
    "sns.distplot(data['balance'])\n",
    "plt.show()\n",
    "\n",
    "#sns.distplot(data['payments'])\n",
    "#plt.show()"
   ]
  },
  {
   "cell_type": "markdown",
   "metadata": {},
   "source": [
    "### Preprocessing the numerical variables"
   ]
  },
  {
   "cell_type": "code",
   "execution_count": 14,
   "metadata": {},
   "outputs": [
    {
     "name": "stdout",
     "output_type": "stream",
     "text": [
      "   amount_total  balance  payments\n",
      "0       44749.0  45549.0    3317.0\n",
      "1        1000.0   1000.0    4399.0\n",
      "2        1100.0   1100.0     609.0\n",
      "3         700.0    700.0    1921.0\n",
      "4         900.0    900.0    3492.0\n",
      "   amount_total   balance  payments\n",
      "0      3.147453 -0.018599 -0.471289\n",
      "1     -0.582545 -1.769754  0.019231\n",
      "2     -0.574019 -1.765823 -1.698947\n",
      "3     -0.608123 -1.781547 -1.104158\n",
      "4     -0.591071 -1.773685 -0.391953\n"
     ]
    }
   ],
   "source": [
    "from sklearn.preprocessing import StandardScaler\n",
    "data_num = data.select_dtypes(include = np.number).drop(columns = 'amount_left')\n",
    "print(data_num.head())\n",
    "# standardizing data\n",
    "transformer = StandardScaler().fit(data_num)\n",
    "data_num_standardized = transformer.transform(data_num)\n",
    "x = pd.DataFrame(data_num_standardized, columns = data_num.columns)\n",
    "print(x.head())"
   ]
  },
  {
   "cell_type": "code",
   "execution_count": 15,
   "metadata": {},
   "outputs": [
    {
     "name": "stderr",
     "output_type": "stream",
     "text": [
      "/opt/anaconda3/envs/kittycat/lib/python3.8/site-packages/seaborn/distributions.py:2551: FutureWarning: `distplot` is a deprecated function and will be removed in a future version. Please adapt your code to use either `displot` (a figure-level function with similar flexibility) or `histplot` (an axes-level function for histograms).\n",
      "  warnings.warn(msg, FutureWarning)\n"
     ]
    },
    {
     "data": {
      "image/png": "[encoded data removed]",
      "text/plain": [
       "<Figure size 432x288 with 1 Axes>"
      ]
     },
     "metadata": {
      "needs_background": "light"
     },
     "output_type": "display_data"
    }
   ],
   "source": [
    "sns.distplot(data['balance'])\n",
    "plt.show()"
   ]
  },
  {
   "cell_type": "code",
   "execution_count": 16,
   "metadata": {},
   "outputs": [
    {
     "name": "stderr",
     "output_type": "stream",
     "text": [
      "/opt/anaconda3/envs/kittycat/lib/python3.8/site-packages/seaborn/distributions.py:2551: FutureWarning: `distplot` is a deprecated function and will be removed in a future version. Please adapt your code to use either `displot` (a figure-level function with similar flexibility) or `histplot` (an axes-level function for histograms).\n",
      "  warnings.warn(msg, FutureWarning)\n"
     ]
    },
    {
     "data": {
      "image/png": "[encoded data removed]",
      "text/plain": [
       "<Figure size 432x288 with 1 Axes>"
      ]
     },
     "metadata": {
      "needs_background": "light"
     },
     "output_type": "display_data"
    }
   ],
   "source": [
    "# the distribution is now center around 0 and varinace of 1\n",
    "sns.distplot(x['balance'])\n",
    "plt.show()"
   ]
  },
  {
   "cell_type": "markdown",
   "metadata": {},
   "source": [
    "### Getting dummies for the categorical variables"
   ]
  },
  {
   "cell_type": "code",
   "execution_count": 17,
   "metadata": {},
   "outputs": [
    {
     "data": {
      "text/html": [
       "<div>\n",
       "<style scoped>\n",
       "    .dataframe tbody tr th:only-of-type {\n",
       "        vertical-align: middle;\n",
       "    }\n",
       "\n",
       "    .dataframe tbody tr th {\n",
       "        vertical-align: top;\n",
       "    }\n",
       "\n",
       "    .dataframe thead th {\n",
       "        text-align: right;\n",
       "    }\n",
       "</style>\n",
       "<table border=\"1\" class=\"dataframe\">\n",
       "  <thead>\n",
       "    <tr style=\"text-align: right;\">\n",
       "      <th></th>\n",
       "      <th>x0_PRIJEM</th>\n",
       "      <th>x0_VYBER</th>\n",
       "      <th>x0_VYDAJ</th>\n",
       "      <th>x1_prevod</th>\n",
       "      <th>x1_unknown</th>\n",
       "      <th>x1_vklad</th>\n",
       "      <th>x1_vyber</th>\n",
       "      <th>x2_pojistne</th>\n",
       "      <th>x2_sankc. urok</th>\n",
       "      <th>x2_sipo</th>\n",
       "      <th>x2_sluzby</th>\n",
       "      <th>x2_unknown</th>\n",
       "      <th>x2_urok</th>\n",
       "      <th>x2_uver</th>\n",
       "      <th>x3_12</th>\n",
       "      <th>x3_24</th>\n",
       "      <th>x3_36</th>\n",
       "      <th>x3_48</th>\n",
       "      <th>x3_60</th>\n",
       "    </tr>\n",
       "  </thead>\n",
       "  <tbody>\n",
       "    <tr>\n",
       "      <th>0</th>\n",
       "      <td>1.0</td>\n",
       "      <td>0.0</td>\n",
       "      <td>0.0</td>\n",
       "      <td>1.0</td>\n",
       "      <td>0.0</td>\n",
       "      <td>0.0</td>\n",
       "      <td>0.0</td>\n",
       "      <td>0.0</td>\n",
       "      <td>0.0</td>\n",
       "      <td>0.0</td>\n",
       "      <td>0.0</td>\n",
       "      <td>1.0</td>\n",
       "      <td>0.0</td>\n",
       "      <td>0.0</td>\n",
       "      <td>0.0</td>\n",
       "      <td>1.0</td>\n",
       "      <td>0.0</td>\n",
       "      <td>0.0</td>\n",
       "      <td>0.0</td>\n",
       "    </tr>\n",
       "    <tr>\n",
       "      <th>1</th>\n",
       "      <td>1.0</td>\n",
       "      <td>0.0</td>\n",
       "      <td>0.0</td>\n",
       "      <td>0.0</td>\n",
       "      <td>0.0</td>\n",
       "      <td>1.0</td>\n",
       "      <td>0.0</td>\n",
       "      <td>0.0</td>\n",
       "      <td>0.0</td>\n",
       "      <td>0.0</td>\n",
       "      <td>0.0</td>\n",
       "      <td>1.0</td>\n",
       "      <td>0.0</td>\n",
       "      <td>0.0</td>\n",
       "      <td>1.0</td>\n",
       "      <td>0.0</td>\n",
       "      <td>0.0</td>\n",
       "      <td>0.0</td>\n",
       "      <td>0.0</td>\n",
       "    </tr>\n",
       "    <tr>\n",
       "      <th>2</th>\n",
       "      <td>1.0</td>\n",
       "      <td>0.0</td>\n",
       "      <td>0.0</td>\n",
       "      <td>0.0</td>\n",
       "      <td>0.0</td>\n",
       "      <td>1.0</td>\n",
       "      <td>0.0</td>\n",
       "      <td>0.0</td>\n",
       "      <td>0.0</td>\n",
       "      <td>0.0</td>\n",
       "      <td>0.0</td>\n",
       "      <td>1.0</td>\n",
       "      <td>0.0</td>\n",
       "      <td>0.0</td>\n",
       "      <td>0.0</td>\n",
       "      <td>0.0</td>\n",
       "      <td>1.0</td>\n",
       "      <td>0.0</td>\n",
       "      <td>0.0</td>\n",
       "    </tr>\n",
       "    <tr>\n",
       "      <th>3</th>\n",
       "      <td>1.0</td>\n",
       "      <td>0.0</td>\n",
       "      <td>0.0</td>\n",
       "      <td>0.0</td>\n",
       "      <td>0.0</td>\n",
       "      <td>1.0</td>\n",
       "      <td>0.0</td>\n",
       "      <td>0.0</td>\n",
       "      <td>0.0</td>\n",
       "      <td>0.0</td>\n",
       "      <td>0.0</td>\n",
       "      <td>1.0</td>\n",
       "      <td>0.0</td>\n",
       "      <td>0.0</td>\n",
       "      <td>1.0</td>\n",
       "      <td>0.0</td>\n",
       "      <td>0.0</td>\n",
       "      <td>0.0</td>\n",
       "      <td>0.0</td>\n",
       "    </tr>\n",
       "    <tr>\n",
       "      <th>4</th>\n",
       "      <td>1.0</td>\n",
       "      <td>0.0</td>\n",
       "      <td>0.0</td>\n",
       "      <td>0.0</td>\n",
       "      <td>0.0</td>\n",
       "      <td>1.0</td>\n",
       "      <td>0.0</td>\n",
       "      <td>0.0</td>\n",
       "      <td>0.0</td>\n",
       "      <td>0.0</td>\n",
       "      <td>0.0</td>\n",
       "      <td>1.0</td>\n",
       "      <td>0.0</td>\n",
       "      <td>0.0</td>\n",
       "      <td>1.0</td>\n",
       "      <td>0.0</td>\n",
       "      <td>0.0</td>\n",
       "      <td>0.0</td>\n",
       "      <td>0.0</td>\n",
       "    </tr>\n",
       "  </tbody>\n",
       "</table>\n",
       "</div>"
      ],
      "text/plain": [
       "   x0_PRIJEM  x0_VYBER  x0_VYDAJ  x1_prevod  x1_unknown  x1_vklad  x1_vyber  \\\n",
       "0        1.0       0.0       0.0        1.0         0.0       0.0       0.0   \n",
       "1        1.0       0.0       0.0        0.0         0.0       1.0       0.0   \n",
       "2        1.0       0.0       0.0        0.0         0.0       1.0       0.0   \n",
       "3        1.0       0.0       0.0        0.0         0.0       1.0       0.0   \n",
       "4        1.0       0.0       0.0        0.0         0.0       1.0       0.0   \n",
       "\n",
       "   x2_pojistne  x2_sankc. urok  x2_sipo  x2_sluzby  x2_unknown  x2_urok  \\\n",
       "0          0.0             0.0      0.0        0.0         1.0      0.0   \n",
       "1          0.0             0.0      0.0        0.0         1.0      0.0   \n",
       "2          0.0             0.0      0.0        0.0         1.0      0.0   \n",
       "3          0.0             0.0      0.0        0.0         1.0      0.0   \n",
       "4          0.0             0.0      0.0        0.0         1.0      0.0   \n",
       "\n",
       "   x2_uver  x3_12  x3_24  x3_36  x3_48  x3_60  \n",
       "0      0.0    0.0    1.0    0.0    0.0    0.0  \n",
       "1      0.0    1.0    0.0    0.0    0.0    0.0  \n",
       "2      0.0    0.0    0.0    1.0    0.0    0.0  \n",
       "3      0.0    1.0    0.0    0.0    0.0    0.0  \n",
       "4      0.0    1.0    0.0    0.0    0.0    0.0  "
      ]
     },
     "execution_count": 17,
     "metadata": {},
     "output_type": "execute_result"
    }
   ],
   "source": [
    "from sklearn.preprocessing import OneHotEncoder\n",
    "cat = data.select_dtypes(include = np.object).drop(columns = 'status')\n",
    "enc = OneHotEncoder()\n",
    "categorical = pd.DataFrame(enc.fit_transform(cat).toarray(), columns = enc.get_feature_names())\n",
    "categorical.head()"
   ]
  },
  {
   "cell_type": "code",
   "execution_count": 18,
   "metadata": {},
   "outputs": [
    {
     "data": {
      "text/plain": [
       "0        4.0\n",
       "1        4.0\n",
       "2        4.0\n",
       "3        4.0\n",
       "4        4.0\n",
       "        ... \n",
       "74359    4.0\n",
       "74360    4.0\n",
       "74361    4.0\n",
       "74362    4.0\n",
       "74363    4.0\n",
       "Length: 74364, dtype: float64"
      ]
     },
     "execution_count": 18,
     "metadata": {},
     "output_type": "execute_result"
    }
   ],
   "source": [
    "categorical.sum(axis = 1)"
   ]
  },
  {
   "cell_type": "code",
   "execution_count": 19,
   "metadata": {},
   "outputs": [
    {
     "data": {
      "text/html": [
       "<div>\n",
       "<style scoped>\n",
       "    .dataframe tbody tr th:only-of-type {\n",
       "        vertical-align: middle;\n",
       "    }\n",
       "\n",
       "    .dataframe tbody tr th {\n",
       "        vertical-align: top;\n",
       "    }\n",
       "\n",
       "    .dataframe thead th {\n",
       "        text-align: right;\n",
       "    }\n",
       "</style>\n",
       "<table border=\"1\" class=\"dataframe\">\n",
       "  <thead>\n",
       "    <tr style=\"text-align: right;\">\n",
       "      <th></th>\n",
       "      <th>amount_total</th>\n",
       "      <th>balance</th>\n",
       "      <th>payments</th>\n",
       "      <th>x0_PRIJEM</th>\n",
       "      <th>x0_VYBER</th>\n",
       "      <th>x0_VYDAJ</th>\n",
       "      <th>x1_prevod</th>\n",
       "      <th>x1_unknown</th>\n",
       "      <th>x1_vklad</th>\n",
       "      <th>x1_vyber</th>\n",
       "      <th>...</th>\n",
       "      <th>x2_sipo</th>\n",
       "      <th>x2_sluzby</th>\n",
       "      <th>x2_unknown</th>\n",
       "      <th>x2_urok</th>\n",
       "      <th>x2_uver</th>\n",
       "      <th>x3_12</th>\n",
       "      <th>x3_24</th>\n",
       "      <th>x3_36</th>\n",
       "      <th>x3_48</th>\n",
       "      <th>x3_60</th>\n",
       "    </tr>\n",
       "  </thead>\n",
       "  <tbody>\n",
       "    <tr>\n",
       "      <th>0</th>\n",
       "      <td>3.147453</td>\n",
       "      <td>-0.018599</td>\n",
       "      <td>-0.471289</td>\n",
       "      <td>1.0</td>\n",
       "      <td>0.0</td>\n",
       "      <td>0.0</td>\n",
       "      <td>1.0</td>\n",
       "      <td>0.0</td>\n",
       "      <td>0.0</td>\n",
       "      <td>0.0</td>\n",
       "      <td>...</td>\n",
       "      <td>0.0</td>\n",
       "      <td>0.0</td>\n",
       "      <td>1.0</td>\n",
       "      <td>0.0</td>\n",
       "      <td>0.0</td>\n",
       "      <td>0.0</td>\n",
       "      <td>1.0</td>\n",
       "      <td>0.0</td>\n",
       "      <td>0.0</td>\n",
       "      <td>0.0</td>\n",
       "    </tr>\n",
       "    <tr>\n",
       "      <th>1</th>\n",
       "      <td>-0.582545</td>\n",
       "      <td>-1.769754</td>\n",
       "      <td>0.019231</td>\n",
       "      <td>1.0</td>\n",
       "      <td>0.0</td>\n",
       "      <td>0.0</td>\n",
       "      <td>0.0</td>\n",
       "      <td>0.0</td>\n",
       "      <td>1.0</td>\n",
       "      <td>0.0</td>\n",
       "      <td>...</td>\n",
       "      <td>0.0</td>\n",
       "      <td>0.0</td>\n",
       "      <td>1.0</td>\n",
       "      <td>0.0</td>\n",
       "      <td>0.0</td>\n",
       "      <td>1.0</td>\n",
       "      <td>0.0</td>\n",
       "      <td>0.0</td>\n",
       "      <td>0.0</td>\n",
       "      <td>0.0</td>\n",
       "    </tr>\n",
       "    <tr>\n",
       "      <th>2</th>\n",
       "      <td>-0.574019</td>\n",
       "      <td>-1.765823</td>\n",
       "      <td>-1.698947</td>\n",
       "      <td>1.0</td>\n",
       "      <td>0.0</td>\n",
       "      <td>0.0</td>\n",
       "      <td>0.0</td>\n",
       "      <td>0.0</td>\n",
       "      <td>1.0</td>\n",
       "      <td>0.0</td>\n",
       "      <td>...</td>\n",
       "      <td>0.0</td>\n",
       "      <td>0.0</td>\n",
       "      <td>1.0</td>\n",
       "      <td>0.0</td>\n",
       "      <td>0.0</td>\n",
       "      <td>0.0</td>\n",
       "      <td>0.0</td>\n",
       "      <td>1.0</td>\n",
       "      <td>0.0</td>\n",
       "      <td>0.0</td>\n",
       "    </tr>\n",
       "    <tr>\n",
       "      <th>3</th>\n",
       "      <td>-0.608123</td>\n",
       "      <td>-1.781547</td>\n",
       "      <td>-1.104158</td>\n",
       "      <td>1.0</td>\n",
       "      <td>0.0</td>\n",
       "      <td>0.0</td>\n",
       "      <td>0.0</td>\n",
       "      <td>0.0</td>\n",
       "      <td>1.0</td>\n",
       "      <td>0.0</td>\n",
       "      <td>...</td>\n",
       "      <td>0.0</td>\n",
       "      <td>0.0</td>\n",
       "      <td>1.0</td>\n",
       "      <td>0.0</td>\n",
       "      <td>0.0</td>\n",
       "      <td>1.0</td>\n",
       "      <td>0.0</td>\n",
       "      <td>0.0</td>\n",
       "      <td>0.0</td>\n",
       "      <td>0.0</td>\n",
       "    </tr>\n",
       "    <tr>\n",
       "      <th>4</th>\n",
       "      <td>-0.591071</td>\n",
       "      <td>-1.773685</td>\n",
       "      <td>-0.391953</td>\n",
       "      <td>1.0</td>\n",
       "      <td>0.0</td>\n",
       "      <td>0.0</td>\n",
       "      <td>0.0</td>\n",
       "      <td>0.0</td>\n",
       "      <td>1.0</td>\n",
       "      <td>0.0</td>\n",
       "      <td>...</td>\n",
       "      <td>0.0</td>\n",
       "      <td>0.0</td>\n",
       "      <td>1.0</td>\n",
       "      <td>0.0</td>\n",
       "      <td>0.0</td>\n",
       "      <td>1.0</td>\n",
       "      <td>0.0</td>\n",
       "      <td>0.0</td>\n",
       "      <td>0.0</td>\n",
       "      <td>0.0</td>\n",
       "    </tr>\n",
       "  </tbody>\n",
       "</table>\n",
       "<p>5 rows × 22 columns</p>\n",
       "</div>"
      ],
      "text/plain": [
       "   amount_total   balance  payments  x0_PRIJEM  x0_VYBER  x0_VYDAJ  x1_prevod  \\\n",
       "0      3.147453 -0.018599 -0.471289        1.0       0.0       0.0        1.0   \n",
       "1     -0.582545 -1.769754  0.019231        1.0       0.0       0.0        0.0   \n",
       "2     -0.574019 -1.765823 -1.698947        1.0       0.0       0.0        0.0   \n",
       "3     -0.608123 -1.781547 -1.104158        1.0       0.0       0.0        0.0   \n",
       "4     -0.591071 -1.773685 -0.391953        1.0       0.0       0.0        0.0   \n",
       "\n",
       "   x1_unknown  x1_vklad  x1_vyber  ...  x2_sipo  x2_sluzby  x2_unknown  \\\n",
       "0         0.0       0.0       0.0  ...      0.0        0.0         1.0   \n",
       "1         0.0       1.0       0.0  ...      0.0        0.0         1.0   \n",
       "2         0.0       1.0       0.0  ...      0.0        0.0         1.0   \n",
       "3         0.0       1.0       0.0  ...      0.0        0.0         1.0   \n",
       "4         0.0       1.0       0.0  ...      0.0        0.0         1.0   \n",
       "\n",
       "   x2_urok  x2_uver  x3_12  x3_24  x3_36  x3_48  x3_60  \n",
       "0      0.0      0.0    0.0    1.0    0.0    0.0    0.0  \n",
       "1      0.0      0.0    1.0    0.0    0.0    0.0    0.0  \n",
       "2      0.0      0.0    0.0    0.0    1.0    0.0    0.0  \n",
       "3      0.0      0.0    1.0    0.0    0.0    0.0    0.0  \n",
       "4      0.0      0.0    1.0    0.0    0.0    0.0    0.0  \n",
       "\n",
       "[5 rows x 22 columns]"
      ]
     },
     "execution_count": 19,
     "metadata": {},
     "output_type": "execute_result"
    }
   ],
   "source": [
    "y = data['status']\n",
    "X = pd.concat((x, categorical), axis=1)\n",
    "X.head()"
   ]
  },
  {
   "cell_type": "markdown",
   "metadata": {},
   "source": [
    "#### Splitting into train and test set"
   ]
  },
  {
   "cell_type": "code",
   "execution_count": 20,
   "metadata": {},
   "outputs": [],
   "source": [
    "from sklearn.model_selection import train_test_split\n",
    "X_train, X_test, y_train, y_test = train_test_split(X, y, test_size=0.4, random_state=100)"
   ]
  },
  {
   "cell_type": "markdown",
   "metadata": {},
   "source": [
    "### Logistic Regression"
   ]
  },
  {
   "cell_type": "code",
   "execution_count": 21,
   "metadata": {},
   "outputs": [],
   "source": [
    "from sklearn.linear_model import LogisticRegression\n",
    "logisticr = LogisticRegression(max_iter = 500).fit(X_train, y_train)"
   ]
  },
  {
   "cell_type": "code",
   "execution_count": 22,
   "metadata": {},
   "outputs": [
    {
     "data": {
      "text/plain": [
       "0.8806226047199623"
      ]
     },
     "execution_count": 22,
     "metadata": {},
     "output_type": "execute_result"
    }
   ],
   "source": [
    "predictions = logisticr.predict(X_test)\n",
    "logisticr.score(X_test, y_test)"
   ]
  },
  {
   "cell_type": "code",
   "execution_count": 23,
   "metadata": {},
   "outputs": [
    {
     "name": "stdout",
     "output_type": "stream",
     "text": [
      "A    25839\n",
      "B     3907\n",
      "Name: status, dtype: int64\n"
     ]
    }
   ],
   "source": [
    "print(y_test.value_counts())"
   ]
  },
  {
   "cell_type": "code",
   "execution_count": 24,
   "metadata": {},
   "outputs": [
    {
     "data": {
      "text/plain": [
       "A    29118\n",
       "B      628\n",
       "dtype: int64"
      ]
     },
     "execution_count": 24,
     "metadata": {},
     "output_type": "execute_result"
    }
   ],
   "source": [
    "pd.Series(predictions).value_counts()"
   ]
  },
  {
   "cell_type": "markdown",
   "metadata": {},
   "source": [
    "What happened in terms of the classes?"
   ]
  },
  {
   "cell_type": "markdown",
   "metadata": {},
   "source": [
    "### Decision Tree"
   ]
  },
  {
   "cell_type": "code",
   "execution_count": 49,
   "metadata": {},
   "outputs": [],
   "source": [
    "from sklearn.tree import DecisionTreeClassifier\n",
    "decisiontree = DecisionTreeClassifier().fit(X_train, y_train)"
   ]
  },
  {
   "cell_type": "code",
   "execution_count": 26,
   "metadata": {},
   "outputs": [
    {
     "data": {
      "text/plain": [
       "0.9947555973912459"
      ]
     },
     "execution_count": 26,
     "metadata": {},
     "output_type": "execute_result"
    }
   ],
   "source": [
    "predictions = decisiontree.predict(X_test)\n",
    "decisiontree.score(X_test, y_test)"
   ]
  },
  {
   "cell_type": "code",
   "execution_count": 27,
   "metadata": {},
   "outputs": [
    {
     "data": {
      "text/plain": [
       "A    25813\n",
       "B     3933\n",
       "dtype: int64"
      ]
     },
     "execution_count": 27,
     "metadata": {},
     "output_type": "execute_result"
    }
   ],
   "source": [
    "pd.Series(predictions).value_counts()"
   ]
  },
  {
   "cell_type": "code",
   "execution_count": 28,
   "metadata": {},
   "outputs": [
    {
     "data": {
      "text/plain": [
       "array([1.46560125e-02, 1.23423212e-01, 6.60469403e-01, 1.61404855e-03,\n",
       "       5.94555031e-04, 4.13623066e-04, 2.35811474e-03, 6.30480765e-04,\n",
       "       2.01818405e-03, 4.89477374e-04, 1.96361758e-04, 0.00000000e+00,\n",
       "       5.19590488e-04, 1.04803477e-04, 3.66812170e-04, 1.84633649e-04,\n",
       "       0.00000000e+00, 7.82336147e-02, 6.56465739e-02, 2.06008732e-02,\n",
       "       9.69774718e-03, 1.77818787e-02])"
      ]
     },
     "execution_count": 28,
     "metadata": {},
     "output_type": "execute_result"
    }
   ],
   "source": [
    "decisiontree.feature_importances_"
   ]
  },
  {
   "cell_type": "code",
   "execution_count": 29,
   "metadata": {},
   "outputs": [
    {
     "name": "stdout",
     "output_type": "stream",
     "text": [
      "{'amount_total': 0.014656012490718668, 'balance': 0.12342321185227952, 'payments': 0.6604694028813101, 'x0_PRIJEM': 0.0016140485536278136, 'x0_VYBER': 0.0005945550310770405, 'x0_VYDAJ': 0.00041362306610125534, 'x1_prevod': 0.002358114741579198, 'x1_unknown': 0.0006304807653143474, 'x1_vklad': 0.0020181840479904733, 'x1_vyber': 0.0004894773737197005, 'x2_pojistne': 0.00019636175810298294, 'x2_sankc. urok': 0.0, 'x2_sipo': 0.000519590488138483, 'x2_sluzby': 0.00010480347703821307, 'x2_unknown': 0.00036681216963374574, 'x2_urok': 0.00018463364881635618, 'x2_uver': 0.0, 'x3_12': 0.07823361467425098, 'x3_24': 0.06564657389262467, 'x3_36': 0.020600873216308144, 'x3_48': 0.009697747177566458, 'x3_60': 0.01778187869380181}\n"
     ]
    }
   ],
   "source": [
    "print(dict(zip(X.columns, decisiontree.feature_importances_)))"
   ]
  },
  {
   "cell_type": "code",
   "execution_count": 31,
   "metadata": {},
   "outputs": [
    {
     "data": {
      "image/png": "[encoded data removed]",
      "text/plain": [
       "<Figure size 1800x432 with 1 Axes>"
      ]
     },
     "metadata": {
      "needs_background": "light"
     },
     "output_type": "display_data"
    }
   ],
   "source": [
    "plt.rcParams['figure.figsize'] = [25, 6]\n",
    "plt.bar(height = decisiontree.feature_importances_, x = X.columns)\n",
    "plt.show()"
   ]
  },
  {
   "cell_type": "markdown",
   "metadata": {},
   "source": [
    "# SVM"
   ]
  },
  {
   "cell_type": "code",
   "execution_count": 32,
   "metadata": {},
   "outputs": [],
   "source": [
    "from sklearn.svm import SVC"
   ]
  },
  {
   "cell_type": "code",
   "execution_count": 47,
   "metadata": {},
   "outputs": [
    {
     "name": "stdout",
     "output_type": "stream",
     "text": [
      "0.8984737443689907\n",
      "A    28611\n",
      "B     1135\n",
      "dtype: int64\n"
     ]
    }
   ],
   "source": [
    "svm= SVC().fit(X_train, y_train)\n",
    "predictions = svm.predict(X_test)\n",
    "print(svm.score(X_test, y_test))\n",
    "print(pd.Series(predictions).value_counts())"
   ]
  },
  {
   "cell_type": "markdown",
   "metadata": {},
   "source": [
    "# K-NEAREST NEIGHBORS "
   ]
  },
  {
   "cell_type": "code",
   "execution_count": 40,
   "metadata": {},
   "outputs": [],
   "source": [
    "from sklearn.neighbors import KNeighborsClassifier"
   ]
  },
  {
   "cell_type": "code",
   "execution_count": 41,
   "metadata": {},
   "outputs": [
    {
     "name": "stdout",
     "output_type": "stream",
     "text": [
      "0.9266455994083238\n",
      "A    26677\n",
      "B     3069\n",
      "dtype: int64\n"
     ]
    }
   ],
   "source": [
    "nearest_neighbors = KNeighborsClassifier().fit(X_train, y_train)\n",
    "predictions = nearest_neighbors.predict(X_test)\n",
    "print(nearest_neighbors.score(X_test, y_test))\n",
    "print(pd.Series(predictions).value_counts())"
   ]
  },
  {
   "cell_type": "markdown",
   "metadata": {},
   "source": [
    "# SUPERVISED LEARNING REGRESSION"
   ]
  },
  {
   "cell_type": "code",
   "execution_count": 46,
   "metadata": {},
   "outputs": [],
   "source": [
    "# Decition tree\n",
    "from sklearn.tree import DecisionTreeRegressor\n",
    "# SVR\n",
    "from sklearn.svm import SVR\n",
    "# KNN \n",
    "from sklearn.neighbors import KNeighborsRegressor"
   ]
  },
  {
   "cell_type": "code",
   "execution_count": null,
   "metadata": {},
   "outputs": [],
   "source": []
  }
 ],
 "metadata": {
  "kernelspec": {
   "display_name": "Python 3",
   "language": "python",
   "name": "python3"
  },
  "language_info": {
   "codemirror_mode": {
    "name": "ipython",
    "version": 3
   },
   "file_extension": ".py",
   "mimetype": "text/x-python",
   "name": "python",
   "nbconvert_exporter": "python",
   "pygments_lexer": "ipython3",
   "version": "3.8.5"
  }
 },
 "nbformat": 4,
 "nbformat_minor": 4
}
