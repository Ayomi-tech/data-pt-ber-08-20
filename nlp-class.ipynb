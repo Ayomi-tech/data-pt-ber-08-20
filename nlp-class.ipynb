{
 "cells": [
  {
   "cell_type": "markdown",
   "metadata": {},
   "source": [
    "# Natural Language Processing"
   ]
  },
  {
   "cell_type": "code",
   "execution_count": 60,
   "metadata": {},
   "outputs": [],
   "source": [
    "import pandas as pd\n",
    "import numpy as np\n",
    "import nltk\n",
    "# nltk.download('punkt')\n",
    "# nltk.download('wordnet')\n",
    "# nltk.download('stopwords')"
   ]
  },
  {
   "cell_type": "code",
   "execution_count": 61,
   "metadata": {},
   "outputs": [],
   "source": [
    "# conda install -c anaconda nltk\n"
   ]
  },
  {
   "cell_type": "code",
   "execution_count": 62,
   "metadata": {},
   "outputs": [],
   "source": [
    "kittycat = 'We are all agreeing with the cats on this one, and she is too!'"
   ]
  },
  {
   "cell_type": "markdown",
   "metadata": {},
   "source": [
    "### Basic Cleanup"
   ]
  },
  {
   "cell_type": "code",
   "execution_count": 63,
   "metadata": {},
   "outputs": [
    {
     "name": "stdout",
     "output_type": "stream",
     "text": [
      "we are all agreeing with the cats on this one and she is too\n"
     ]
    }
   ],
   "source": [
    "import re\n",
    "def clean_up(text):\n",
    "    import re\n",
    "    text = re.sub('[^A-Za-z0-9 ]','',text)\n",
    "    text = text.lower().strip()\n",
    "    return text\n",
    "kittycat_clean = clean_up(kittycat)\n",
    "print(kittycat_clean)"
   ]
  },
  {
   "cell_type": "markdown",
   "metadata": {},
   "source": [
    "### Tokenization"
   ]
  },
  {
   "cell_type": "code",
   "execution_count": 64,
   "metadata": {},
   "outputs": [
    {
     "name": "stdout",
     "output_type": "stream",
     "text": [
      "['we', 'are', 'all', 'agreeing', 'with', 'the', 'cats', 'on', 'this', 'one', 'and', 'she', 'is', 'too']\n"
     ]
    }
   ],
   "source": [
    "from nltk.tokenize import word_tokenize\n",
    "kittycat_tokenize = word_tokenize(kittycat_clean)\n",
    "print(kittycat_tokenize)"
   ]
  },
  {
   "cell_type": "markdown",
   "metadata": {},
   "source": [
    "### Lemmatization"
   ]
  },
  {
   "cell_type": "code",
   "execution_count": 65,
   "metadata": {},
   "outputs": [],
   "source": [
    "from nltk.stem import WordNetLemmatizer\n",
    "lemmatizer = WordNetLemmatizer()"
   ]
  },
  {
   "cell_type": "code",
   "execution_count": 66,
   "metadata": {},
   "outputs": [
    {
     "name": "stdout",
     "output_type": "stream",
     "text": [
      "['we', 'are', 'all', 'agreeing', 'with', 'the', 'cat', 'on', 'this', 'one', 'and', 'she', 'is', 'too']\n"
     ]
    }
   ],
   "source": [
    "kittycat_lemmatize = [lemmatizer.lemmatize(item) for item in kittycat_tokenize]\n",
    "print(kittycat_lemmatize)"
   ]
  },
  {
   "cell_type": "markdown",
   "metadata": {},
   "source": [
    "### Stemming"
   ]
  },
  {
   "cell_type": "code",
   "execution_count": 67,
   "metadata": {},
   "outputs": [],
   "source": [
    "from nltk.stem import SnowballStemmer\n",
    "stemmer = SnowballStemmer(\"english\")"
   ]
  },
  {
   "cell_type": "code",
   "execution_count": 68,
   "metadata": {},
   "outputs": [
    {
     "name": "stdout",
     "output_type": "stream",
     "text": [
      "['we', 'are', 'all', 'agre', 'with', 'the', 'cat', 'on', 'this', 'one', 'and', 'she', 'is', 'too']\n"
     ]
    }
   ],
   "source": [
    "kittycat_stem = [stemmer.stem(item) for item in kittycat_lemmatize]\n",
    "print(kittycat_stem)"
   ]
  },
  {
   "cell_type": "markdown",
   "metadata": {},
   "source": [
    "### Removing Stopwords"
   ]
  },
  {
   "cell_type": "code",
   "execution_count": 69,
   "metadata": {},
   "outputs": [
    {
     "name": "stdout",
     "output_type": "stream",
     "text": [
      "['agre', 'cat', 'one']\n"
     ]
    }
   ],
   "source": [
    "from nltk.corpus import stopwords\n",
    "\n",
    "stopwords_list = stopwords.words(\"english\")\n",
    "kittycat_nostopwords = [item for item in kittycat_stem if not item in stopwords_list]\n",
    "print(kittycat_nostopwords)"
   ]
  },
  {
   "cell_type": "code",
   "execution_count": 70,
   "metadata": {},
   "outputs": [
    {
     "name": "stdout",
     "output_type": "stream",
     "text": [
      "['i', 'me', 'my', 'myself', 'we', 'our', 'ours', 'ourselves', 'you', \"you're\", \"you've\", \"you'll\", \"you'd\", 'your', 'yours', 'yourself', 'yourselves', 'he', 'him', 'his', 'himself', 'she', \"she's\", 'her', 'hers', 'herself', 'it', \"it's\", 'its', 'itself', 'they', 'them', 'their', 'theirs', 'themselves', 'what', 'which', 'who', 'whom', 'this', 'that', \"that'll\", 'these', 'those', 'am', 'is', 'are', 'was', 'were', 'be', 'been', 'being', 'have', 'has', 'had', 'having', 'do', 'does', 'did', 'doing', 'a', 'an', 'the', 'and', 'but', 'if', 'or', 'because', 'as', 'until', 'while', 'of', 'at', 'by', 'for', 'with', 'about', 'against', 'between', 'into', 'through', 'during', 'before', 'after', 'above', 'below', 'to', 'from', 'up', 'down', 'in', 'out', 'on', 'off', 'over', 'under', 'again', 'further', 'then', 'once', 'here', 'there', 'when', 'where', 'why', 'how', 'all', 'any', 'both', 'each', 'few', 'more', 'most', 'other', 'some', 'such', 'no', 'nor', 'not', 'only', 'own', 'same', 'so', 'than', 'too', 'very', 's', 't', 'can', 'will', 'just', 'don', \"don't\", 'should', \"should've\", 'now', 'd', 'll', 'm', 'o', 're', 've', 'y', 'ain', 'aren', \"aren't\", 'couldn', \"couldn't\", 'didn', \"didn't\", 'doesn', \"doesn't\", 'hadn', \"hadn't\", 'hasn', \"hasn't\", 'haven', \"haven't\", 'isn', \"isn't\", 'ma', 'mightn', \"mightn't\", 'mustn', \"mustn't\", 'needn', \"needn't\", 'shan', \"shan't\", 'shouldn', \"shouldn't\", 'wasn', \"wasn't\", 'weren', \"weren't\", 'won', \"won't\", 'wouldn', \"wouldn't\"]\n"
     ]
    }
   ],
   "source": [
    "print(stopwords_list)"
   ]
  },
  {
   "cell_type": "markdown",
   "metadata": {},
   "source": [
    "### Vectorizing Text"
   ]
  },
  {
   "cell_type": "code",
   "execution_count": 71,
   "metadata": {},
   "outputs": [
    {
     "name": "stdout",
     "output_type": "stream",
     "text": [
      "Help on class CountVectorizer in module sklearn.feature_extraction.text:\n",
      "\n",
      "class CountVectorizer(_VectorizerMixin, sklearn.base.BaseEstimator)\n",
      " |  CountVectorizer(*, input='content', encoding='utf-8', decode_error='strict', strip_accents=None, lowercase=True, preprocessor=None, tokenizer=None, stop_words=None, token_pattern='(?u)\\\\b\\\\w\\\\w+\\\\b', ngram_range=(1, 1), analyzer='word', max_df=1.0, min_df=1, max_features=None, vocabulary=None, binary=False, dtype=<class 'numpy.int64'>)\n",
      " |  \n",
      " |  Convert a collection of text documents to a matrix of token counts\n",
      " |  \n",
      " |  This implementation produces a sparse representation of the counts using\n",
      " |  scipy.sparse.csr_matrix.\n",
      " |  \n",
      " |  If you do not provide an a-priori dictionary and you do not use an analyzer\n",
      " |  that does some kind of feature selection then the number of features will\n",
      " |  be equal to the vocabulary size found by analyzing the data.\n",
      " |  \n",
      " |  Read more in the :ref:`User Guide <text_feature_extraction>`.\n",
      " |  \n",
      " |  Parameters\n",
      " |  ----------\n",
      " |  input : string {'filename', 'file', 'content'}, default='content'\n",
      " |      If 'filename', the sequence passed as an argument to fit is\n",
      " |      expected to be a list of filenames that need reading to fetch\n",
      " |      the raw content to analyze.\n",
      " |  \n",
      " |      If 'file', the sequence items must have a 'read' method (file-like\n",
      " |      object) that is called to fetch the bytes in memory.\n",
      " |  \n",
      " |      Otherwise the input is expected to be a sequence of items that\n",
      " |      can be of type string or byte.\n",
      " |  \n",
      " |  encoding : string, default='utf-8'\n",
      " |      If bytes or files are given to analyze, this encoding is used to\n",
      " |      decode.\n",
      " |  \n",
      " |  decode_error : {'strict', 'ignore', 'replace'}, default='strict'\n",
      " |      Instruction on what to do if a byte sequence is given to analyze that\n",
      " |      contains characters not of the given `encoding`. By default, it is\n",
      " |      'strict', meaning that a UnicodeDecodeError will be raised. Other\n",
      " |      values are 'ignore' and 'replace'.\n",
      " |  \n",
      " |  strip_accents : {'ascii', 'unicode'}, default=None\n",
      " |      Remove accents and perform other character normalization\n",
      " |      during the preprocessing step.\n",
      " |      'ascii' is a fast method that only works on characters that have\n",
      " |      an direct ASCII mapping.\n",
      " |      'unicode' is a slightly slower method that works on any characters.\n",
      " |      None (default) does nothing.\n",
      " |  \n",
      " |      Both 'ascii' and 'unicode' use NFKD normalization from\n",
      " |      :func:`unicodedata.normalize`.\n",
      " |  \n",
      " |  lowercase : bool, default=True\n",
      " |      Convert all characters to lowercase before tokenizing.\n",
      " |  \n",
      " |  preprocessor : callable, default=None\n",
      " |      Override the preprocessing (string transformation) stage while\n",
      " |      preserving the tokenizing and n-grams generation steps.\n",
      " |      Only applies if ``analyzer is not callable``.\n",
      " |  \n",
      " |  tokenizer : callable, default=None\n",
      " |      Override the string tokenization step while preserving the\n",
      " |      preprocessing and n-grams generation steps.\n",
      " |      Only applies if ``analyzer == 'word'``.\n",
      " |  \n",
      " |  stop_words : string {'english'}, list, default=None\n",
      " |      If 'english', a built-in stop word list for English is used.\n",
      " |      There are several known issues with 'english' and you should\n",
      " |      consider an alternative (see :ref:`stop_words`).\n",
      " |  \n",
      " |      If a list, that list is assumed to contain stop words, all of which\n",
      " |      will be removed from the resulting tokens.\n",
      " |      Only applies if ``analyzer == 'word'``.\n",
      " |  \n",
      " |      If None, no stop words will be used. max_df can be set to a value\n",
      " |      in the range [0.7, 1.0) to automatically detect and filter stop\n",
      " |      words based on intra corpus document frequency of terms.\n",
      " |  \n",
      " |  token_pattern : string\n",
      " |      Regular expression denoting what constitutes a \"token\", only used\n",
      " |      if ``analyzer == 'word'``. The default regexp select tokens of 2\n",
      " |      or more alphanumeric characters (punctuation is completely ignored\n",
      " |      and always treated as a token separator).\n",
      " |  \n",
      " |  ngram_range : tuple (min_n, max_n), default=(1, 1)\n",
      " |      The lower and upper boundary of the range of n-values for different\n",
      " |      word n-grams or char n-grams to be extracted. All values of n such\n",
      " |      such that min_n <= n <= max_n will be used. For example an\n",
      " |      ``ngram_range`` of ``(1, 1)`` means only unigrams, ``(1, 2)`` means\n",
      " |      unigrams and bigrams, and ``(2, 2)`` means only bigrams.\n",
      " |      Only applies if ``analyzer is not callable``.\n",
      " |  \n",
      " |  analyzer : string, {'word', 'char', 'char_wb'} or callable,             default='word'\n",
      " |      Whether the feature should be made of word n-gram or character\n",
      " |      n-grams.\n",
      " |      Option 'char_wb' creates character n-grams only from text inside\n",
      " |      word boundaries; n-grams at the edges of words are padded with space.\n",
      " |  \n",
      " |      If a callable is passed it is used to extract the sequence of features\n",
      " |      out of the raw, unprocessed input.\n",
      " |  \n",
      " |      .. versionchanged:: 0.21\n",
      " |  \n",
      " |      Since v0.21, if ``input`` is ``filename`` or ``file``, the data is\n",
      " |      first read from the file and then passed to the given callable\n",
      " |      analyzer.\n",
      " |  \n",
      " |  max_df : float in range [0.0, 1.0] or int, default=1.0\n",
      " |      When building the vocabulary ignore terms that have a document\n",
      " |      frequency strictly higher than the given threshold (corpus-specific\n",
      " |      stop words).\n",
      " |      If float, the parameter represents a proportion of documents, integer\n",
      " |      absolute counts.\n",
      " |      This parameter is ignored if vocabulary is not None.\n",
      " |  \n",
      " |  min_df : float in range [0.0, 1.0] or int, default=1\n",
      " |      When building the vocabulary ignore terms that have a document\n",
      " |      frequency strictly lower than the given threshold. This value is also\n",
      " |      called cut-off in the literature.\n",
      " |      If float, the parameter represents a proportion of documents, integer\n",
      " |      absolute counts.\n",
      " |      This parameter is ignored if vocabulary is not None.\n",
      " |  \n",
      " |  max_features : int, default=None\n",
      " |      If not None, build a vocabulary that only consider the top\n",
      " |      max_features ordered by term frequency across the corpus.\n",
      " |  \n",
      " |      This parameter is ignored if vocabulary is not None.\n",
      " |  \n",
      " |  vocabulary : Mapping or iterable, default=None\n",
      " |      Either a Mapping (e.g., a dict) where keys are terms and values are\n",
      " |      indices in the feature matrix, or an iterable over terms. If not\n",
      " |      given, a vocabulary is determined from the input documents. Indices\n",
      " |      in the mapping should not be repeated and should not have any gap\n",
      " |      between 0 and the largest index.\n",
      " |  \n",
      " |  binary : bool, default=False\n",
      " |      If True, all non zero counts are set to 1. This is useful for discrete\n",
      " |      probabilistic models that model binary events rather than integer\n",
      " |      counts.\n",
      " |  \n",
      " |  dtype : type, default=np.int64\n",
      " |      Type of the matrix returned by fit_transform() or transform().\n",
      " |  \n",
      " |  Attributes\n",
      " |  ----------\n",
      " |  vocabulary_ : dict\n",
      " |      A mapping of terms to feature indices.\n",
      " |  \n",
      " |  fixed_vocabulary_: boolean\n",
      " |      True if a fixed vocabulary of term to indices mapping\n",
      " |      is provided by the user\n",
      " |  \n",
      " |  stop_words_ : set\n",
      " |      Terms that were ignored because they either:\n",
      " |  \n",
      " |        - occurred in too many documents (`max_df`)\n",
      " |        - occurred in too few documents (`min_df`)\n",
      " |        - were cut off by feature selection (`max_features`).\n",
      " |  \n",
      " |      This is only available if no vocabulary was given.\n",
      " |  \n",
      " |  Examples\n",
      " |  --------\n",
      " |  >>> from sklearn.feature_extraction.text import CountVectorizer\n",
      " |  >>> corpus = [\n",
      " |  ...     'This is the first document.',\n",
      " |  ...     'This document is the second document.',\n",
      " |  ...     'And this is the third one.',\n",
      " |  ...     'Is this the first document?',\n",
      " |  ... ]\n",
      " |  >>> vectorizer = CountVectorizer()\n",
      " |  >>> X = vectorizer.fit_transform(corpus)\n",
      " |  >>> print(vectorizer.get_feature_names())\n",
      " |  ['and', 'document', 'first', 'is', 'one', 'second', 'the', 'third', 'this']\n",
      " |  >>> print(X.toarray())\n",
      " |  [[0 1 1 1 0 0 1 0 1]\n",
      " |   [0 2 0 1 0 1 1 0 1]\n",
      " |   [1 0 0 1 1 0 1 1 1]\n",
      " |   [0 1 1 1 0 0 1 0 1]]\n",
      " |  >>> vectorizer2 = CountVectorizer(analyzer='word', ngram_range=(2, 2))\n",
      " |  >>> X2 = vectorizer2.fit_transform(corpus)\n",
      " |  >>> print(vectorizer2.get_feature_names())\n",
      " |  ['and this', 'document is', 'first document', 'is the', 'is this',\n",
      " |  'second document', 'the first', 'the second', 'the third', 'third one',\n",
      " |   'this document', 'this is', 'this the']\n",
      " |   >>> print(X2.toarray())\n",
      " |   [[0 0 1 1 0 0 1 0 0 0 0 1 0]\n",
      " |   [0 1 0 1 0 1 0 1 0 0 1 0 0]\n",
      " |   [1 0 0 1 0 0 0 0 1 1 0 1 0]\n",
      " |   [0 0 1 0 1 0 1 0 0 0 0 0 1]]\n",
      " |  \n",
      " |  See Also\n",
      " |  --------\n",
      " |  HashingVectorizer, TfidfVectorizer\n",
      " |  \n",
      " |  Notes\n",
      " |  -----\n",
      " |  The ``stop_words_`` attribute can get large and increase the model size\n",
      " |  when pickling. This attribute is provided only for introspection and can\n",
      " |  be safely removed using delattr or set to None before pickling.\n",
      " |  \n",
      " |  Method resolution order:\n",
      " |      CountVectorizer\n",
      " |      _VectorizerMixin\n",
      " |      sklearn.base.BaseEstimator\n",
      " |      builtins.object\n",
      " |  \n",
      " |  Methods defined here:\n",
      " |  \n",
      " |  __init__(self, *, input='content', encoding='utf-8', decode_error='strict', strip_accents=None, lowercase=True, preprocessor=None, tokenizer=None, stop_words=None, token_pattern='(?u)\\\\b\\\\w\\\\w+\\\\b', ngram_range=(1, 1), analyzer='word', max_df=1.0, min_df=1, max_features=None, vocabulary=None, binary=False, dtype=<class 'numpy.int64'>)\n",
      " |      Initialize self.  See help(type(self)) for accurate signature.\n",
      " |  \n",
      " |  fit(self, raw_documents, y=None)\n",
      " |      Learn a vocabulary dictionary of all tokens in the raw documents.\n",
      " |      \n",
      " |      Parameters\n",
      " |      ----------\n",
      " |      raw_documents : iterable\n",
      " |          An iterable which yields either str, unicode or file objects.\n",
      " |      \n",
      " |      Returns\n",
      " |      -------\n",
      " |      self\n",
      " |  \n",
      " |  fit_transform(self, raw_documents, y=None)\n",
      " |      Learn the vocabulary dictionary and return document-term matrix.\n",
      " |      \n",
      " |      This is equivalent to fit followed by transform, but more efficiently\n",
      " |      implemented.\n",
      " |      \n",
      " |      Parameters\n",
      " |      ----------\n",
      " |      raw_documents : iterable\n",
      " |          An iterable which yields either str, unicode or file objects.\n",
      " |      \n",
      " |      Returns\n",
      " |      -------\n",
      " |      X : array of shape (n_samples, n_features)\n",
      " |          Document-term matrix.\n",
      " |  \n",
      " |  get_feature_names(self)\n",
      " |      Array mapping from feature integer indices to feature name.\n",
      " |      \n",
      " |      Returns\n",
      " |      -------\n",
      " |      feature_names : list\n",
      " |          A list of feature names.\n",
      " |  \n",
      " |  inverse_transform(self, X)\n",
      " |      Return terms per document with nonzero entries in X.\n",
      " |      \n",
      " |      Parameters\n",
      " |      ----------\n",
      " |      X : {array-like, sparse matrix} of shape (n_samples, n_features)\n",
      " |          Document-term matrix.\n",
      " |      \n",
      " |      Returns\n",
      " |      -------\n",
      " |      X_inv : list of arrays of shape (n_samples,)\n",
      " |          List of arrays of terms.\n",
      " |  \n",
      " |  transform(self, raw_documents)\n",
      " |      Transform documents to document-term matrix.\n",
      " |      \n",
      " |      Extract token counts out of raw text documents using the vocabulary\n",
      " |      fitted with fit or the one provided to the constructor.\n",
      " |      \n",
      " |      Parameters\n",
      " |      ----------\n",
      " |      raw_documents : iterable\n",
      " |          An iterable which yields either str, unicode or file objects.\n",
      " |      \n",
      " |      Returns\n",
      " |      -------\n",
      " |      X : sparse matrix of shape (n_samples, n_features)\n",
      " |          Document-term matrix.\n",
      " |  \n",
      " |  ----------------------------------------------------------------------\n",
      " |  Methods inherited from _VectorizerMixin:\n",
      " |  \n",
      " |  build_analyzer(self)\n",
      " |      Return a callable that handles preprocessing, tokenization\n",
      " |      and n-grams generation.\n",
      " |      \n",
      " |      Returns\n",
      " |      -------\n",
      " |      analyzer: callable\n",
      " |          A function to handle preprocessing, tokenization\n",
      " |          and n-grams generation.\n",
      " |  \n",
      " |  build_preprocessor(self)\n",
      " |      Return a function to preprocess the text before tokenization.\n",
      " |      \n",
      " |      Returns\n",
      " |      -------\n",
      " |      preprocessor: callable\n",
      " |            A function to preprocess the text before tokenization.\n",
      " |  \n",
      " |  build_tokenizer(self)\n",
      " |      Return a function that splits a string into a sequence of tokens.\n",
      " |      \n",
      " |      Returns\n",
      " |      -------\n",
      " |      tokenizer: callable\n",
      " |            A function to split a string into a sequence of tokens.\n",
      " |  \n",
      " |  decode(self, doc)\n",
      " |      Decode the input into a string of unicode symbols.\n",
      " |      \n",
      " |      The decoding strategy depends on the vectorizer parameters.\n",
      " |      \n",
      " |      Parameters\n",
      " |      ----------\n",
      " |      doc : str\n",
      " |          The string to decode.\n",
      " |      \n",
      " |      Returns\n",
      " |      -------\n",
      " |      doc: str\n",
      " |          A string of unicode symbols.\n",
      " |  \n",
      " |  get_stop_words(self)\n",
      " |      Build or fetch the effective stop words list.\n",
      " |      \n",
      " |      Returns\n",
      " |      -------\n",
      " |      stop_words: list or None\n",
      " |              A list of stop words.\n",
      " |  \n",
      " |  ----------------------------------------------------------------------\n",
      " |  Data descriptors inherited from _VectorizerMixin:\n",
      " |  \n",
      " |  __dict__\n",
      " |      dictionary for instance variables (if defined)\n",
      " |  \n",
      " |  __weakref__\n",
      " |      list of weak references to the object (if defined)\n",
      " |  \n",
      " |  ----------------------------------------------------------------------\n",
      " |  Methods inherited from sklearn.base.BaseEstimator:\n",
      " |  \n",
      " |  __getstate__(self)\n",
      " |  \n",
      " |  __repr__(self, N_CHAR_MAX=700)\n",
      " |      Return repr(self).\n",
      " |  \n",
      " |  __setstate__(self, state)\n",
      " |  \n",
      " |  get_params(self, deep=True)\n",
      " |      Get parameters for this estimator.\n",
      " |      \n",
      " |      Parameters\n",
      " |      ----------\n",
      " |      deep : bool, default=True\n",
      " |          If True, will return the parameters for this estimator and\n",
      " |          contained subobjects that are estimators.\n",
      " |      \n",
      " |      Returns\n",
      " |      -------\n",
      " |      params : mapping of string to any\n",
      " |          Parameter names mapped to their values.\n",
      " |  \n",
      " |  set_params(self, **params)\n",
      " |      Set the parameters of this estimator.\n",
      " |      \n",
      " |      The method works on simple estimators as well as on nested objects\n",
      " |      (such as pipelines). The latter have parameters of the form\n",
      " |      ``<component>__<parameter>`` so that it's possible to update each\n",
      " |      component of a nested object.\n",
      " |      \n",
      " |      Parameters\n",
      " |      ----------\n",
      " |      **params : dict\n",
      " |          Estimator parameters.\n",
      " |      \n",
      " |      Returns\n",
      " |      -------\n",
      " |      self : object\n",
      " |          Estimator instance.\n",
      "\n"
     ]
    }
   ],
   "source": [
    "from sklearn.feature_extraction.text import CountVectorizer\n",
    "vectorizer = CountVectorizer()\n",
    "help(CountVectorizer)"
   ]
  },
  {
   "cell_type": "code",
   "execution_count": 72,
   "metadata": {},
   "outputs": [],
   "source": [
    "from sklearn.feature_extraction.text import CountVectorizer\n",
    "vectorizer = CountVectorizer()"
   ]
  },
  {
   "cell_type": "code",
   "execution_count": 73,
   "metadata": {},
   "outputs": [
    {
     "data": {
      "text/plain": [
       "array([[1, 0, 0],\n",
       "       [0, 1, 0],\n",
       "       [0, 0, 1]])"
      ]
     },
     "execution_count": 73,
     "metadata": {},
     "output_type": "execute_result"
    }
   ],
   "source": [
    "vectorizer.fit_transform(kittycat_nostopwords).toarray()"
   ]
  },
  {
   "cell_type": "code",
   "execution_count": 110,
   "metadata": {},
   "outputs": [
    {
     "data": {
      "text/plain": [
       "array([[0, 1, 0, 0, 0, 0, 0, 0, 0, 1],\n",
       "       [1, 1, 0, 0, 0, 0, 0, 1, 0, 0],\n",
       "       [1, 0, 0, 0, 0, 2, 0, 0, 0, 0],\n",
       "       [1, 2, 2, 0, 1, 0, 1, 1, 0, 0],\n",
       "       [0, 0, 0, 1, 1, 0, 0, 0, 1, 1]])"
      ]
     },
     "execution_count": 110,
     "metadata": {},
     "output_type": "execute_result"
    }
   ],
   "source": [
    "vectorizer.fit_transform(['we', 'are', 'all', 'agreeing', 'with']).toarray()"
   ]
  },
  {
   "cell_type": "markdown",
   "metadata": {},
   "source": [
    "## Applying to real data: IMDB movie reviews\n",
    "\n",
    "Get the data from here: http://ai.stanford.edu/~amaas/data/sentiment/\n",
    "\n",
    "An example walkthrough: https://dropsofai.com/sentiment-analysis-with-python-bag-of-words/"
   ]
  },
  {
   "cell_type": "raw",
   "metadata": {},
   "source": [
    "Large Movie Review Dataset v1.0\n",
    "\n",
    "Overview\n",
    "\n",
    "This dataset contains movie reviews along with their associated binary\n",
    "sentiment polarity labels. It is intended to serve as a benchmark for\n",
    "sentiment classification. \n",
    "\n",
    "Dataset \n",
    "\n",
    "The core dataset contains 50,000 reviews split evenly into 25k train\n",
    "and 25k test sets. The overall distribution of labels is balanced (25k\n",
    "pos and 25k neg). We also include an additional 50,000 unlabeled\n",
    "documents for unsupervised learning. \n",
    "\n",
    "In the labeled train/test sets, a negative review has a score <= 4 out of 10,\n",
    "and a positive review has a score >= 7 out of 10. Thus reviews with\n",
    "more neutral ratings are not included in the train/test sets. In the\n",
    "unsupervised set, reviews of any rating are included and there are an\n",
    "even number of reviews > 5 and <= 5.\n",
    "\n",
    "Files\n",
    "\n",
    "There are two top-level directories [train/, test/] corresponding to\n",
    "the training and test sets. Each contains [pos/, neg/] directories for\n",
    "the reviews with binary labels positive and negative. Within these\n",
    "directories, reviews are stored in text files named following the\n",
    "convention [[id]_[rating].txt] where [id] is a unique id and [rating] is\n",
    "the star rating for that review on a 1-10 scale. For example, the file\n",
    "[test/pos/200_8.txt] is the text for a positive-labeled test set\n",
    "example with unique id 200 and star rating 8/10 from IMDb. The\n",
    "[train/unsup/] directory has 0 for all ratings because the ratings are\n",
    "omitted for this portion of the dataset."
   ]
  },
  {
   "cell_type": "code",
   "execution_count": 75,
   "metadata": {
    "scrolled": true
   },
   "outputs": [
    {
     "data": {
      "text/html": [
       "<div>\n",
       "<style scoped>\n",
       "    .dataframe tbody tr th:only-of-type {\n",
       "        vertical-align: middle;\n",
       "    }\n",
       "\n",
       "    .dataframe tbody tr th {\n",
       "        vertical-align: top;\n",
       "    }\n",
       "\n",
       "    .dataframe thead th {\n",
       "        text-align: right;\n",
       "    }\n",
       "</style>\n",
       "<table border=\"1\" class=\"dataframe\">\n",
       "  <thead>\n",
       "    <tr style=\"text-align: right;\">\n",
       "      <th></th>\n",
       "      <th>0</th>\n",
       "    </tr>\n",
       "  </thead>\n",
       "  <tbody>\n",
       "    <tr>\n",
       "      <th>0</th>\n",
       "      <td>For a movie that gets no respect there sure ar...</td>\n",
       "    </tr>\n",
       "    <tr>\n",
       "      <th>1</th>\n",
       "      <td>Bizarre horror movie filled with famous faces ...</td>\n",
       "    </tr>\n",
       "    <tr>\n",
       "      <th>2</th>\n",
       "      <td>A solid, if unremarkable film. Matthau, as Ein...</td>\n",
       "    </tr>\n",
       "    <tr>\n",
       "      <th>3</th>\n",
       "      <td>It's a strange feeling to sit alone in a theat...</td>\n",
       "    </tr>\n",
       "    <tr>\n",
       "      <th>4</th>\n",
       "      <td>You probably all already know this by now, but...</td>\n",
       "    </tr>\n",
       "  </tbody>\n",
       "</table>\n",
       "</div>"
      ],
      "text/plain": [
       "                                                   0\n",
       "0  For a movie that gets no respect there sure ar...\n",
       "1  Bizarre horror movie filled with famous faces ...\n",
       "2  A solid, if unremarkable film. Matthau, as Ein...\n",
       "3  It's a strange feeling to sit alone in a theat...\n",
       "4  You probably all already know this by now, but..."
      ]
     },
     "execution_count": 75,
     "metadata": {},
     "output_type": "execute_result"
    }
   ],
   "source": [
    "from pathlib import Path\n",
    "\n",
    "# reading positive reviews\n",
    "txt_folder = Path('aclImdb/train/pos').rglob('*.txt')\n",
    "files = [x for x in txt_folder]\n",
    "content = []\n",
    "for name in files:\n",
    "    f = open(name, 'r')  \n",
    "    content.append(f.readlines()[0])\n",
    "    f.close()\n",
    "pos = pd.DataFrame(content)\n",
    "pos.head()"
   ]
  },
  {
   "cell_type": "code",
   "execution_count": 76,
   "metadata": {},
   "outputs": [
    {
     "data": {
      "text/html": [
       "<div>\n",
       "<style scoped>\n",
       "    .dataframe tbody tr th:only-of-type {\n",
       "        vertical-align: middle;\n",
       "    }\n",
       "\n",
       "    .dataframe tbody tr th {\n",
       "        vertical-align: top;\n",
       "    }\n",
       "\n",
       "    .dataframe thead th {\n",
       "        text-align: right;\n",
       "    }\n",
       "</style>\n",
       "<table border=\"1\" class=\"dataframe\">\n",
       "  <thead>\n",
       "    <tr style=\"text-align: right;\">\n",
       "      <th></th>\n",
       "      <th>0</th>\n",
       "    </tr>\n",
       "  </thead>\n",
       "  <tbody>\n",
       "    <tr>\n",
       "      <th>0</th>\n",
       "      <td>Working with one of the best Shakespeare sourc...</td>\n",
       "    </tr>\n",
       "    <tr>\n",
       "      <th>1</th>\n",
       "      <td>Well...tremors I, the original started off in ...</td>\n",
       "    </tr>\n",
       "    <tr>\n",
       "      <th>2</th>\n",
       "      <td>Ouch! This one was a bit painful to sit throug...</td>\n",
       "    </tr>\n",
       "    <tr>\n",
       "      <th>3</th>\n",
       "      <td>I've seen some crappy movies in my life, but t...</td>\n",
       "    </tr>\n",
       "    <tr>\n",
       "      <th>4</th>\n",
       "      <td>\"Carriers\" follows the exploits of two guys an...</td>\n",
       "    </tr>\n",
       "  </tbody>\n",
       "</table>\n",
       "</div>"
      ],
      "text/plain": [
       "                                                   0\n",
       "0  Working with one of the best Shakespeare sourc...\n",
       "1  Well...tremors I, the original started off in ...\n",
       "2  Ouch! This one was a bit painful to sit throug...\n",
       "3  I've seen some crappy movies in my life, but t...\n",
       "4  \"Carriers\" follows the exploits of two guys an..."
      ]
     },
     "execution_count": 76,
     "metadata": {},
     "output_type": "execute_result"
    }
   ],
   "source": [
    "# reading negative reviews\n",
    "txt_folder = Path('aclImdb/train/neg').rglob('*.txt')\n",
    "files = [x for x in txt_folder]\n",
    "content = []\n",
    "for name in files:\n",
    "    f = open(name, 'r')  \n",
    "    content.append(f.readlines()[0])\n",
    "    f.close()\n",
    "neg = pd.DataFrame(content)\n",
    "neg.head()"
   ]
  },
  {
   "cell_type": "code",
   "execution_count": 77,
   "metadata": {},
   "outputs": [],
   "source": [
    "# we will try to predict whether a review is positive or negative\n",
    "pos['target'] = 1\n",
    "neg['target'] = 0"
   ]
  },
  {
   "cell_type": "code",
   "execution_count": 78,
   "metadata": {},
   "outputs": [],
   "source": [
    "# putting both dataframes together\n",
    "df = pd.concat([pos, neg], axis = 0)\n",
    "df.rename(columns = {0:'review'}, inplace = True) #change columne name to review"
   ]
  },
  {
   "cell_type": "code",
   "execution_count": 79,
   "metadata": {},
   "outputs": [
    {
     "data": {
      "text/html": [
       "<div>\n",
       "<style scoped>\n",
       "    .dataframe tbody tr th:only-of-type {\n",
       "        vertical-align: middle;\n",
       "    }\n",
       "\n",
       "    .dataframe tbody tr th {\n",
       "        vertical-align: top;\n",
       "    }\n",
       "\n",
       "    .dataframe thead th {\n",
       "        text-align: right;\n",
       "    }\n",
       "</style>\n",
       "<table border=\"1\" class=\"dataframe\">\n",
       "  <thead>\n",
       "    <tr style=\"text-align: right;\">\n",
       "      <th></th>\n",
       "      <th>review</th>\n",
       "      <th>target</th>\n",
       "    </tr>\n",
       "  </thead>\n",
       "  <tbody>\n",
       "    <tr>\n",
       "      <th>0</th>\n",
       "      <td>For a movie that gets no respect there sure ar...</td>\n",
       "      <td>1</td>\n",
       "    </tr>\n",
       "    <tr>\n",
       "      <th>1</th>\n",
       "      <td>Bizarre horror movie filled with famous faces ...</td>\n",
       "      <td>1</td>\n",
       "    </tr>\n",
       "    <tr>\n",
       "      <th>2</th>\n",
       "      <td>A solid, if unremarkable film. Matthau, as Ein...</td>\n",
       "      <td>1</td>\n",
       "    </tr>\n",
       "    <tr>\n",
       "      <th>3</th>\n",
       "      <td>It's a strange feeling to sit alone in a theat...</td>\n",
       "      <td>1</td>\n",
       "    </tr>\n",
       "    <tr>\n",
       "      <th>4</th>\n",
       "      <td>You probably all already know this by now, but...</td>\n",
       "      <td>1</td>\n",
       "    </tr>\n",
       "  </tbody>\n",
       "</table>\n",
       "</div>"
      ],
      "text/plain": [
       "                                              review  target\n",
       "0  For a movie that gets no respect there sure ar...       1\n",
       "1  Bizarre horror movie filled with famous faces ...       1\n",
       "2  A solid, if unremarkable film. Matthau, as Ein...       1\n",
       "3  It's a strange feeling to sit alone in a theat...       1\n",
       "4  You probably all already know this by now, but...       1"
      ]
     },
     "execution_count": 79,
     "metadata": {},
     "output_type": "execute_result"
    }
   ],
   "source": [
    "df.head()"
   ]
  },
  {
   "cell_type": "code",
   "execution_count": 89,
   "metadata": {},
   "outputs": [],
   "source": [
    "# the dataset is very large, so we are only taking a subset for analysis\n",
    "df = df.sample(frac=0.25)"
   ]
  },
  {
   "cell_type": "markdown",
   "metadata": {},
   "source": [
    "## Preparing the data"
   ]
  },
  {
   "cell_type": "code",
   "execution_count": 81,
   "metadata": {},
   "outputs": [
    {
     "data": {
      "text/plain": [
       "0    3204\n",
       "1    3046\n",
       "Name: target, dtype: int64"
      ]
     },
     "execution_count": 81,
     "metadata": {},
     "output_type": "execute_result"
    }
   ],
   "source": [
    "df['target'].value_counts()"
   ]
  },
  {
   "cell_type": "code",
   "execution_count": 82,
   "metadata": {},
   "outputs": [
    {
     "data": {
      "text/html": [
       "<div>\n",
       "<style scoped>\n",
       "    .dataframe tbody tr th:only-of-type {\n",
       "        vertical-align: middle;\n",
       "    }\n",
       "\n",
       "    .dataframe tbody tr th {\n",
       "        vertical-align: top;\n",
       "    }\n",
       "\n",
       "    .dataframe thead th {\n",
       "        text-align: right;\n",
       "    }\n",
       "</style>\n",
       "<table border=\"1\" class=\"dataframe\">\n",
       "  <thead>\n",
       "    <tr style=\"text-align: right;\">\n",
       "      <th></th>\n",
       "      <th>review</th>\n",
       "      <th>target</th>\n",
       "      <th>review_clean</th>\n",
       "    </tr>\n",
       "  </thead>\n",
       "  <tbody>\n",
       "    <tr>\n",
       "      <th>5834</th>\n",
       "      <td>Horror movie??really???? i cant believe how ba...</td>\n",
       "      <td>0</td>\n",
       "      <td>horror moviereally i cant believe how bad this...</td>\n",
       "    </tr>\n",
       "    <tr>\n",
       "      <th>6812</th>\n",
       "      <td>I can say without a shadow of a doubt that Goi...</td>\n",
       "      <td>0</td>\n",
       "      <td>i can say without a shadow of a doubt that goi...</td>\n",
       "    </tr>\n",
       "    <tr>\n",
       "      <th>3639</th>\n",
       "      <td>I rented this film out having heard of the fus...</td>\n",
       "      <td>0</td>\n",
       "      <td>i rented this film out having heard of the fus...</td>\n",
       "    </tr>\n",
       "    <tr>\n",
       "      <th>12472</th>\n",
       "      <td>Beautiful and touching movie. Rich colors, gre...</td>\n",
       "      <td>1</td>\n",
       "      <td>beautiful and touching movie rich colors great...</td>\n",
       "    </tr>\n",
       "    <tr>\n",
       "      <th>3849</th>\n",
       "      <td>A fondly-remembered melodrama  thanks chiefly...</td>\n",
       "      <td>1</td>\n",
       "      <td>a fondlyremembered melodrama  thanks chiefly t...</td>\n",
       "    </tr>\n",
       "  </tbody>\n",
       "</table>\n",
       "</div>"
      ],
      "text/plain": [
       "                                                  review  target  \\\n",
       "5834   Horror movie??really???? i cant believe how ba...       0   \n",
       "6812   I can say without a shadow of a doubt that Goi...       0   \n",
       "3639   I rented this film out having heard of the fus...       0   \n",
       "12472  Beautiful and touching movie. Rich colors, gre...       1   \n",
       "3849   A fondly-remembered melodrama  thanks chiefly...       1   \n",
       "\n",
       "                                            review_clean  \n",
       "5834   horror moviereally i cant believe how bad this...  \n",
       "6812   i can say without a shadow of a doubt that goi...  \n",
       "3639   i rented this film out having heard of the fus...  \n",
       "12472  beautiful and touching movie rich colors great...  \n",
       "3849   a fondlyremembered melodrama  thanks chiefly t...  "
      ]
     },
     "execution_count": 82,
     "metadata": {},
     "output_type": "execute_result"
    }
   ],
   "source": [
    "df['review_clean'] = df['review'].apply(clean_up) # we alreadydefine clean upat the top of our kernel\n",
    "df.head()"
   ]
  },
  {
   "cell_type": "markdown",
   "metadata": {},
   "source": [
    "## Tokenization"
   ]
  },
  {
   "cell_type": "code",
   "execution_count": 83,
   "metadata": {},
   "outputs": [
    {
     "data": {
      "text/html": [
       "<div>\n",
       "<style scoped>\n",
       "    .dataframe tbody tr th:only-of-type {\n",
       "        vertical-align: middle;\n",
       "    }\n",
       "\n",
       "    .dataframe tbody tr th {\n",
       "        vertical-align: top;\n",
       "    }\n",
       "\n",
       "    .dataframe thead th {\n",
       "        text-align: right;\n",
       "    }\n",
       "</style>\n",
       "<table border=\"1\" class=\"dataframe\">\n",
       "  <thead>\n",
       "    <tr style=\"text-align: right;\">\n",
       "      <th></th>\n",
       "      <th>review</th>\n",
       "      <th>target</th>\n",
       "      <th>review_clean</th>\n",
       "      <th>review_tokenize</th>\n",
       "    </tr>\n",
       "  </thead>\n",
       "  <tbody>\n",
       "    <tr>\n",
       "      <th>5834</th>\n",
       "      <td>Horror movie??really???? i cant believe how ba...</td>\n",
       "      <td>0</td>\n",
       "      <td>horror moviereally i cant believe how bad this...</td>\n",
       "      <td>[horror, moviereally, i, cant, believe, how, b...</td>\n",
       "    </tr>\n",
       "    <tr>\n",
       "      <th>6812</th>\n",
       "      <td>I can say without a shadow of a doubt that Goi...</td>\n",
       "      <td>0</td>\n",
       "      <td>i can say without a shadow of a doubt that goi...</td>\n",
       "      <td>[i, can, say, without, a, shadow, of, a, doubt...</td>\n",
       "    </tr>\n",
       "    <tr>\n",
       "      <th>3639</th>\n",
       "      <td>I rented this film out having heard of the fus...</td>\n",
       "      <td>0</td>\n",
       "      <td>i rented this film out having heard of the fus...</td>\n",
       "      <td>[i, rented, this, film, out, having, heard, of...</td>\n",
       "    </tr>\n",
       "    <tr>\n",
       "      <th>12472</th>\n",
       "      <td>Beautiful and touching movie. Rich colors, gre...</td>\n",
       "      <td>1</td>\n",
       "      <td>beautiful and touching movie rich colors great...</td>\n",
       "      <td>[beautiful, and, touching, movie, rich, colors...</td>\n",
       "    </tr>\n",
       "    <tr>\n",
       "      <th>3849</th>\n",
       "      <td>A fondly-remembered melodrama  thanks chiefly...</td>\n",
       "      <td>1</td>\n",
       "      <td>a fondlyremembered melodrama  thanks chiefly t...</td>\n",
       "      <td>[a, fondlyremembered, melodrama, thanks, chief...</td>\n",
       "    </tr>\n",
       "  </tbody>\n",
       "</table>\n",
       "</div>"
      ],
      "text/plain": [
       "                                                  review  target  \\\n",
       "5834   Horror movie??really???? i cant believe how ba...       0   \n",
       "6812   I can say without a shadow of a doubt that Goi...       0   \n",
       "3639   I rented this film out having heard of the fus...       0   \n",
       "12472  Beautiful and touching movie. Rich colors, gre...       1   \n",
       "3849   A fondly-remembered melodrama  thanks chiefly...       1   \n",
       "\n",
       "                                            review_clean  \\\n",
       "5834   horror moviereally i cant believe how bad this...   \n",
       "6812   i can say without a shadow of a doubt that goi...   \n",
       "3639   i rented this film out having heard of the fus...   \n",
       "12472  beautiful and touching movie rich colors great...   \n",
       "3849   a fondlyremembered melodrama  thanks chiefly t...   \n",
       "\n",
       "                                         review_tokenize  \n",
       "5834   [horror, moviereally, i, cant, believe, how, b...  \n",
       "6812   [i, can, say, without, a, shadow, of, a, doubt...  \n",
       "3639   [i, rented, this, film, out, having, heard, of...  \n",
       "12472  [beautiful, and, touching, movie, rich, colors...  \n",
       "3849   [a, fondlyremembered, melodrama, thanks, chief...  "
      ]
     },
     "execution_count": 83,
     "metadata": {},
     "output_type": "execute_result"
    }
   ],
   "source": [
    "from nltk.tokenize import word_tokenize\n",
    "df['review_tokenize'] = df['review_clean'].apply(word_tokenize)\n",
    "df.head()"
   ]
  },
  {
   "cell_type": "markdown",
   "metadata": {},
   "source": [
    "## Lemmatization"
   ]
  },
  {
   "cell_type": "code",
   "execution_count": 84,
   "metadata": {},
   "outputs": [
    {
     "data": {
      "text/html": [
       "<div>\n",
       "<style scoped>\n",
       "    .dataframe tbody tr th:only-of-type {\n",
       "        vertical-align: middle;\n",
       "    }\n",
       "\n",
       "    .dataframe tbody tr th {\n",
       "        vertical-align: top;\n",
       "    }\n",
       "\n",
       "    .dataframe thead th {\n",
       "        text-align: right;\n",
       "    }\n",
       "</style>\n",
       "<table border=\"1\" class=\"dataframe\">\n",
       "  <thead>\n",
       "    <tr style=\"text-align: right;\">\n",
       "      <th></th>\n",
       "      <th>review</th>\n",
       "      <th>target</th>\n",
       "      <th>review_clean</th>\n",
       "      <th>review_tokenize</th>\n",
       "      <th>review_lemmatize</th>\n",
       "    </tr>\n",
       "  </thead>\n",
       "  <tbody>\n",
       "    <tr>\n",
       "      <th>5834</th>\n",
       "      <td>Horror movie??really???? i cant believe how ba...</td>\n",
       "      <td>0</td>\n",
       "      <td>horror moviereally i cant believe how bad this...</td>\n",
       "      <td>[horror, moviereally, i, cant, believe, how, b...</td>\n",
       "      <td>[horror, moviereally, i, cant, believe, how, b...</td>\n",
       "    </tr>\n",
       "    <tr>\n",
       "      <th>6812</th>\n",
       "      <td>I can say without a shadow of a doubt that Goi...</td>\n",
       "      <td>0</td>\n",
       "      <td>i can say without a shadow of a doubt that goi...</td>\n",
       "      <td>[i, can, say, without, a, shadow, of, a, doubt...</td>\n",
       "      <td>[i, can, say, without, a, shadow, of, a, doubt...</td>\n",
       "    </tr>\n",
       "    <tr>\n",
       "      <th>3639</th>\n",
       "      <td>I rented this film out having heard of the fus...</td>\n",
       "      <td>0</td>\n",
       "      <td>i rented this film out having heard of the fus...</td>\n",
       "      <td>[i, rented, this, film, out, having, heard, of...</td>\n",
       "      <td>[i, rented, this, film, out, having, heard, of...</td>\n",
       "    </tr>\n",
       "    <tr>\n",
       "      <th>12472</th>\n",
       "      <td>Beautiful and touching movie. Rich colors, gre...</td>\n",
       "      <td>1</td>\n",
       "      <td>beautiful and touching movie rich colors great...</td>\n",
       "      <td>[beautiful, and, touching, movie, rich, colors...</td>\n",
       "      <td>[beautiful, and, touching, movie, rich, color,...</td>\n",
       "    </tr>\n",
       "    <tr>\n",
       "      <th>3849</th>\n",
       "      <td>A fondly-remembered melodrama  thanks chiefly...</td>\n",
       "      <td>1</td>\n",
       "      <td>a fondlyremembered melodrama  thanks chiefly t...</td>\n",
       "      <td>[a, fondlyremembered, melodrama, thanks, chief...</td>\n",
       "      <td>[a, fondlyremembered, melodrama, thanks, chief...</td>\n",
       "    </tr>\n",
       "  </tbody>\n",
       "</table>\n",
       "</div>"
      ],
      "text/plain": [
       "                                                  review  target  \\\n",
       "5834   Horror movie??really???? i cant believe how ba...       0   \n",
       "6812   I can say without a shadow of a doubt that Goi...       0   \n",
       "3639   I rented this film out having heard of the fus...       0   \n",
       "12472  Beautiful and touching movie. Rich colors, gre...       1   \n",
       "3849   A fondly-remembered melodrama  thanks chiefly...       1   \n",
       "\n",
       "                                            review_clean  \\\n",
       "5834   horror moviereally i cant believe how bad this...   \n",
       "6812   i can say without a shadow of a doubt that goi...   \n",
       "3639   i rented this film out having heard of the fus...   \n",
       "12472  beautiful and touching movie rich colors great...   \n",
       "3849   a fondlyremembered melodrama  thanks chiefly t...   \n",
       "\n",
       "                                         review_tokenize  \\\n",
       "5834   [horror, moviereally, i, cant, believe, how, b...   \n",
       "6812   [i, can, say, without, a, shadow, of, a, doubt...   \n",
       "3639   [i, rented, this, film, out, having, heard, of...   \n",
       "12472  [beautiful, and, touching, movie, rich, colors...   \n",
       "3849   [a, fondlyremembered, melodrama, thanks, chief...   \n",
       "\n",
       "                                        review_lemmatize  \n",
       "5834   [horror, moviereally, i, cant, believe, how, b...  \n",
       "6812   [i, can, say, without, a, shadow, of, a, doubt...  \n",
       "3639   [i, rented, this, film, out, having, heard, of...  \n",
       "12472  [beautiful, and, touching, movie, rich, color,...  \n",
       "3849   [a, fondlyremembered, melodrama, thanks, chief...  "
      ]
     },
     "execution_count": 84,
     "metadata": {},
     "output_type": "execute_result"
    }
   ],
   "source": [
    "from nltk.stem import WordNetLemmatizer\n",
    "lemmatizer = WordNetLemmatizer()\n",
    "\n",
    "df['review_lemmatize'] = df['review_tokenize'].apply(lambda row: [lemmatizer.lemmatize(item) for item in row])\n",
    "df.head()"
   ]
  },
  {
   "cell_type": "markdown",
   "metadata": {},
   "source": [
    "## Stemming"
   ]
  },
  {
   "cell_type": "code",
   "execution_count": 85,
   "metadata": {},
   "outputs": [
    {
     "data": {
      "text/html": [
       "<div>\n",
       "<style scoped>\n",
       "    .dataframe tbody tr th:only-of-type {\n",
       "        vertical-align: middle;\n",
       "    }\n",
       "\n",
       "    .dataframe tbody tr th {\n",
       "        vertical-align: top;\n",
       "    }\n",
       "\n",
       "    .dataframe thead th {\n",
       "        text-align: right;\n",
       "    }\n",
       "</style>\n",
       "<table border=\"1\" class=\"dataframe\">\n",
       "  <thead>\n",
       "    <tr style=\"text-align: right;\">\n",
       "      <th></th>\n",
       "      <th>review</th>\n",
       "      <th>target</th>\n",
       "      <th>review_clean</th>\n",
       "      <th>review_tokenize</th>\n",
       "      <th>review_lemmatize</th>\n",
       "      <th>review_stem</th>\n",
       "    </tr>\n",
       "  </thead>\n",
       "  <tbody>\n",
       "    <tr>\n",
       "      <th>5834</th>\n",
       "      <td>Horror movie??really???? i cant believe how ba...</td>\n",
       "      <td>0</td>\n",
       "      <td>horror moviereally i cant believe how bad this...</td>\n",
       "      <td>[horror, moviereally, i, cant, believe, how, b...</td>\n",
       "      <td>[horror, moviereally, i, cant, believe, how, b...</td>\n",
       "      <td>[horror, movier, i, cant, believ, how, bad, th...</td>\n",
       "    </tr>\n",
       "    <tr>\n",
       "      <th>6812</th>\n",
       "      <td>I can say without a shadow of a doubt that Goi...</td>\n",
       "      <td>0</td>\n",
       "      <td>i can say without a shadow of a doubt that goi...</td>\n",
       "      <td>[i, can, say, without, a, shadow, of, a, doubt...</td>\n",
       "      <td>[i, can, say, without, a, shadow, of, a, doubt...</td>\n",
       "      <td>[i, can, say, without, a, shadow, of, a, doubt...</td>\n",
       "    </tr>\n",
       "    <tr>\n",
       "      <th>3639</th>\n",
       "      <td>I rented this film out having heard of the fus...</td>\n",
       "      <td>0</td>\n",
       "      <td>i rented this film out having heard of the fus...</td>\n",
       "      <td>[i, rented, this, film, out, having, heard, of...</td>\n",
       "      <td>[i, rented, this, film, out, having, heard, of...</td>\n",
       "      <td>[i, rent, this, film, out, have, heard, of, th...</td>\n",
       "    </tr>\n",
       "    <tr>\n",
       "      <th>12472</th>\n",
       "      <td>Beautiful and touching movie. Rich colors, gre...</td>\n",
       "      <td>1</td>\n",
       "      <td>beautiful and touching movie rich colors great...</td>\n",
       "      <td>[beautiful, and, touching, movie, rich, colors...</td>\n",
       "      <td>[beautiful, and, touching, movie, rich, color,...</td>\n",
       "      <td>[beauti, and, touch, movi, rich, color, great,...</td>\n",
       "    </tr>\n",
       "    <tr>\n",
       "      <th>3849</th>\n",
       "      <td>A fondly-remembered melodrama  thanks chiefly...</td>\n",
       "      <td>1</td>\n",
       "      <td>a fondlyremembered melodrama  thanks chiefly t...</td>\n",
       "      <td>[a, fondlyremembered, melodrama, thanks, chief...</td>\n",
       "      <td>[a, fondlyremembered, melodrama, thanks, chief...</td>\n",
       "      <td>[a, fondlyrememb, melodrama, thank, chiefli, t...</td>\n",
       "    </tr>\n",
       "  </tbody>\n",
       "</table>\n",
       "</div>"
      ],
      "text/plain": [
       "                                                  review  target  \\\n",
       "5834   Horror movie??really???? i cant believe how ba...       0   \n",
       "6812   I can say without a shadow of a doubt that Goi...       0   \n",
       "3639   I rented this film out having heard of the fus...       0   \n",
       "12472  Beautiful and touching movie. Rich colors, gre...       1   \n",
       "3849   A fondly-remembered melodrama  thanks chiefly...       1   \n",
       "\n",
       "                                            review_clean  \\\n",
       "5834   horror moviereally i cant believe how bad this...   \n",
       "6812   i can say without a shadow of a doubt that goi...   \n",
       "3639   i rented this film out having heard of the fus...   \n",
       "12472  beautiful and touching movie rich colors great...   \n",
       "3849   a fondlyremembered melodrama  thanks chiefly t...   \n",
       "\n",
       "                                         review_tokenize  \\\n",
       "5834   [horror, moviereally, i, cant, believe, how, b...   \n",
       "6812   [i, can, say, without, a, shadow, of, a, doubt...   \n",
       "3639   [i, rented, this, film, out, having, heard, of...   \n",
       "12472  [beautiful, and, touching, movie, rich, colors...   \n",
       "3849   [a, fondlyremembered, melodrama, thanks, chief...   \n",
       "\n",
       "                                        review_lemmatize  \\\n",
       "5834   [horror, moviereally, i, cant, believe, how, b...   \n",
       "6812   [i, can, say, without, a, shadow, of, a, doubt...   \n",
       "3639   [i, rented, this, film, out, having, heard, of...   \n",
       "12472  [beautiful, and, touching, movie, rich, color,...   \n",
       "3849   [a, fondlyremembered, melodrama, thanks, chief...   \n",
       "\n",
       "                                             review_stem  \n",
       "5834   [horror, movier, i, cant, believ, how, bad, th...  \n",
       "6812   [i, can, say, without, a, shadow, of, a, doubt...  \n",
       "3639   [i, rent, this, film, out, have, heard, of, th...  \n",
       "12472  [beauti, and, touch, movi, rich, color, great,...  \n",
       "3849   [a, fondlyrememb, melodrama, thank, chiefli, t...  "
      ]
     },
     "execution_count": 85,
     "metadata": {},
     "output_type": "execute_result"
    }
   ],
   "source": [
    "from nltk.stem import SnowballStemmer\n",
    "stemmer = SnowballStemmer(\"english\")\n",
    "\n",
    "df['review_stem'] = df['review_lemmatize'].apply(lambda row: [stemmer.stem(item) for item in row])\n",
    "df.head()"
   ]
  },
  {
   "cell_type": "markdown",
   "metadata": {},
   "source": [
    "## Removing Stopwords"
   ]
  },
  {
   "cell_type": "code",
   "execution_count": 86,
   "metadata": {},
   "outputs": [
    {
     "data": {
      "text/html": [
       "<div>\n",
       "<style scoped>\n",
       "    .dataframe tbody tr th:only-of-type {\n",
       "        vertical-align: middle;\n",
       "    }\n",
       "\n",
       "    .dataframe tbody tr th {\n",
       "        vertical-align: top;\n",
       "    }\n",
       "\n",
       "    .dataframe thead th {\n",
       "        text-align: right;\n",
       "    }\n",
       "</style>\n",
       "<table border=\"1\" class=\"dataframe\">\n",
       "  <thead>\n",
       "    <tr style=\"text-align: right;\">\n",
       "      <th></th>\n",
       "      <th>review</th>\n",
       "      <th>target</th>\n",
       "      <th>review_clean</th>\n",
       "      <th>review_tokenize</th>\n",
       "      <th>review_lemmatize</th>\n",
       "      <th>review_stem</th>\n",
       "      <th>review_nostopwords</th>\n",
       "    </tr>\n",
       "  </thead>\n",
       "  <tbody>\n",
       "    <tr>\n",
       "      <th>5834</th>\n",
       "      <td>Horror movie??really???? i cant believe how ba...</td>\n",
       "      <td>0</td>\n",
       "      <td>horror moviereally i cant believe how bad this...</td>\n",
       "      <td>[horror, moviereally, i, cant, believe, how, b...</td>\n",
       "      <td>[horror, moviereally, i, cant, believe, how, b...</td>\n",
       "      <td>[horror, movier, i, cant, believ, how, bad, th...</td>\n",
       "      <td>[horror, movier, cant, believ, bad, movi, wasw...</td>\n",
       "    </tr>\n",
       "    <tr>\n",
       "      <th>6812</th>\n",
       "      <td>I can say without a shadow of a doubt that Goi...</td>\n",
       "      <td>0</td>\n",
       "      <td>i can say without a shadow of a doubt that goi...</td>\n",
       "      <td>[i, can, say, without, a, shadow, of, a, doubt...</td>\n",
       "      <td>[i, can, say, without, a, shadow, of, a, doubt...</td>\n",
       "      <td>[i, can, say, without, a, shadow, of, a, doubt...</td>\n",
       "      <td>[say, without, shadow, doubt, go, overboard, s...</td>\n",
       "    </tr>\n",
       "    <tr>\n",
       "      <th>3639</th>\n",
       "      <td>I rented this film out having heard of the fus...</td>\n",
       "      <td>0</td>\n",
       "      <td>i rented this film out having heard of the fus...</td>\n",
       "      <td>[i, rented, this, film, out, having, heard, of...</td>\n",
       "      <td>[i, rented, this, film, out, having, heard, of...</td>\n",
       "      <td>[i, rent, this, film, out, have, heard, of, th...</td>\n",
       "      <td>[rent, film, heard, fuss, put, academi, award,...</td>\n",
       "    </tr>\n",
       "    <tr>\n",
       "      <th>12472</th>\n",
       "      <td>Beautiful and touching movie. Rich colors, gre...</td>\n",
       "      <td>1</td>\n",
       "      <td>beautiful and touching movie rich colors great...</td>\n",
       "      <td>[beautiful, and, touching, movie, rich, colors...</td>\n",
       "      <td>[beautiful, and, touching, movie, rich, color,...</td>\n",
       "      <td>[beauti, and, touch, movi, rich, color, great,...</td>\n",
       "      <td>[beauti, touch, movi, rich, color, great, set,...</td>\n",
       "    </tr>\n",
       "    <tr>\n",
       "      <th>3849</th>\n",
       "      <td>A fondly-remembered melodrama  thanks chiefly...</td>\n",
       "      <td>1</td>\n",
       "      <td>a fondlyremembered melodrama  thanks chiefly t...</td>\n",
       "      <td>[a, fondlyremembered, melodrama, thanks, chief...</td>\n",
       "      <td>[a, fondlyremembered, melodrama, thanks, chief...</td>\n",
       "      <td>[a, fondlyrememb, melodrama, thank, chiefli, t...</td>\n",
       "      <td>[fondlyrememb, melodrama, thank, chiefli, rona...</td>\n",
       "    </tr>\n",
       "  </tbody>\n",
       "</table>\n",
       "</div>"
      ],
      "text/plain": [
       "                                                  review  target  \\\n",
       "5834   Horror movie??really???? i cant believe how ba...       0   \n",
       "6812   I can say without a shadow of a doubt that Goi...       0   \n",
       "3639   I rented this film out having heard of the fus...       0   \n",
       "12472  Beautiful and touching movie. Rich colors, gre...       1   \n",
       "3849   A fondly-remembered melodrama  thanks chiefly...       1   \n",
       "\n",
       "                                            review_clean  \\\n",
       "5834   horror moviereally i cant believe how bad this...   \n",
       "6812   i can say without a shadow of a doubt that goi...   \n",
       "3639   i rented this film out having heard of the fus...   \n",
       "12472  beautiful and touching movie rich colors great...   \n",
       "3849   a fondlyremembered melodrama  thanks chiefly t...   \n",
       "\n",
       "                                         review_tokenize  \\\n",
       "5834   [horror, moviereally, i, cant, believe, how, b...   \n",
       "6812   [i, can, say, without, a, shadow, of, a, doubt...   \n",
       "3639   [i, rented, this, film, out, having, heard, of...   \n",
       "12472  [beautiful, and, touching, movie, rich, colors...   \n",
       "3849   [a, fondlyremembered, melodrama, thanks, chief...   \n",
       "\n",
       "                                        review_lemmatize  \\\n",
       "5834   [horror, moviereally, i, cant, believe, how, b...   \n",
       "6812   [i, can, say, without, a, shadow, of, a, doubt...   \n",
       "3639   [i, rented, this, film, out, having, heard, of...   \n",
       "12472  [beautiful, and, touching, movie, rich, color,...   \n",
       "3849   [a, fondlyremembered, melodrama, thanks, chief...   \n",
       "\n",
       "                                             review_stem  \\\n",
       "5834   [horror, movier, i, cant, believ, how, bad, th...   \n",
       "6812   [i, can, say, without, a, shadow, of, a, doubt...   \n",
       "3639   [i, rent, this, film, out, have, heard, of, th...   \n",
       "12472  [beauti, and, touch, movi, rich, color, great,...   \n",
       "3849   [a, fondlyrememb, melodrama, thank, chiefli, t...   \n",
       "\n",
       "                                      review_nostopwords  \n",
       "5834   [horror, movier, cant, believ, bad, movi, wasw...  \n",
       "6812   [say, without, shadow, doubt, go, overboard, s...  \n",
       "3639   [rent, film, heard, fuss, put, academi, award,...  \n",
       "12472  [beauti, touch, movi, rich, color, great, set,...  \n",
       "3849   [fondlyrememb, melodrama, thank, chiefli, rona...  "
      ]
     },
     "execution_count": 86,
     "metadata": {},
     "output_type": "execute_result"
    }
   ],
   "source": [
    "from nltk.corpus import stopwords\n",
    "stopwords_list = stopwords.words(\"english\")\n",
    "\n",
    "df['review_nostopwords'] = df['review_stem'].apply(lambda row: [item for item in row if not item in stopwords_list])\n",
    "df.head()"
   ]
  },
  {
   "cell_type": "markdown",
   "metadata": {},
   "source": [
    "## Vectorizing Text"
   ]
  },
  {
   "cell_type": "code",
   "execution_count": 90,
   "metadata": {},
   "outputs": [],
   "source": [
    "from sklearn.feature_extraction.text import CountVectorizer\n",
    "vectorizer = CountVectorizer(analyzer=lambda x: x)"
   ]
  },
  {
   "cell_type": "code",
   "execution_count": 91,
   "metadata": {},
   "outputs": [],
   "source": [
    "X = vectorizer.fit_transform(df['review_nostopwords']).toarray()"
   ]
  },
  {
   "cell_type": "code",
   "execution_count": 92,
   "metadata": {},
   "outputs": [
    {
     "data": {
      "text/plain": [
       "array([[0, 0, 0, ..., 0, 0, 0],\n",
       "       [0, 0, 0, ..., 0, 0, 0],\n",
       "       [0, 0, 0, ..., 0, 0, 0],\n",
       "       ...,\n",
       "       [0, 0, 0, ..., 0, 0, 0],\n",
       "       [0, 0, 0, ..., 0, 0, 0],\n",
       "       [0, 0, 0, ..., 0, 0, 0]])"
      ]
     },
     "execution_count": 92,
     "metadata": {},
     "output_type": "execute_result"
    }
   ],
   "source": [
    "X"
   ]
  },
  {
   "cell_type": "markdown",
   "metadata": {},
   "source": [
    "## Splitting into train and test set"
   ]
  },
  {
   "cell_type": "code",
   "execution_count": 93,
   "metadata": {},
   "outputs": [],
   "source": [
    "from sklearn.model_selection import train_test_split\n",
    "X_train, X_test, y_train, y_test = train_test_split(X, df['target'], test_size=0.33, random_state=42)"
   ]
  },
  {
   "cell_type": "code",
   "execution_count": 98,
   "metadata": {},
   "outputs": [
    {
     "data": {
      "text/plain": [
       "LogisticRegression()"
      ]
     },
     "execution_count": 98,
     "metadata": {},
     "output_type": "execute_result"
    }
   ],
   "source": [
    "from sklearn.linear_model import LogisticRegression\n",
    "clf = LogisticRegression()\n",
    "clf.fit(X_train, y_train)"
   ]
  },
  {
   "cell_type": "code",
   "execution_count": 99,
   "metadata": {},
   "outputs": [],
   "source": [
    "pred = clf.predict(X_test)"
   ]
  },
  {
   "cell_type": "code",
   "execution_count": 109,
   "metadata": {
    "scrolled": true
   },
   "outputs": [],
   "source": [
    "# pred"
   ]
  },
  {
   "cell_type": "code",
   "execution_count": 101,
   "metadata": {},
   "outputs": [
    {
     "data": {
      "text/plain": [
       "0.8313953488372093"
      ]
     },
     "execution_count": 101,
     "metadata": {},
     "output_type": "execute_result"
    }
   ],
   "source": [
    "clf.score(X_test, y_test)"
   ]
  },
  {
   "cell_type": "code",
   "execution_count": 102,
   "metadata": {},
   "outputs": [
    {
     "name": "stdout",
     "output_type": "stream",
     "text": [
      "0.8076923076923077\n",
      "0.8502024291497976\n",
      "0.8284023668639053\n"
     ]
    }
   ],
   "source": [
    "from sklearn.metrics import precision_score, recall_score, f1_score\n",
    "\n",
    "print(precision_score(y_test, pred))\n",
    "print(recall_score(y_test, pred))\n",
    "print(f1_score(y_test, pred))"
   ]
  },
  {
   "cell_type": "code",
   "execution_count": 103,
   "metadata": {},
   "outputs": [
    {
     "data": {
      "text/plain": [
       "0.832164411600921"
      ]
     },
     "execution_count": 103,
     "metadata": {},
     "output_type": "execute_result"
    }
   ],
   "source": [
    "from sklearn.metrics import balanced_accuracy_score\n",
    "balanced_accuracy_score(y_test, pred)"
   ]
  },
  {
   "cell_type": "code",
   "execution_count": null,
   "metadata": {},
   "outputs": [],
   "source": []
  }
 ],
 "metadata": {
  "kernelspec": {
   "display_name": "Python 3",
   "language": "python",
   "name": "python3"
  },
  "language_info": {
   "codemirror_mode": {
    "name": "ipython",
    "version": 3
   },
   "file_extension": ".py",
   "mimetype": "text/x-python",
   "name": "python",
   "nbconvert_exporter": "python",
   "pygments_lexer": "ipython3",
   "version": "3.8.5"
  }
 },
 "nbformat": 4,
 "nbformat_minor": 4
}
