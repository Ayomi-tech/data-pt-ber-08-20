{
 "cells": [
  {
   "cell_type": "markdown",
   "metadata": {},
   "source": [
    "## Challenge A: Password Validator\n",
    "\n",
    "#### Description\n",
    "Your job is to create a simple password validation function, as seen on many websites.\n",
    "\n",
    "The rules for a valid password are as follows:\n",
    "\n",
    "There needs to be at least 1 uppercase letter.\n",
    "There needs to be at least 1 lowercase letter.\n",
    "There needs to be at least 1 number.\n",
    "The password needs to be at least 8 characters long.\n",
    "\n",
    "*You are permitted to use any methods to validate the password.*"
   ]
  },
  {
   "cell_type": "code",
   "execution_count": 2,
   "metadata": {},
   "outputs": [],
   "source": [
    "import numpy as np\n",
    "import string \n",
    "import random "
   ]
  },
  {
   "cell_type": "code",
   "execution_count": 368,
   "metadata": {},
   "outputs": [
    {
     "name": "stdout",
     "output_type": "stream",
     "text": [
      "Enter your password here: Ayodeji2\n",
      "Your password is fine\n"
     ]
    }
   ],
   "source": [
    "# your code here\n",
    "import re \n",
    "\n",
    "def validator():\n",
    "    while True:\n",
    "        password = input(\"Enter your password here: \")\n",
    "        \n",
    "        if re.search('[A-Za-z]',password) is None: \n",
    "            print(\"Make sure your password has a Capital letter in it\")\n",
    "            \n",
    "        if re.search('[0-9]',password) is None:\n",
    "            print(\"Make sure your password has a number in it\")\n",
    "            \n",
    "        if len(password) < 8:\n",
    "                print(\"Make sure your password is at least 8 letters\")\n",
    "                \n",
    "        else:\n",
    "            print(\"Your password is fine\")\n",
    "        break   \n",
    "        \n",
    "        \n",
    "\n",
    "validator()   "
   ]
  },
  {
   "cell_type": "markdown",
   "metadata": {},
   "source": [
    "## Challenge B: Credit Card Validator\n",
    "\n",
    "#### Description\n",
    "\n",
    "Your task is to write a program which reads credit card number prints the validation result ‘Valid’ or ‘Invalid’.\n",
    "\n",
    "A valid credit card has following features:\n",
    "\n",
    "- It should start with 4, 5 or 6\n",
    "- It should have exactly 16 digits\n",
    "- It should only consist of digits (0-9)\n",
    "- It may have digits in groups of 4 and separated by one hyphen \"-\"\n",
    "- It should NOT use any other separator like ‘ ’,‘_’, etc.\n",
    "- It should NOT have 4 or more consecutive repeated digits\n",
    "\n",
    "Valid Credit Card Numbers:\n",
    "1. 4263525778615786\n",
    "2. 5535535535559555\n",
    "3. 6344-2389-7542-9163\n",
    "\n",
    "Invalid Credit Card Numbers:\n",
    "1. 42536258796157867       \n",
    "2. 66266666626662666       \n",
    "3. 5122-2368-7954 -3214   \n",
    "4. 44244x4424442444       \n",
    "5. 0525362587961578"
   ]
  },
  {
   "cell_type": "code",
   "execution_count": 355,
   "metadata": {},
   "outputs": [
    {
     "name": "stdout",
     "output_type": "stream",
     "text": [
      "Enter your 16 digit card number: 26262627262726278\n",
      "Enter a valid 16 digit number\n"
     ]
    }
   ],
   "source": [
    "# your code here \n",
    "\n",
    "card_number = input(\"Enter your 16 digit card number: \")\n",
    "\n",
    "if len(card_number.replace(\"-\", \"\")) != 16:\n",
    "    print('Enter a valid 16 digit number')\n",
    "elif re.findall('[\\D]', card_number):\n",
    "    print(\"Your card number has to be in numeric\")\n",
    "elif  not  card_number[0] in ('4', '5', '6'):\n",
    "    print('Your card number has to start with 4, 5 or 6')\n",
    "else:\n",
    "    print(\"Your card is Valid\")\n",
    "          "
   ]
  },
  {
   "cell_type": "code",
   "execution_count": 354,
   "metadata": {},
   "outputs": [
    {
     "data": {
      "text/plain": [
       "17"
      ]
     },
     "execution_count": 354,
     "metadata": {},
     "output_type": "execute_result"
    }
   ],
   "source": [
    "len(card_number.replace(\"-\", \"\"))"
   ]
  },
  {
   "cell_type": "code",
   "execution_count": 365,
   "metadata": {},
   "outputs": [
    {
     "name": "stdout",
     "output_type": "stream",
     "text": [
      "Enter your 16 digit card number: 6344-2389-7542-9163\n",
      "Your card is Valid\n"
     ]
    }
   ],
   "source": [
    "# solved the hyphen after checking the class solution\n",
    "card_number = input(\"Enter your 16 digit card number: \")\n",
    "\n",
    "if len(card_number.replace(\"-\", \"\")) != 16:\n",
    "    print('Enter a valid 16 digit number')\n",
    "    \n",
    "elif not re.findall('[\\W]', card_number) in [[],['-','-','-']]:\n",
    "    print('Enter a valid 16 digit number')\n",
    "    \n",
    "#elif not (re.findall('[\\D]', card_number) == ['-','-','-']):\n",
    "#            print(\"Your card number has to be in numeric\")\n",
    "        \n",
    "elif  not  card_number[0] in ('4', '5', '6'):\n",
    "            print('Your card number has to start with 4, 5 or 6')\n",
    "        \n",
    "else:\n",
    "        print(\"Your card is Valid\")\n",
    "        "
   ]
  },
  {
   "cell_type": "code",
   "execution_count": null,
   "metadata": {},
   "outputs": [],
   "source": []
  },
  {
   "cell_type": "markdown",
   "metadata": {},
   "source": [
    "## Challenge C: Multiplication Table\n",
    "\n",
    "#### Description\n",
    "    \n",
    "Your task, is to create a function which returns a **NxN multiplication table**, of size N provided as a function argument.\n",
    "\n",
    "for example, when given size is 3:\n",
    "\n",
    "1 2 3\n",
    "\n",
    "2 4 6\n",
    "\n",
    "3 6 9\n",
    "\n",
    "So for the given example, the return value should be: [[1,2,3],[2,4,6],[3,6,9]]"
   ]
  },
  {
   "cell_type": "code",
   "execution_count": 326,
   "metadata": {},
   "outputs": [
    {
     "data": {
      "text/plain": [
       "[array([3., 3., 3.]), array([3., 3., 3.]), array([3., 3., 3.])]"
      ]
     },
     "execution_count": 326,
     "metadata": {},
     "output_type": "execute_result"
    }
   ],
   "source": [
    "# your code here\n",
    "import numpy as np\n",
    "\n",
    "def multi(n):\n",
    "    return [(lambda x: n * x) (x) for x in aray]\n",
    "#[(lambda n: n * x) (x) for x in range(n) ]\n",
    "\n",
    "num = multi(3)\n",
    "num"
   ]
  },
  {
   "cell_type": "code",
   "execution_count": 329,
   "metadata": {},
   "outputs": [
    {
     "data": {
      "text/plain": [
       "array([[1., 1., 1.],\n",
       "       [1., 1., 1.],\n",
       "       [1., 1., 1.]])"
      ]
     },
     "execution_count": 329,
     "metadata": {},
     "output_type": "execute_result"
    }
   ],
   "source": [
    "aray = np.ones((3,3))\n",
    "aray"
   ]
  },
  {
   "cell_type": "code",
   "execution_count": 12,
   "metadata": {},
   "outputs": [
    {
     "data": {
      "text/plain": [
       "array([[1, 2, 3],\n",
       "       [2, 4, 6],\n",
       "       [3, 6, 9]])"
      ]
     },
     "execution_count": 12,
     "metadata": {},
     "output_type": "execute_result"
    }
   ],
   "source": [
    "#Solution for Challenge C: Multiplication Table\n",
    "\n",
    "def mult_table(x):\n",
    "    return np.array([list(i*np.arange(1,x+1)) for i in range(1, x+1)])\n",
    "\n",
    "mult_table(3)"
   ]
  },
  {
   "cell_type": "markdown",
   "metadata": {},
   "source": [
    "## Challenge D: ID Assignment\n",
    "\n",
    "#### Description\n",
    "\n",
    "a) You work in a company with 100 people - to start, please create a list of people ranging from Person 1 to Person 100. For company purposes, each of these people is identified with a Personal ID, which is a combination of 2 uppercase letters and a random number of 5 digits. For each person, generate a random ID, and store it in a dictionary alongside their name (for example ('Person 5': 'AB73648')). Then sort the dictionary according to the values of their Personal IDs.\n",
    "\n",
    "b) One month later, your company changes the ID format for every employee - from now on, every person will have an ID that consists of only letters. In order to convert them, every number in the employee ID should be replaced by the corresponding uppercase letter in the alphabeth. Please write a function that accomplishes this change and apply it to the dictionary."
   ]
  },
  {
   "cell_type": "code",
   "execution_count": 333,
   "metadata": {
    "scrolled": true
   },
   "outputs": [
    {
     "name": "stdout",
     "output_type": "stream",
     "text": [
      "ABCDE\n",
      "26002\n",
      "['person 1 : ABCDE26002', 'person 2 : ABCDE26002', 'person 3 : ABCDE26002', 'person 4 : ABCDE26002', 'person 5 : ABCDE26002', 'person 6 : ABCDE26002', 'person 7 : ABCDE26002', 'person 8 : ABCDE26002', 'person 9 : ABCDE26002', 'person 10 : ABCDE26002', 'person 11 : ABCDE26002', 'person 12 : ABCDE26002', 'person 13 : ABCDE26002', 'person 14 : ABCDE26002', 'person 15 : ABCDE26002', 'person 16 : ABCDE26002', 'person 17 : ABCDE26002', 'person 18 : ABCDE26002', 'person 19 : ABCDE26002', 'person 20 : ABCDE26002', 'person 21 : ABCDE26002', 'person 22 : ABCDE26002', 'person 23 : ABCDE26002', 'person 24 : ABCDE26002', 'person 25 : ABCDE26002', 'person 26 : ABCDE26002', 'person 27 : ABCDE26002', 'person 28 : ABCDE26002', 'person 29 : ABCDE26002', 'person 30 : ABCDE26002', 'person 31 : ABCDE26002', 'person 32 : ABCDE26002', 'person 33 : ABCDE26002', 'person 34 : ABCDE26002', 'person 35 : ABCDE26002', 'person 36 : ABCDE26002', 'person 37 : ABCDE26002', 'person 38 : ABCDE26002', 'person 39 : ABCDE26002', 'person 40 : ABCDE26002', 'person 41 : ABCDE26002', 'person 42 : ABCDE26002', 'person 43 : ABCDE26002', 'person 44 : ABCDE26002', 'person 45 : ABCDE26002', 'person 46 : ABCDE26002', 'person 47 : ABCDE26002', 'person 48 : ABCDE26002', 'person 49 : ABCDE26002', 'person 50 : ABCDE26002', 'person 51 : ABCDE26002', 'person 52 : ABCDE26002', 'person 53 : ABCDE26002', 'person 54 : ABCDE26002', 'person 55 : ABCDE26002', 'person 56 : ABCDE26002', 'person 57 : ABCDE26002', 'person 58 : ABCDE26002', 'person 59 : ABCDE26002', 'person 60 : ABCDE26002', 'person 61 : ABCDE26002', 'person 62 : ABCDE26002', 'person 63 : ABCDE26002', 'person 64 : ABCDE26002', 'person 65 : ABCDE26002', 'person 66 : ABCDE26002', 'person 67 : ABCDE26002', 'person 68 : ABCDE26002', 'person 69 : ABCDE26002', 'person 70 : ABCDE26002', 'person 71 : ABCDE26002', 'person 72 : ABCDE26002', 'person 73 : ABCDE26002', 'person 74 : ABCDE26002', 'person 75 : ABCDE26002', 'person 76 : ABCDE26002', 'person 77 : ABCDE26002', 'person 78 : ABCDE26002', 'person 79 : ABCDE26002', 'person 80 : ABCDE26002', 'person 81 : ABCDE26002', 'person 82 : ABCDE26002', 'person 83 : ABCDE26002', 'person 84 : ABCDE26002', 'person 85 : ABCDE26002', 'person 86 : ABCDE26002', 'person 87 : ABCDE26002', 'person 88 : ABCDE26002', 'person 89 : ABCDE26002', 'person 90 : ABCDE26002', 'person 91 : ABCDE26002', 'person 92 : ABCDE26002', 'person 93 : ABCDE26002', 'person 94 : ABCDE26002', 'person 95 : ABCDE26002', 'person 96 : ABCDE26002', 'person 97 : ABCDE26002', 'person 98 : ABCDE26002', 'person 99 : ABCDE26002', 'person 100 : ABCDE26002']\n"
     ]
    }
   ],
   "source": [
    "# your code here\n",
    "#for i in range(1, 101):\n",
    "    #print('person' + str(i))\n",
    "df = string.ascii_uppercase[0:5]\n",
    "print(df)\n",
    "\n",
    "\n",
    "rand = random.randrange(10000,100000)\n",
    "print(rand)\n",
    "\n",
    "list = ['person ' + str(i) + \" : \" + str(df) + str(rand) for i in range(1, 101)]\n",
    "print(list)"
   ]
  },
  {
   "cell_type": "code",
   "execution_count": 11,
   "metadata": {},
   "outputs": [
    {
     "name": "stdout",
     "output_type": "stream",
     "text": [
      "{'person 1': 'JD60471', 'person 2': 'NF28195', 'person 3': 'QJ36769', 'person 4': 'UT20796', 'person 5': 'HH34151', 'person 6': 'EW19109', 'person 7': 'CU97466', 'person 8': 'HD39173', 'person 9': 'JC85918', 'person 10': 'LJ80540', 'person 11': 'YF80277', 'person 12': 'ER80096', 'person 13': 'ET50323', 'person 14': 'TJ94176', 'person 15': 'BD42239', 'person 16': 'WG13001', 'person 17': 'BQ16259', 'person 18': 'LQ56374', 'person 19': 'EI50054', 'person 20': 'CP31371', 'person 21': 'KR24903', 'person 22': 'VE68229', 'person 23': 'IU65491', 'person 24': 'CD96567', 'person 25': 'JA26195', 'person 26': 'QP71628', 'person 27': 'OX50218', 'person 28': 'IP46543', 'person 29': 'CA97490', 'person 30': 'QA14722', 'person 31': 'UN41259', 'person 32': 'RX73853', 'person 33': 'QS60108', 'person 34': 'RO55763', 'person 35': 'BF46469', 'person 36': 'IE39684', 'person 37': 'LB92592', 'person 38': 'AF20430', 'person 39': 'NV12792', 'person 40': 'XC15197', 'person 41': 'NO41911', 'person 42': 'VD93712', 'person 43': 'CJ71606', 'person 44': 'CY63459', 'person 45': 'WN82645', 'person 46': 'UG83370', 'person 47': 'DH71849', 'person 48': 'US31488', 'person 49': 'XE14548', 'person 50': 'XK70268', 'person 51': 'YS48696', 'person 52': 'YW70305', 'person 53': 'VA86680', 'person 54': 'PN42321', 'person 55': 'SK60333', 'person 56': 'UB21882', 'person 57': 'JF71773', 'person 58': 'KY46180', 'person 59': 'MX66320', 'person 60': 'IF88588', 'person 61': 'LP80515', 'person 62': 'NO92227', 'person 63': 'GH75473', 'person 64': 'LV44056', 'person 65': 'RT44641', 'person 66': 'EA19956', 'person 67': 'LC40513', 'person 68': 'CB20140', 'person 69': 'KV72136', 'person 70': 'MJ59027', 'person 71': 'QS15463', 'person 72': 'UJ60337', 'person 73': 'FP22889', 'person 74': 'WL22815', 'person 75': 'HX74251', 'person 76': 'WI87545', 'person 77': 'TQ26848', 'person 78': 'RN86076', 'person 79': 'NO59497', 'person 80': 'PE98830', 'person 81': 'SS21370', 'person 82': 'LT28098', 'person 83': 'EY15136', 'person 84': 'OB89151', 'person 85': 'YV99535', 'person 86': 'GE49031', 'person 87': 'HP72334', 'person 88': 'TB91323', 'person 89': 'CJ35954', 'person 90': 'CT89553', 'person 91': 'GR16217', 'person 92': 'PM48926', 'person 93': 'OU72144', 'person 94': 'NW50814', 'person 95': 'EE98370', 'person 96': 'DT82278', 'person 97': 'UI29407', 'person 98': 'CW41886', 'person 99': 'EW41459', 'person 100': 'MT46894'}\n",
      "{'person 1': 'JDFZDGA', 'person 2': 'NFBHAIE', 'person 3': 'QJCFGFI', 'person 4': 'UTBZGIF', 'person 5': 'HHCDAEA', 'person 6': 'EWAIAZI', 'person 7': 'CUIGDFF', 'person 8': 'HDCIAGC', 'person 9': 'JCHEIAH', 'person 10': 'LJHZEDZ', 'person 11': 'YFHZBGG', 'person 12': 'ERHZZIF', 'person 13': 'ETEZCBC', 'person 14': 'TJIDAGF', 'person 15': 'BDDBBCI', 'person 16': 'WGACZZA', 'person 17': 'BQAFBEI', 'person 18': 'LQEFCGD', 'person 19': 'EIEZZED', 'person 20': 'CPCACGA', 'person 21': 'KRBDIZC', 'person 22': 'VEFHBBI', 'person 23': 'IUFEDIA', 'person 24': 'CDIFEFG', 'person 25': 'JABFAIE', 'person 26': 'QPGAFBH', 'person 27': 'OXEZBAH', 'person 28': 'IPDFEDC', 'person 29': 'CAIGDIZ', 'person 30': 'QAADGBB', 'person 31': 'UNDABEI', 'person 32': 'RXGCHEC', 'person 33': 'QSFZAZH', 'person 34': 'ROEEGFC', 'person 35': 'BFDFDFI', 'person 36': 'IECIFHD', 'person 37': 'LBIBEIB', 'person 38': 'AFBZDCZ', 'person 39': 'NVABGIB', 'person 40': 'XCAEAIG', 'person 41': 'NODAIAA', 'person 42': 'VDICGAB', 'person 43': 'CJGAFZF', 'person 44': 'CYFCDEI', 'person 45': 'WNHBFDE', 'person 46': 'UGHCCGZ', 'person 47': 'DHGAHDI', 'person 48': 'USCADHH', 'person 49': 'XEADEDH', 'person 50': 'XKGZBFH', 'person 51': 'YSDHFIF', 'person 52': 'YWGZCZE', 'person 53': 'VAHFFHZ', 'person 54': 'PNDBCBA', 'person 55': 'SKFZCCC', 'person 56': 'UBBAHHB', 'person 57': 'JFGAGGC', 'person 58': 'KYDFAHZ', 'person 59': 'MXFFCBZ', 'person 60': 'IFHHEHH', 'person 61': 'LPHZEAE', 'person 62': 'NOIBBBG', 'person 63': 'GHGEDGC', 'person 64': 'LVDDZEF', 'person 65': 'RTDDFDA', 'person 66': 'EAAIIEF', 'person 67': 'LCDZEAC', 'person 68': 'CBBZADZ', 'person 69': 'KVGBACF', 'person 70': 'MJEIZBG', 'person 71': 'QSAEDFC', 'person 72': 'UJFZCCG', 'person 73': 'FPBBHHI', 'person 74': 'WLBBHAE', 'person 75': 'HXGDBEA', 'person 76': 'WIHGEDE', 'person 77': 'TQBFHDH', 'person 78': 'RNHFZGF', 'person 79': 'NOEIDIG', 'person 80': 'PEIHHCZ', 'person 81': 'SSBACGZ', 'person 82': 'LTBHZIH', 'person 83': 'EYAEACF', 'person 84': 'OBHIAEA', 'person 85': 'YVIIECE', 'person 86': 'GEDIZCA', 'person 87': 'HPGBCCD', 'person 88': 'TBIACBC', 'person 89': 'CJCEIED', 'person 90': 'CTHIEEC', 'person 91': 'GRAFBAG', 'person 92': 'PMDHIBF', 'person 93': 'OUGBADD', 'person 94': 'NWEZHAD', 'person 95': 'EEIHCGZ', 'person 96': 'DTHBBGH', 'person 97': 'UIBIDZG', 'person 98': 'CWDAHHF', 'person 99': 'EWDADEI', 'person 100': 'MTDFHID'}\n"
     ]
    }
   ],
   "source": [
    "#class solution for Challenge D: ID Assignment\n",
    "\n",
    "poeple = [(lambda x: 'person '+ str(x))(x) for x in range(1, 101)]\n",
    "#print(poeple)\n",
    "ids = set([string.ascii_uppercase[np.random.randint(25)] + string.ascii_uppercase[np.random.randint(25)] + str(np.random.randint(10000, 100000)) for x in range(1, 101)]) \n",
    "\n",
    "people_ids =dict(zip(poeple, ids))\n",
    "\n",
    "print(people_ids)\n",
    "\n",
    "def convert_ids(x):\n",
    "    newid = x[0:2]\n",
    "    for i in range(2, 7):\n",
    "        newid = newid + string.ascii_uppercase[int(x[i])-1]\n",
    "    return newid\n",
    "\n",
    "\n",
    "for (k, v) in people_ids.items():\n",
    "    people_ids[k] = convert_ids(v)\n",
    "\n",
    "print(people_ids)\n",
    "\n",
    "\n",
    "\n",
    "\n"
   ]
  },
  {
   "cell_type": "code",
   "execution_count": null,
   "metadata": {},
   "outputs": [],
   "source": []
  }
 ],
 "metadata": {
  "kernelspec": {
   "display_name": "Python 3",
   "language": "python",
   "name": "python3"
  },
  "language_info": {
   "codemirror_mode": {
    "name": "ipython",
    "version": 3
   },
   "file_extension": ".py",
   "mimetype": "text/x-python",
   "name": "python",
   "nbconvert_exporter": "python",
   "pygments_lexer": "ipython3",
   "version": "3.8.5"
  }
 },
 "nbformat": 4,
 "nbformat_minor": 2
}
