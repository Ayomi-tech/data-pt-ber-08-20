{
 "cells": [
  {
   "cell_type": "markdown",
   "metadata": {},
   "source": [
    "## Challenge A: Password Validator\n",
    "\n",
    "#### Description\n",
    "Your job is to create a simple password validation function, as seen on many websites.\n",
    "\n",
    "The rules for a valid password are as follows:\n",
    "\n",
    "There needs to be at least 1 uppercase letter.\n",
    "There needs to be at least 1 lowercase letter.\n",
    "There needs to be at least 1 number.\n",
    "The password needs to be at least 8 characters long.\n",
    "\n",
    "*You are permitted to use any methods to validate the password.*"
   ]
  },
  {
   "cell_type": "code",
   "execution_count": 202,
   "metadata": {},
   "outputs": [],
   "source": [
    "import numpy as np\n",
    "import string \n",
    "import random "
   ]
  },
  {
   "cell_type": "code",
   "execution_count": 327,
   "metadata": {},
   "outputs": [
    {
     "name": "stdout",
     "output_type": "stream",
     "text": [
      "Enter your password here: Ayodeji234\n",
      "Your password is fine\n"
     ]
    }
   ],
   "source": [
    "# your code here\n",
    "import re \n",
    "\n",
    "def validator():\n",
    "    while True:\n",
    "        password = input(\"Enter your password here: \")\n",
    "        \n",
    "        if re.search('[A-Za-z]',password) is None: \n",
    "            print(\"Make sure your password has a Capital letter in it\")\n",
    "            \n",
    "        if re.search('[0-9]',password) is None:\n",
    "            print(\"Make sure your password has a number in it\")\n",
    "            \n",
    "        if len(password) < 8:\n",
    "                print(\"Make sure your password is at least 8 letters\")\n",
    "                \n",
    "        else:\n",
    "            print(\"Your password is fine\")\n",
    "        break   \n",
    "        \n",
    "        \n",
    "\n",
    "validator()   "
   ]
  },
  {
   "cell_type": "markdown",
   "metadata": {},
   "source": [
    "## Challenge B: Credit Card Validator\n",
    "\n",
    "#### Description\n",
    "\n",
    "Your task is to write a program which reads credit card number prints the validation result ‘Valid’ or ‘Invalid’.\n",
    "\n",
    "A valid credit card has following features:\n",
    "\n",
    "- It should start with 4, 5 or 6\n",
    "- It should have exactly 16 digits\n",
    "- It should only consist of digits (0-9)\n",
    "- It may have digits in groups of 4 and separated by one hyphen \"-\"\n",
    "- It should NOT use any other separator like ‘ ’,‘_’, etc.\n",
    "- It should NOT have 4 or more consecutive repeated digits\n",
    "\n",
    "Valid Credit Card Numbers:\n",
    "1. 4263525778615786\n",
    "2. 5535535535559555\n",
    "3. 6344-2389-7542-9163\n",
    "\n",
    "Invalid Credit Card Numbers:\n",
    "1. 42536258796157867       \n",
    "2. 66266666626662666       \n",
    "3. 5122-2368-7954 -3214   \n",
    "4. 44244x4424442444       \n",
    "5. 0525362587961578"
   ]
  },
  {
   "cell_type": "code",
   "execution_count": 355,
   "metadata": {},
   "outputs": [
    {
     "name": "stdout",
     "output_type": "stream",
     "text": [
      "Enter your 16 digit card number: 26262627262726278\n",
      "Enter a valid 16 digit number\n"
     ]
    }
   ],
   "source": [
    "# your code here \n",
    "\n",
    "card_number = input(\"Enter your 16 digit card number: \")\n",
    "\n",
    "if len(card_number.replace(\"-\", \"\")) != 16:\n",
    "    print('Enter a valid 16 digit number')\n",
    "elif re.findall('[\\D]', card_number):\n",
    "    print(\"Your card number has to be in numeric\")\n",
    "elif  not  card_number[0] in ('4', '5', '6'):\n",
    "    print('Your card number has to start with 4, 5 or 6')\n",
    "else:\n",
    "    print(\"Your card is Valid\")\n",
    "          "
   ]
  },
  {
   "cell_type": "code",
   "execution_count": 354,
   "metadata": {},
   "outputs": [
    {
     "data": {
      "text/plain": [
       "17"
      ]
     },
     "execution_count": 354,
     "metadata": {},
     "output_type": "execute_result"
    }
   ],
   "source": [
    "len(card_number.replace(\"-\", \"\"))"
   ]
  },
  {
   "cell_type": "code",
   "execution_count": 365,
   "metadata": {},
   "outputs": [
    {
     "name": "stdout",
     "output_type": "stream",
     "text": [
      "Enter your 16 digit card number: 6344-2389-7542-9163\n",
      "Your card is Valid\n"
     ]
    }
   ],
   "source": [
    "# solved the hyphen after checking the class solution\n",
    "card_number = input(\"Enter your 16 digit card number: \")\n",
    "\n",
    "if len(card_number.replace(\"-\", \"\")) != 16:\n",
    "    print('Enter a valid 16 digit number')\n",
    "    \n",
    "elif not re.findall('[\\W]', card_number) in [[],['-','-','-']]:\n",
    "    print('Enter a valid 16 digit number')\n",
    "    \n",
    "#elif not (re.findall('[\\D]', card_number) == ['-','-','-']):\n",
    "#            print(\"Your card number has to be in numeric\")\n",
    "        \n",
    "elif  not  card_number[0] in ('4', '5', '6'):\n",
    "            print('Your card number has to start with 4, 5 or 6')\n",
    "        \n",
    "else:\n",
    "        print(\"Your card is Valid\")\n",
    "        "
   ]
  },
  {
   "cell_type": "code",
   "execution_count": null,
   "metadata": {},
   "outputs": [],
   "source": []
  },
  {
   "cell_type": "markdown",
   "metadata": {},
   "source": [
    "## Challenge C: Multiplication Table\n",
    "\n",
    "#### Description\n",
    "    \n",
    "Your task, is to create a function which returns a **NxN multiplication table**, of size N provided as a function argument.\n",
    "\n",
    "for example, when given size is 3:\n",
    "\n",
    "1 2 3\n",
    "\n",
    "2 4 6\n",
    "\n",
    "3 6 9\n",
    "\n",
    "So for the given example, the return value should be: [[1,2,3],[2,4,6],[3,6,9]]"
   ]
  },
  {
   "cell_type": "code",
   "execution_count": 326,
   "metadata": {},
   "outputs": [
    {
     "data": {
      "text/plain": [
       "[array([3., 3., 3.]), array([3., 3., 3.]), array([3., 3., 3.])]"
      ]
     },
     "execution_count": 326,
     "metadata": {},
     "output_type": "execute_result"
    }
   ],
   "source": [
    "# your code here\n",
    "import numpy as np\n",
    "\n",
    "def multi(n):\n",
    "    return [(lambda x: n * x) (x) for x in aray]\n",
    "#[(lambda n: n * x) (x) for x in range(n) ]\n",
    "\n",
    "num = multi(3)\n",
    "num"
   ]
  },
  {
   "cell_type": "code",
   "execution_count": 329,
   "metadata": {},
   "outputs": [
    {
     "data": {
      "text/plain": [
       "array([[1., 1., 1.],\n",
       "       [1., 1., 1.],\n",
       "       [1., 1., 1.]])"
      ]
     },
     "execution_count": 329,
     "metadata": {},
     "output_type": "execute_result"
    }
   ],
   "source": [
    "aray = np.ones((3,3))\n",
    "aray"
   ]
  },
  {
   "cell_type": "code",
   "execution_count": null,
   "metadata": {},
   "outputs": [],
   "source": [
    "#Solution for Challenge C: Multiplication Table\n",
    "\n",
    "def multtable(x):\n",
    "    x = int(x)\n",
    "    y = np.ones((x, x))\n",
    "    y[0:0] = np.arange(1, x+1)\n",
    "    y[0,0:] = np.arange(1, x)\n",
    "    for j in range(1, x):\n",
    "        y(i, l)="
   ]
  },
  {
   "cell_type": "markdown",
   "metadata": {},
   "source": [
    "## Challenge D: ID Assignment\n",
    "\n",
    "#### Description\n",
    "\n",
    "a) You work in a company with 100 people - to start, please create a list of people ranging from Person 1 to Person 100. For company purposes, each of these people is identified with a Personal ID, which is a combination of 2 uppercase letters and a random number of 5 digits. For each person, generate a random ID, and store it in a dictionary alongside their name (for example ('Person 5': 'AB73648')). Then sort the dictionary according to the values of their Personal IDs.\n",
    "\n",
    "b) One month later, your company changes the ID format for every employee - from now on, every person will have an ID that consists of only letters. In order to convert them, every number in the employee ID should be replaced by the corresponding uppercase letter in the alphabeth. Please write a function that accomplishes this change and apply it to the dictionary."
   ]
  },
  {
   "cell_type": "code",
   "execution_count": 333,
   "metadata": {
    "scrolled": true
   },
   "outputs": [
    {
     "name": "stdout",
     "output_type": "stream",
     "text": [
      "ABCDE\n",
      "26002\n",
      "['person 1 : ABCDE26002', 'person 2 : ABCDE26002', 'person 3 : ABCDE26002', 'person 4 : ABCDE26002', 'person 5 : ABCDE26002', 'person 6 : ABCDE26002', 'person 7 : ABCDE26002', 'person 8 : ABCDE26002', 'person 9 : ABCDE26002', 'person 10 : ABCDE26002', 'person 11 : ABCDE26002', 'person 12 : ABCDE26002', 'person 13 : ABCDE26002', 'person 14 : ABCDE26002', 'person 15 : ABCDE26002', 'person 16 : ABCDE26002', 'person 17 : ABCDE26002', 'person 18 : ABCDE26002', 'person 19 : ABCDE26002', 'person 20 : ABCDE26002', 'person 21 : ABCDE26002', 'person 22 : ABCDE26002', 'person 23 : ABCDE26002', 'person 24 : ABCDE26002', 'person 25 : ABCDE26002', 'person 26 : ABCDE26002', 'person 27 : ABCDE26002', 'person 28 : ABCDE26002', 'person 29 : ABCDE26002', 'person 30 : ABCDE26002', 'person 31 : ABCDE26002', 'person 32 : ABCDE26002', 'person 33 : ABCDE26002', 'person 34 : ABCDE26002', 'person 35 : ABCDE26002', 'person 36 : ABCDE26002', 'person 37 : ABCDE26002', 'person 38 : ABCDE26002', 'person 39 : ABCDE26002', 'person 40 : ABCDE26002', 'person 41 : ABCDE26002', 'person 42 : ABCDE26002', 'person 43 : ABCDE26002', 'person 44 : ABCDE26002', 'person 45 : ABCDE26002', 'person 46 : ABCDE26002', 'person 47 : ABCDE26002', 'person 48 : ABCDE26002', 'person 49 : ABCDE26002', 'person 50 : ABCDE26002', 'person 51 : ABCDE26002', 'person 52 : ABCDE26002', 'person 53 : ABCDE26002', 'person 54 : ABCDE26002', 'person 55 : ABCDE26002', 'person 56 : ABCDE26002', 'person 57 : ABCDE26002', 'person 58 : ABCDE26002', 'person 59 : ABCDE26002', 'person 60 : ABCDE26002', 'person 61 : ABCDE26002', 'person 62 : ABCDE26002', 'person 63 : ABCDE26002', 'person 64 : ABCDE26002', 'person 65 : ABCDE26002', 'person 66 : ABCDE26002', 'person 67 : ABCDE26002', 'person 68 : ABCDE26002', 'person 69 : ABCDE26002', 'person 70 : ABCDE26002', 'person 71 : ABCDE26002', 'person 72 : ABCDE26002', 'person 73 : ABCDE26002', 'person 74 : ABCDE26002', 'person 75 : ABCDE26002', 'person 76 : ABCDE26002', 'person 77 : ABCDE26002', 'person 78 : ABCDE26002', 'person 79 : ABCDE26002', 'person 80 : ABCDE26002', 'person 81 : ABCDE26002', 'person 82 : ABCDE26002', 'person 83 : ABCDE26002', 'person 84 : ABCDE26002', 'person 85 : ABCDE26002', 'person 86 : ABCDE26002', 'person 87 : ABCDE26002', 'person 88 : ABCDE26002', 'person 89 : ABCDE26002', 'person 90 : ABCDE26002', 'person 91 : ABCDE26002', 'person 92 : ABCDE26002', 'person 93 : ABCDE26002', 'person 94 : ABCDE26002', 'person 95 : ABCDE26002', 'person 96 : ABCDE26002', 'person 97 : ABCDE26002', 'person 98 : ABCDE26002', 'person 99 : ABCDE26002', 'person 100 : ABCDE26002']\n"
     ]
    }
   ],
   "source": [
    "# your code here\n",
    "#for i in range(1, 101):\n",
    "    #print('person' + str(i))\n",
    "df = string.ascii_uppercase[0:5]\n",
    "print(df)\n",
    "\n",
    "\n",
    "rand = random.randrange(10000,100000)\n",
    "print(rand)\n",
    "\n",
    "list = ['person ' + str(i) + \" : \" + str(df) + str(rand) for i in range(1, 101)]\n",
    "print(list)"
   ]
  },
  {
   "cell_type": "code",
   "execution_count": 337,
   "metadata": {},
   "outputs": [
    {
     "name": "stdout",
     "output_type": "stream",
     "text": [
      "['person 1', 'person 2', 'person 3', 'person 4', 'person 5', 'person 6', 'person 7', 'person 8', 'person 9', 'person 10', 'person 11', 'person 12', 'person 13', 'person 14', 'person 15', 'person 16', 'person 17', 'person 18', 'person 19', 'person 20', 'person 21', 'person 22', 'person 23', 'person 24', 'person 25', 'person 26', 'person 27', 'person 28', 'person 29', 'person 30', 'person 31', 'person 32', 'person 33', 'person 34', 'person 35', 'person 36', 'person 37', 'person 38', 'person 39', 'person 40', 'person 41', 'person 42', 'person 43', 'person 44', 'person 45', 'person 46', 'person 47', 'person 48', 'person 49', 'person 50', 'person 51', 'person 52', 'person 53', 'person 54', 'person 55', 'person 56', 'person 57', 'person 58', 'person 59', 'person 60', 'person 61', 'person 62', 'person 63', 'person 64', 'person 65', 'person 66', 'person 67', 'person 68', 'person 69', 'person 70', 'person 71', 'person 72', 'person 73', 'person 74', 'person 75', 'person 76', 'person 77', 'person 78', 'person 79', 'person 80', 'person 81', 'person 82', 'person 83', 'person 84', 'person 85', 'person 86', 'person 87', 'person 88', 'person 89', 'person 90', 'person 91', 'person 92', 'person 93', 'person 94', 'person 95', 'person 96', 'person 97', 'person 98', 'person 99', 'person 100']\n"
     ]
    }
   ],
   "source": [
    "#class solution for Challenge D: ID Assignment\n",
    "\n",
    "poeple = [(lambda x: 'person '+ str(x))(x) for x in range(1, 101)]\n",
    "print(poeple)\n",
    "ids = set([string.ascii_uppercase[np.random.randint(25)] + string.ascii_uppercase[np.random.randiant(25)] + str(np.random.randiant)])"
   ]
  },
  {
   "cell_type": "code",
   "execution_count": null,
   "metadata": {},
   "outputs": [],
   "source": []
  }
 ],
 "metadata": {
  "kernelspec": {
   "display_name": "Python 3",
   "language": "python",
   "name": "python3"
  },
  "language_info": {
   "codemirror_mode": {
    "name": "ipython",
    "version": 3
   },
   "file_extension": ".py",
   "mimetype": "text/x-python",
   "name": "python",
   "nbconvert_exporter": "python",
   "pygments_lexer": "ipython3",
   "version": "3.8.5"
  }
 },
 "nbformat": 4,
 "nbformat_minor": 2
}
