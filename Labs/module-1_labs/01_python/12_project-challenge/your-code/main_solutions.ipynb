{
 "cells": [
  {
   "cell_type": "markdown",
   "metadata": {},
   "source": [
    "## Challenge A: Password Validator\n",
    "\n",
    "#### Description\n",
    "Your job is to create a simple password validation function, as seen on many websites.\n",
    "\n",
    "The rules for a valid password are as follows:\n",
    "\n",
    "There needs to be at least 1 uppercase letter.\n",
    "There needs to be at least 1 lowercase letter.\n",
    "There needs to be at least 1 number.\n",
    "The password needs to be at least 8 characters long.\n",
    "\n",
    "*You are permitted to use any methods to validate the password.*"
   ]
  },
  {
   "cell_type": "code",
   "execution_count": 95,
   "metadata": {},
   "outputs": [],
   "source": [
    "# your code here\n",
    "\n",
    "def validate(x):\n",
    "    if sum(list(map(str.isupper, x))) >= 1:\n",
    "        if sum(list(map(str.islower, x))) >= 1:\n",
    "            if sum(list(map(str.isnumeric, x))) >= 1:\n",
    "                if len(x) >= 8:\n",
    "                    print(\"Thank you! All good.\")\n",
    "                    return True\n",
    "    print(\"This password is not valid.\")\n",
    "    return False"
   ]
  },
  {
   "cell_type": "code",
   "execution_count": 96,
   "metadata": {},
   "outputs": [
    {
     "name": "stdout",
     "output_type": "stream",
     "text": [
      "Please type your password: shs\n",
      "This password is not valid.\n"
     ]
    },
    {
     "data": {
      "text/plain": [
       "False"
      ]
     },
     "execution_count": 96,
     "metadata": {},
     "output_type": "execute_result"
    }
   ],
   "source": [
    "pw = input(\"Please type your password: \")\n",
    "validate(pw)"
   ]
  },
  {
   "cell_type": "markdown",
   "metadata": {},
   "source": [
    "## Challenge B: Credit Card Validator\n",
    "\n",
    "#### Description\n",
    "\n",
    "Your task is to write a program which reads credit card number prints the validation result ‘Valid’ or ‘Invalid’.\n",
    "\n",
    "A valid credit card has following features:\n",
    "\n",
    "- It should start with 4, 5 or 6\n",
    "- It should have exactly 16 digits\n",
    "- It should only consist of digits (0-9)\n",
    "- It may have digits in groups of 4 and separated by one hyphen \"-\"\n",
    "- It should NOT use any other separator like ‘ ’,‘_’, etc.\n",
    "- It should NOT have 4 or more consecutive repeated digits\n",
    "\n",
    "Valid Credit Card Numbers:\n",
    "1. 4263525778615786\n",
    "2. 5535535535559555\n",
    "3. 6344-2389-7542-9163\n",
    "\n",
    "Invalid Credit Card Numbers:\n",
    "1. 42536258796157867       \n",
    "2. 66266666626662666       \n",
    "3. 5122-2368-7954 -3214   \n",
    "4. 44244x4424442444       \n",
    "5. 0525362587961578"
   ]
  },
  {
   "cell_type": "code",
   "execution_count": 12,
   "metadata": {},
   "outputs": [],
   "source": [
    "# your code here (Christina)\n",
    "\n",
    "def validate_cc(x):\n",
    "    import re\n",
    "    if (x[0] in ['4', '5', '6']) & (len(x.replace('-', ''))==16) & (set(re.findall('[\\W]', x)) in [set(), {'-'}]) & ((x.isnumeric()) or (not (not re.search('\\d\\d\\d\\d-\\d\\d\\d\\d-\\d\\d\\d\\d-\\d\\d\\d\\d', x)))) & (not [re.findall(str(i)*5, x.replace('-', '')) for i in range(10)] == [[]]):\n",
    "        print(\"Thank you! All good.\")\n",
    "        return True\n",
    "    else:\n",
    "        print(\"This number is not a valid credit card number.\")\n",
    "        return False\n",
    "    "
   ]
  },
  {
   "cell_type": "code",
   "execution_count": 15,
   "metadata": {},
   "outputs": [
    {
     "name": "stdout",
     "output_type": "stream",
     "text": [
      "Please type your credit card number: 6344-2389-7542-9163\n",
      "Thank you! All good.\n"
     ]
    },
    {
     "data": {
      "text/plain": [
       "True"
      ]
     },
     "execution_count": 15,
     "metadata": {},
     "output_type": "execute_result"
    }
   ],
   "source": [
    "cc = input(\"Please type your credit card number: \")\n",
    "validate_cc(cc)"
   ]
  },
  {
   "cell_type": "code",
   "execution_count": 3,
   "metadata": {},
   "outputs": [],
   "source": [
    "# your code here (Filipa)\n",
    "\n",
    "def dashes(x):\n",
    "    s = str(x)\n",
    "    no_ints = ''.join([i for i in s if not i.isdigit()])\n",
    "    if (s[4] == '-') and (s[9] == '-') and (s[14] == '-') and (no_ints == '---') and (len(s) == 19):\n",
    "        return True\n",
    "\n",
    "def no_four_consecutive_1(num): # or find in list of 0000, 1111, 2222\n",
    "    res = \"\".join(num.split(\"-\"))\n",
    "    for i in range(len(res)):\n",
    "        try:\n",
    "            if (res[i] == res[i+1]):\n",
    "                if (res[i+1] == res[i+2]):\n",
    "                    if (res[i+2] == res[i+3]): # try with and and and...\n",
    "                        return False\n",
    "        except IndexError:\n",
    "            pass\n",
    "    return True\n",
    "\n",
    "# or...\n",
    "\n",
    "def no_four_consecutive_2(num):\n",
    "    res = \"\".join(num.split(\"-\"))\n",
    "    consecutives = [str(i)*4 for i in range(0,10)]\n",
    "    for i in consecutives:\n",
    "        if i in res:\n",
    "            return False\n",
    "    else:\n",
    "        return True"
   ]
  },
  {
   "cell_type": "code",
   "execution_count": 4,
   "metadata": {},
   "outputs": [
    {
     "name": "stdout",
     "output_type": "stream",
     "text": [
      "Credit card validator: 6344-2389-7544-4463\n",
      "Invalid\n"
     ]
    }
   ],
   "source": [
    "s = input(\"Credit card validator: \")\n",
    "\n",
    "if s[0] not in ['4', '5', '6']:\n",
    "    print ('Invalid')\n",
    "elif (len(s) != 16):\n",
    "    if dashes(s) and no_four_consecutive_2(s):\n",
    "        print('Valid')\n",
    "    else:\n",
    "        print('Invalid')\n",
    "elif len(s) == 16 and s.isdigit():\n",
    "    if not no_four_consecutive(s):\n",
    "        print('Invalid')\n",
    "    else:\n",
    "        print('Valid')"
   ]
  },
  {
   "cell_type": "markdown",
   "metadata": {},
   "source": [
    "## Challenge C: Multiplication Table\n",
    "\n",
    "#### Description\n",
    "    \n",
    "Your task, is to create a function which returns a **NxN multiplication table**, of size N provided as a function argument.\n",
    "\n",
    "for example, when given size is 3:\n",
    "\n",
    "1 2 3\n",
    "\n",
    "2 4 6\n",
    "\n",
    "3 6 9\n",
    "\n",
    "So for the given example, the return value should be: [[1,2,3],[2,4,6],[3,6,9]]"
   ]
  },
  {
   "cell_type": "code",
   "execution_count": 159,
   "metadata": {},
   "outputs": [],
   "source": [
    "# your code here\n",
    "\n",
    "def multable(x):\n",
    "    import numpy as np\n",
    "    if not x.isnumeric():\n",
    "        print(\"This is not a positive number.\")\n",
    "        return False\n",
    "    x = int(x)\n",
    "    if int(x)<=0:\n",
    "        print(\"This is not a positive number.\")\n",
    "        return False\n",
    "    y = np.ones((x,x))\n",
    "    y[0:,0] = np.arange(1,x+1)\n",
    "    y[0,0:] = np.arange(1,x+1)\n",
    "    for i in range(1, x):\n",
    "        for j in range(1, x):\n",
    "            y[i, j] = y[i, 0] * y[0, j]\n",
    "    return y"
   ]
  },
  {
   "cell_type": "code",
   "execution_count": 161,
   "metadata": {},
   "outputs": [
    {
     "name": "stdout",
     "output_type": "stream",
     "text": [
      "Please give a number larger than 0: 100\n"
     ]
    },
    {
     "data": {
      "text/plain": [
       "array([[1.000e+00, 2.000e+00, 3.000e+00, ..., 9.800e+01, 9.900e+01,\n",
       "        1.000e+02],\n",
       "       [2.000e+00, 4.000e+00, 6.000e+00, ..., 1.960e+02, 1.980e+02,\n",
       "        2.000e+02],\n",
       "       [3.000e+00, 6.000e+00, 9.000e+00, ..., 2.940e+02, 2.970e+02,\n",
       "        3.000e+02],\n",
       "       ...,\n",
       "       [9.800e+01, 1.960e+02, 2.940e+02, ..., 9.604e+03, 9.702e+03,\n",
       "        9.800e+03],\n",
       "       [9.900e+01, 1.980e+02, 2.970e+02, ..., 9.702e+03, 9.801e+03,\n",
       "        9.900e+03],\n",
       "       [1.000e+02, 2.000e+02, 3.000e+02, ..., 9.800e+03, 9.900e+03,\n",
       "        1.000e+04]])"
      ]
     },
     "execution_count": 161,
     "metadata": {},
     "output_type": "execute_result"
    }
   ],
   "source": [
    "mult = input(\"Please give a number larger than 0: \")\n",
    "multable(mult)\n"
   ]
  },
  {
   "cell_type": "code",
   "execution_count": 217,
   "metadata": {},
   "outputs": [
    {
     "data": {
      "text/plain": [
       "array([[1, 2, 3],\n",
       "       [2, 4, 6],\n",
       "       [3, 6, 9]])"
      ]
     },
     "execution_count": 217,
     "metadata": {},
     "output_type": "execute_result"
    }
   ],
   "source": [
    "# in one line of code\n",
    "\n",
    "def mult_table(x):\n",
    "    return np.array([list(i*np.arange(1,x+1)) for i in range(1, x+1)])\n",
    "\n",
    "mult_table(3)\n"
   ]
  },
  {
   "cell_type": "markdown",
   "metadata": {},
   "source": [
    "###### Challenge D: ID Assignment\n",
    "\n",
    "#### Description\n",
    "\n",
    "a) You work in a company with 100 people - to start, please create a list of people ranging from Person 1 to Person 100. For company purposes, each of these people is identified with a Personal ID, which is a combination of 2 uppercase letters and a random number of 5 digits. For each person, generate a random ID, and store it in a dictionary alongside their name (for example ('Person 5': 'AB73648')). Then sort the dictionary according to the values of their Personal IDs.\n",
    "\n",
    "b) One month later, your company changes the ID format for every employee - from now on, every person will have an ID that consists of only letters. In order to convert them, every number in the employee ID should be replaced by the corresponding uppercase letter in the alphabeth. Please write a function that accomplishes this change"
   ]
  },
  {
   "cell_type": "code",
   "execution_count": 1,
   "metadata": {
    "scrolled": true
   },
   "outputs": [
    {
     "name": "stdout",
     "output_type": "stream",
     "text": [
      "{'Person 1': 'OB39447', 'Person 2': 'FC51299', 'Person 3': 'YS97277', 'Person 4': 'PP59595', 'Person 5': 'EU99803', 'Person 6': 'OH95841', 'Person 7': 'CU26918', 'Person 8': 'UJ14124', 'Person 9': 'AA78519', 'Person 10': 'LA73096', 'Person 11': 'AQ27183', 'Person 12': 'FU91015', 'Person 13': 'YS24396', 'Person 14': 'PW14593', 'Person 15': 'JH99287', 'Person 16': 'GT30074', 'Person 17': 'DB24394', 'Person 18': 'KF26533', 'Person 19': 'VY40877', 'Person 20': 'AV73232', 'Person 21': 'XB47796', 'Person 22': 'CG75333', 'Person 23': 'LU17752', 'Person 24': 'LG53044', 'Person 25': 'GL85983', 'Person 26': 'YU70792', 'Person 27': 'PI60331', 'Person 28': 'EX57841', 'Person 29': 'WH18597', 'Person 30': 'PC61672', 'Person 31': 'DX20004', 'Person 32': 'AO26154', 'Person 33': 'KU57543', 'Person 34': 'HO99854', 'Person 35': 'XN32198', 'Person 36': 'RY40824', 'Person 37': 'BS96644', 'Person 38': 'DJ62217', 'Person 39': 'LC99657', 'Person 40': 'WW22177', 'Person 41': 'IX25961', 'Person 42': 'JD99568', 'Person 43': 'RD32374', 'Person 44': 'RH96535', 'Person 45': 'EQ26390', 'Person 46': 'DE33387', 'Person 47': 'QA51381', 'Person 48': 'NH21294', 'Person 49': 'PW21677', 'Person 50': 'BD12540', 'Person 51': 'GC31558', 'Person 52': 'WF63013', 'Person 53': 'RE59158', 'Person 54': 'OS98710', 'Person 55': 'VQ24827', 'Person 56': 'HR62455', 'Person 57': 'VM57450', 'Person 58': 'EV70016', 'Person 59': 'XC30197', 'Person 60': 'IB67275', 'Person 61': 'XT92697', 'Person 62': 'DM18170', 'Person 63': 'WP21561', 'Person 64': 'OI92169', 'Person 65': 'ST37341', 'Person 66': 'JT39772', 'Person 67': 'SK74377', 'Person 68': 'GW84883', 'Person 69': 'DI82295', 'Person 70': 'PO17515', 'Person 71': 'KW70052', 'Person 72': 'JJ55813', 'Person 73': 'AS94900', 'Person 74': 'RL61336', 'Person 75': 'QH84609', 'Person 76': 'OK42530', 'Person 77': 'TV86711', 'Person 78': 'WT84849', 'Person 79': 'GN28360', 'Person 80': 'XB96199', 'Person 81': 'NR66663', 'Person 82': 'VB73598', 'Person 83': 'TP39935', 'Person 84': 'JA68799', 'Person 85': 'NA43149', 'Person 86': 'RV69087', 'Person 87': 'CB32333', 'Person 88': 'HG22070', 'Person 89': 'JY53328', 'Person 90': 'IE84202', 'Person 91': 'UX29431', 'Person 92': 'CF66436', 'Person 93': 'TE95588', 'Person 94': 'NS93876', 'Person 95': 'KC95539', 'Person 96': 'JX35666', 'Person 97': 'RJ42413', 'Person 98': 'DN79949', 'Person 99': 'DM48362', 'Person 100': 'JD50222'}\n",
      "{'Person 1': 'OBCIDDG', 'Person 2': 'FCEABII', 'Person 3': 'YSIGBGG', 'Person 4': 'PPEIEIE', 'Person 5': 'EUIIHZC', 'Person 6': 'OHIEHDA', 'Person 7': 'CUBFIAH', 'Person 8': 'UJADABD', 'Person 9': 'AAGHEAI', 'Person 10': 'LAGCZIF', 'Person 11': 'AQBGAHC', 'Person 12': 'FUIAZAE', 'Person 13': 'YSBDCIF', 'Person 14': 'PWADEIC', 'Person 15': 'JHIIBHG', 'Person 16': 'GTCZZGD', 'Person 17': 'DBBDCID', 'Person 18': 'KFBFECC', 'Person 19': 'VYDZHGG', 'Person 20': 'AVGCBCB', 'Person 21': 'XBDGGIF', 'Person 22': 'CGGECCC', 'Person 23': 'LUAGGEB', 'Person 24': 'LGECZDD', 'Person 25': 'GLHEIHC', 'Person 26': 'YUGZGIB', 'Person 27': 'PIFZCCA', 'Person 28': 'EXEGHDA', 'Person 29': 'WHAHEIG', 'Person 30': 'PCFAFGB', 'Person 31': 'DXBZZZD', 'Person 32': 'AOBFAED', 'Person 33': 'KUEGEDC', 'Person 34': 'HOIIHED', 'Person 35': 'XNCBAIH', 'Person 36': 'RYDZHBD', 'Person 37': 'BSIFFDD', 'Person 38': 'DJFBBAG', 'Person 39': 'LCIIFEG', 'Person 40': 'WWBBAGG', 'Person 41': 'IXBEIFA', 'Person 42': 'JDIIEFH', 'Person 43': 'RDCBCGD', 'Person 44': 'RHIFECE', 'Person 45': 'EQBFCIZ', 'Person 46': 'DECCCHG', 'Person 47': 'QAEACHA', 'Person 48': 'NHBABID', 'Person 49': 'PWBAFGG', 'Person 50': 'BDABEDZ', 'Person 51': 'GCCAEEH', 'Person 52': 'WFFCZAC', 'Person 53': 'REEIAEH', 'Person 54': 'OSIHGAZ', 'Person 55': 'VQBDHBG', 'Person 56': 'HRFBDEE', 'Person 57': 'VMEGDEZ', 'Person 58': 'EVGZZAF', 'Person 59': 'XCCZAIG', 'Person 60': 'IBFGBGE', 'Person 61': 'XTIBFIG', 'Person 62': 'DMAHAGZ', 'Person 63': 'WPBAEFA', 'Person 64': 'OIIBAFI', 'Person 65': 'STCGCDA', 'Person 66': 'JTCIGGB', 'Person 67': 'SKGDCGG', 'Person 68': 'GWHDHHC', 'Person 69': 'DIHBBIE', 'Person 70': 'POAGEAE', 'Person 71': 'KWGZZEB', 'Person 72': 'JJEEHAC', 'Person 73': 'ASIDIZZ', 'Person 74': 'RLFACCF', 'Person 75': 'QHHDFZI', 'Person 76': 'OKDBECZ', 'Person 77': 'TVHFGAA', 'Person 78': 'WTHDHDI', 'Person 79': 'GNBHCFZ', 'Person 80': 'XBIFAII', 'Person 81': 'NRFFFFC', 'Person 82': 'VBGCEIH', 'Person 83': 'TPCIICE', 'Person 84': 'JAFHGII', 'Person 85': 'NADCADI', 'Person 86': 'RVFIZHG', 'Person 87': 'CBCBCCC', 'Person 88': 'HGBBZGZ', 'Person 89': 'JYECCBH', 'Person 90': 'IEHDBZB', 'Person 91': 'UXBIDCA', 'Person 92': 'CFFFDCF', 'Person 93': 'TEIEEHH', 'Person 94': 'NSICHGF', 'Person 95': 'KCIEECI', 'Person 96': 'JXCEFFF', 'Person 97': 'RJDBDAC', 'Person 98': 'DNGIIDI', 'Person 99': 'DMDHCFB', 'Person 100': 'JDEZBBB'}\n"
     ]
    }
   ],
   "source": [
    "# your code here\n",
    "import numpy as np\n",
    "import string\n",
    "\n",
    "people = [(lambda x: \"Person \" + str(x))(x) for x in range(1, 101)]\n",
    "ids = set([string.ascii_uppercase[np.random.randint(25)] + string.ascii_uppercase[np.random.randint(25)] + str(np.random.randint(10000, 100000)) for x in range(1, 101)]) \n",
    "\n",
    "people_ids = dict(zip(people, ids))\n",
    "print(people_ids)\n",
    "\n",
    "def convert_ids(x):\n",
    "    newid = x[0:2]\n",
    "    for i in range(2, 7):\n",
    "        newid = newid + string.ascii_uppercase[int(x[i])-1]\n",
    "    return newid\n",
    "\n",
    "\n",
    "for (k, v) in people_ids.items():\n",
    "    people_ids[k] = convert_ids(v)\n",
    "\n",
    "print(people_ids)"
   ]
  },
  {
   "cell_type": "code",
   "execution_count": null,
   "metadata": {},
   "outputs": [],
   "source": []
  }
 ],
 "metadata": {
  "kernelspec": {
   "display_name": "Python 3",
   "language": "python",
   "name": "python3"
  },
  "language_info": {
   "codemirror_mode": {
    "name": "ipython",
    "version": 3
   },
   "file_extension": ".py",
   "mimetype": "text/x-python",
   "name": "python",
   "nbconvert_exporter": "python",
   "pygments_lexer": "ipython3",
   "version": "3.8.5"
  }
 },
 "nbformat": 4,
 "nbformat_minor": 2
}
