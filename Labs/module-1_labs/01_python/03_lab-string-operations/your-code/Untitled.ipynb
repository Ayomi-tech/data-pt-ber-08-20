{
 "cells": [
  {
   "cell_type": "code",
   "execution_count": 2,
   "metadata": {},
   "outputs": [],
   "source": [
    "import re"
   ]
  },
  {
   "cell_type": "code",
   "execution_count": 5,
   "metadata": {
    "scrolled": true
   },
   "outputs": [
    {
     "name": "stdout",
     "output_type": "stream",
     "text": [
      "\\b(?:cat|caterpillar|monkey|monk|doggy|doggo|dog)\\b\n",
      "['cat', 'dog', 'monkey']\n"
     ]
    }
   ],
   "source": [
    "words = ['cat', 'caterpillar', 'monkey', 'monk', 'doggy', 'doggo', 'dog']\n",
    "your_text = 'I like cat, dog, rabbit, antelope, and monkey, but not giraffes'\n",
    "\n",
    "regex = r'\\b(?:' + '|'.join(words) + r')\\b'\n",
    "print(regex)\n",
    "\n",
    "matches = re.findall(regex, your_text)\n",
    "print(matches)"
   ]
  },
  {
   "cell_type": "code",
   "execution_count": null,
   "metadata": {},
   "outputs": [],
   "source": []
  }
 ],
 "metadata": {
  "kernelspec": {
   "display_name": "Python 3",
   "language": "python",
   "name": "python3"
  },
  "language_info": {
   "codemirror_mode": {
    "name": "ipython",
    "version": 3
   },
   "file_extension": ".py",
   "mimetype": "text/x-python",
   "name": "python",
   "nbconvert_exporter": "python",
   "pygments_lexer": "ipython3",
   "version": "3.7.6"
  }
 },
 "nbformat": 4,
 "nbformat_minor": 4
}
