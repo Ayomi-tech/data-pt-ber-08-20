{
 "cells": [
  {
   "cell_type": "code",
   "execution_count": 6,
   "metadata": {},
   "outputs": [],
   "source": [
    "import json\n",
    "import tweepy\n",
    "import pandas as pd"
   ]
  },
  {
   "cell_type": "markdown",
   "metadata": {},
   "source": [
    "# Twitter API"
   ]
  },
  {
   "cell_type": "markdown",
   "metadata": {},
   "source": [
    "GENERATE YOUR CREDEENTIALS ONLINE!"
   ]
  },
  {
   "cell_type": "code",
   "execution_count": 7,
   "metadata": {},
   "outputs": [],
   "source": [
    "API_KEY = 'DggUVIU6gc9KvMAzecLjvMAex'\n",
    "API_SECRET = 'gc6JHbYgeIWDPZdCNXtEg3s1QMDlcq23lJBhMIEMixutkNWMCa'\n",
    "ACCESS_TOKEN = '1314107321166041088-3cSBNRNwti8iRJx20C5rjmriYHAh1M'\n",
    "ACCESS_TOKEN_SECRET = 'soilq1nTuu332IqvUhsbpddcW2BFSVRC8yb0hMUUXTT5U'"
   ]
  },
  {
   "cell_type": "code",
   "execution_count": 8,
   "metadata": {
    "scrolled": true
   },
   "outputs": [
    {
     "name": "stdout",
     "output_type": "stream",
     "text": [
      "DggUVIU6gc9KvMAzecLjvMAex\n"
     ]
    }
   ],
   "source": [
    "print(API_KEY)"
   ]
  },
  {
   "cell_type": "code",
   "execution_count": 11,
   "metadata": {},
   "outputs": [],
   "source": [
    "auth = tweepy.OAuthHandler(API_KEY, API_SECRET)\n",
    "auth.set_access_token(ACCESS_TOKEN, ACCESS_TOKEN_SECRET)\n",
    "api = tweepy.API(auth)"
   ]
  },
  {
   "cell_type": "code",
   "execution_count": 12,
   "metadata": {},
   "outputs": [
    {
     "data": {
      "text/plain": [
       "User(_api=<tweepy.api.API object at 0x7fcbc039a160>, _json={'id': 1314107321166041088, 'id_str': '1314107321166041088', 'name': 'Ayotech', 'screen_name': 'ayo96170963', 'location': 'Germany 🇩🇪 ', 'profile_location': None, 'description': 'Data Analyst', 'url': None, 'entities': {'description': {'urls': []}}, 'protected': False, 'followers_count': 0, 'friends_count': 11, 'listed_count': 0, 'created_at': 'Thu Oct 08 07:36:41 +0000 2020', 'favourites_count': 0, 'utc_offset': None, 'time_zone': None, 'geo_enabled': False, 'verified': False, 'statuses_count': 0, 'lang': None, 'contributors_enabled': False, 'is_translator': False, 'is_translation_enabled': False, 'profile_background_color': 'F5F8FA', 'profile_background_image_url': None, 'profile_background_image_url_https': None, 'profile_background_tile': False, 'profile_image_url': 'http://abs.twimg.com/sticky/default_profile_images/default_profile_normal.png', 'profile_image_url_https': 'https://abs.twimg.com/sticky/default_profile_images/default_profile_normal.png', 'profile_link_color': '1DA1F2', 'profile_sidebar_border_color': 'C0DEED', 'profile_sidebar_fill_color': 'DDEEF6', 'profile_text_color': '333333', 'profile_use_background_image': True, 'has_extended_profile': True, 'default_profile': True, 'default_profile_image': True, 'following': False, 'follow_request_sent': False, 'notifications': False, 'translator_type': 'none', 'suspended': False, 'needs_phone_verification': False}, id=1314107321166041088, id_str='1314107321166041088', name='Ayotech', screen_name='ayo96170963', location='Germany 🇩🇪 ', profile_location=None, description='Data Analyst', url=None, entities={'description': {'urls': []}}, protected=False, followers_count=0, friends_count=11, listed_count=0, created_at=datetime.datetime(2020, 10, 8, 7, 36, 41), favourites_count=0, utc_offset=None, time_zone=None, geo_enabled=False, verified=False, statuses_count=0, lang=None, contributors_enabled=False, is_translator=False, is_translation_enabled=False, profile_background_color='F5F8FA', profile_background_image_url=None, profile_background_image_url_https=None, profile_background_tile=False, profile_image_url='http://abs.twimg.com/sticky/default_profile_images/default_profile_normal.png', profile_image_url_https='https://abs.twimg.com/sticky/default_profile_images/default_profile_normal.png', profile_link_color='1DA1F2', profile_sidebar_border_color='C0DEED', profile_sidebar_fill_color='DDEEF6', profile_text_color='333333', profile_use_background_image=True, has_extended_profile=True, default_profile=True, default_profile_image=True, following=False, follow_request_sent=False, notifications=False, translator_type='none', suspended=False, needs_phone_verification=False)"
      ]
     },
     "execution_count": 12,
     "metadata": {},
     "output_type": "execute_result"
    }
   ],
   "source": [
    "api.me()"
   ]
  },
  {
   "cell_type": "code",
   "execution_count": 22,
   "metadata": {},
   "outputs": [
    {
     "data": {
      "text/html": [
       "<div>\n",
       "<style scoped>\n",
       "    .dataframe tbody tr th:only-of-type {\n",
       "        vertical-align: middle;\n",
       "    }\n",
       "\n",
       "    .dataframe tbody tr th {\n",
       "        vertical-align: top;\n",
       "    }\n",
       "\n",
       "    .dataframe thead th {\n",
       "        text-align: right;\n",
       "    }\n",
       "</style>\n",
       "<table border=\"1\" class=\"dataframe\">\n",
       "  <thead>\n",
       "    <tr style=\"text-align: right;\">\n",
       "      <th></th>\n",
       "      <th>name</th>\n",
       "      <th>url</th>\n",
       "      <th>parentid</th>\n",
       "      <th>country</th>\n",
       "      <th>woeid</th>\n",
       "      <th>countryCode</th>\n",
       "      <th>placeType.code</th>\n",
       "      <th>placeType.name</th>\n",
       "    </tr>\n",
       "  </thead>\n",
       "  <tbody>\n",
       "    <tr>\n",
       "      <th>0</th>\n",
       "      <td>Worldwide</td>\n",
       "      <td>http://where.yahooapis.com/v1/place/1</td>\n",
       "      <td>0</td>\n",
       "      <td></td>\n",
       "      <td>1</td>\n",
       "      <td>None</td>\n",
       "      <td>19</td>\n",
       "      <td>Supername</td>\n",
       "    </tr>\n",
       "    <tr>\n",
       "      <th>1</th>\n",
       "      <td>Winnipeg</td>\n",
       "      <td>http://where.yahooapis.com/v1/place/2972</td>\n",
       "      <td>23424775</td>\n",
       "      <td>Canada</td>\n",
       "      <td>2972</td>\n",
       "      <td>CA</td>\n",
       "      <td>7</td>\n",
       "      <td>Town</td>\n",
       "    </tr>\n",
       "    <tr>\n",
       "      <th>2</th>\n",
       "      <td>Ottawa</td>\n",
       "      <td>http://where.yahooapis.com/v1/place/3369</td>\n",
       "      <td>23424775</td>\n",
       "      <td>Canada</td>\n",
       "      <td>3369</td>\n",
       "      <td>CA</td>\n",
       "      <td>7</td>\n",
       "      <td>Town</td>\n",
       "    </tr>\n",
       "    <tr>\n",
       "      <th>3</th>\n",
       "      <td>Quebec</td>\n",
       "      <td>http://where.yahooapis.com/v1/place/3444</td>\n",
       "      <td>23424775</td>\n",
       "      <td>Canada</td>\n",
       "      <td>3444</td>\n",
       "      <td>CA</td>\n",
       "      <td>7</td>\n",
       "      <td>Town</td>\n",
       "    </tr>\n",
       "    <tr>\n",
       "      <th>4</th>\n",
       "      <td>Montreal</td>\n",
       "      <td>http://where.yahooapis.com/v1/place/3534</td>\n",
       "      <td>23424775</td>\n",
       "      <td>Canada</td>\n",
       "      <td>3534</td>\n",
       "      <td>CA</td>\n",
       "      <td>7</td>\n",
       "      <td>Town</td>\n",
       "    </tr>\n",
       "    <tr>\n",
       "      <th>...</th>\n",
       "      <td>...</td>\n",
       "      <td>...</td>\n",
       "      <td>...</td>\n",
       "      <td>...</td>\n",
       "      <td>...</td>\n",
       "      <td>...</td>\n",
       "      <td>...</td>\n",
       "      <td>...</td>\n",
       "    </tr>\n",
       "    <tr>\n",
       "      <th>462</th>\n",
       "      <td>Vietnam</td>\n",
       "      <td>http://where.yahooapis.com/v1/place/23424984</td>\n",
       "      <td>1</td>\n",
       "      <td>Vietnam</td>\n",
       "      <td>23424984</td>\n",
       "      <td>VN</td>\n",
       "      <td>12</td>\n",
       "      <td>Country</td>\n",
       "    </tr>\n",
       "    <tr>\n",
       "      <th>463</th>\n",
       "      <td>Petaling</td>\n",
       "      <td>http://where.yahooapis.com/v1/place/56013632</td>\n",
       "      <td>23424901</td>\n",
       "      <td>Malaysia</td>\n",
       "      <td>56013632</td>\n",
       "      <td>MY</td>\n",
       "      <td>7</td>\n",
       "      <td>Town</td>\n",
       "    </tr>\n",
       "    <tr>\n",
       "      <th>464</th>\n",
       "      <td>Hulu Langat</td>\n",
       "      <td>http://where.yahooapis.com/v1/place/56013645</td>\n",
       "      <td>23424901</td>\n",
       "      <td>Malaysia</td>\n",
       "      <td>56013645</td>\n",
       "      <td>MY</td>\n",
       "      <td>7</td>\n",
       "      <td>Town</td>\n",
       "    </tr>\n",
       "    <tr>\n",
       "      <th>465</th>\n",
       "      <td>Ahsa</td>\n",
       "      <td>http://where.yahooapis.com/v1/place/56120136</td>\n",
       "      <td>23424938</td>\n",
       "      <td>Saudi Arabia</td>\n",
       "      <td>56120136</td>\n",
       "      <td>SA</td>\n",
       "      <td>9</td>\n",
       "      <td>Unknown</td>\n",
       "    </tr>\n",
       "    <tr>\n",
       "      <th>466</th>\n",
       "      <td>Okayama</td>\n",
       "      <td>http://where.yahooapis.com/v1/place/90036018</td>\n",
       "      <td>23424856</td>\n",
       "      <td>Japan</td>\n",
       "      <td>90036018</td>\n",
       "      <td>JP</td>\n",
       "      <td>7</td>\n",
       "      <td>Town</td>\n",
       "    </tr>\n",
       "  </tbody>\n",
       "</table>\n",
       "<p>467 rows × 8 columns</p>\n",
       "</div>"
      ],
      "text/plain": [
       "            name                                           url  parentid  \\\n",
       "0      Worldwide         http://where.yahooapis.com/v1/place/1         0   \n",
       "1       Winnipeg      http://where.yahooapis.com/v1/place/2972  23424775   \n",
       "2         Ottawa      http://where.yahooapis.com/v1/place/3369  23424775   \n",
       "3         Quebec      http://where.yahooapis.com/v1/place/3444  23424775   \n",
       "4       Montreal      http://where.yahooapis.com/v1/place/3534  23424775   \n",
       "..           ...                                           ...       ...   \n",
       "462      Vietnam  http://where.yahooapis.com/v1/place/23424984         1   \n",
       "463     Petaling  http://where.yahooapis.com/v1/place/56013632  23424901   \n",
       "464  Hulu Langat  http://where.yahooapis.com/v1/place/56013645  23424901   \n",
       "465         Ahsa  http://where.yahooapis.com/v1/place/56120136  23424938   \n",
       "466      Okayama  http://where.yahooapis.com/v1/place/90036018  23424856   \n",
       "\n",
       "          country     woeid countryCode  placeType.code placeType.name  \n",
       "0                         1        None              19      Supername  \n",
       "1          Canada      2972          CA               7           Town  \n",
       "2          Canada      3369          CA               7           Town  \n",
       "3          Canada      3444          CA               7           Town  \n",
       "4          Canada      3534          CA               7           Town  \n",
       "..            ...       ...         ...             ...            ...  \n",
       "462       Vietnam  23424984          VN              12        Country  \n",
       "463      Malaysia  56013632          MY               7           Town  \n",
       "464      Malaysia  56013645          MY               7           Town  \n",
       "465  Saudi Arabia  56120136          SA               9        Unknown  \n",
       "466         Japan  90036018          JP               7           Town  \n",
       "\n",
       "[467 rows x 8 columns]"
      ]
     },
     "execution_count": 22,
     "metadata": {},
     "output_type": "execute_result"
    }
   ],
   "source": [
    "# here are tope trending hashtags around the world after normalizuing them \n",
    "trends = pd.json_normalize(api.trends_available())\n",
    "trends"
   ]
  },
  {
   "cell_type": "code",
   "execution_count": 30,
   "metadata": {
    "scrolled": true
   },
   "outputs": [
    {
     "name": "stdout",
     "output_type": "stream",
     "text": [
      "[{'trends': [{'name': '#WorldMentalHealthDay', 'url': 'http://twitter.com/search?q=%23WorldMentalHealthDay', 'promoted_content': None, 'query': '%23WorldMentalHealthDay', 'tweet_volume': 219239}, {'name': '#MapOfTheSoulOne', 'url': 'http://twitter.com/search?q=%23MapOfTheSoulOne', 'promoted_content': None, 'query': '%23MapOfTheSoulOne', 'tweet_volume': 289778}, {'name': '#welthundetag', 'url': 'http://twitter.com/search?q=%23welthundetag', 'promoted_content': None, 'query': '%23welthundetag', 'tweet_volume': None}, {'name': '#Drecksloch', 'url': 'http://twitter.com/search?q=%23Drecksloch', 'promoted_content': None, 'query': '%23Drecksloch', 'tweet_volume': None}, {'name': 'Schönen Samstag', 'url': 'http://twitter.com/search?q=%22Sch%C3%B6nen+Samstag%22', 'promoted_content': None, 'query': '%22Sch%C3%B6nen+Samstag%22', 'tweet_volume': None}, {'name': '#FNCWIN', 'url': 'http://twitter.com/search?q=%23FNCWIN', 'promoted_content': None, 'query': '%23FNCWIN', 'tweet_volume': None}, {'name': '#FlattenTheCurve', 'url': 'http://twitter.com/search?q=%23FlattenTheCurve', 'promoted_content': None, 'query': '%23FlattenTheCurve', 'tweet_volume': None}, {'name': '#liebig34lebt', 'url': 'http://twitter.com/search?q=%23liebig34lebt', 'promoted_content': None, 'query': '%23liebig34lebt', 'tweet_volume': None}, {'name': '#COVID__19', 'url': 'http://twitter.com/search?q=%23COVID__19', 'promoted_content': None, 'query': '%23COVID__19', 'tweet_volume': 65035}, {'name': '#EndSARS', 'url': 'http://twitter.com/search?q=%23EndSARS', 'promoted_content': None, 'query': '%23EndSARS', 'tweet_volume': 2335723}], 'as_of': '2020-10-10T09:28:06Z', 'created_at': '2020-10-08T23:21:00Z', 'locations': [{'name': 'Berlin', 'woeid': 638242}]}]\n"
     ]
    }
   ],
   "source": [
    "trends_berlin = api.trends_place(638242)\n",
    "print(trends_berlin)"
   ]
  },
  {
   "cell_type": "code",
   "execution_count": 27,
   "metadata": {},
   "outputs": [
    {
     "data": {
      "text/html": [
       "<div>\n",
       "<style scoped>\n",
       "    .dataframe tbody tr th:only-of-type {\n",
       "        vertical-align: middle;\n",
       "    }\n",
       "\n",
       "    .dataframe tbody tr th {\n",
       "        vertical-align: top;\n",
       "    }\n",
       "\n",
       "    .dataframe thead th {\n",
       "        text-align: right;\n",
       "    }\n",
       "</style>\n",
       "<table border=\"1\" class=\"dataframe\">\n",
       "  <thead>\n",
       "    <tr style=\"text-align: right;\">\n",
       "      <th></th>\n",
       "      <th>trends</th>\n",
       "      <th>as_of</th>\n",
       "      <th>created_at</th>\n",
       "      <th>locations</th>\n",
       "    </tr>\n",
       "  </thead>\n",
       "  <tbody>\n",
       "    <tr>\n",
       "      <th>0</th>\n",
       "      <td>[{'name': '#WorldMentalHealthDay', 'url': 'htt...</td>\n",
       "      <td>2020-10-10T09:18:01Z</td>\n",
       "      <td>2020-10-08T23:21:00Z</td>\n",
       "      <td>[{'name': 'Berlin', 'woeid': 638242}]</td>\n",
       "    </tr>\n",
       "  </tbody>\n",
       "</table>\n",
       "</div>"
      ],
      "text/plain": [
       "                                              trends                 as_of  \\\n",
       "0  [{'name': '#WorldMentalHealthDay', 'url': 'htt...  2020-10-10T09:18:01Z   \n",
       "\n",
       "             created_at                              locations  \n",
       "0  2020-10-08T23:21:00Z  [{'name': 'Berlin', 'woeid': 638242}]  "
      ]
     },
     "execution_count": 27,
     "metadata": {},
     "output_type": "execute_result"
    }
   ],
   "source": [
    "pd.json_normalize(trends_berlin)"
   ]
  },
  {
   "cell_type": "code",
   "execution_count": 31,
   "metadata": {},
   "outputs": [
    {
     "data": {
      "text/plain": [
       "dict_keys(['trends', 'as_of', 'created_at', 'locations'])"
      ]
     },
     "execution_count": 31,
     "metadata": {},
     "output_type": "execute_result"
    }
   ],
   "source": [
    "#to get the details out in a neat form\n",
    "\n",
    "trends_berlin[0].keys()"
   ]
  },
  {
   "cell_type": "code",
   "execution_count": 34,
   "metadata": {},
   "outputs": [
    {
     "data": {
      "text/plain": [
       "'2020-10-08T23:21:00Z'"
      ]
     },
     "execution_count": 34,
     "metadata": {},
     "output_type": "execute_result"
    }
   ],
   "source": [
    "trends_berlin[0]['created_at']"
   ]
  },
  {
   "cell_type": "code",
   "execution_count": 33,
   "metadata": {},
   "outputs": [
    {
     "data": {
      "text/plain": [
       "[{'name': 'Berlin', 'woeid': 638242}]"
      ]
     },
     "execution_count": 33,
     "metadata": {},
     "output_type": "execute_result"
    }
   ],
   "source": [
    "trends_berlin[0]['locations']"
   ]
  },
  {
   "cell_type": "code",
   "execution_count": 38,
   "metadata": {
    "scrolled": true
   },
   "outputs": [
    {
     "data": {
      "text/plain": [
       "'#WorldMentalHealthDay'"
      ]
     },
     "execution_count": 38,
     "metadata": {},
     "output_type": "execute_result"
    }
   ],
   "source": [
    "trends_berlin[0]['trends'][0]['name']"
   ]
  },
  {
   "cell_type": "code",
   "execution_count": 41,
   "metadata": {},
   "outputs": [
    {
     "data": {
      "text/plain": [
       "['#WorldMentalHealthDay',\n",
       " '#MapOfTheSoulOne',\n",
       " '#welthundetag',\n",
       " '#Drecksloch',\n",
       " 'Schönen Samstag']"
      ]
     },
     "execution_count": 41,
     "metadata": {},
     "output_type": "execute_result"
    }
   ],
   "source": [
    "#getting the first 5 trending hashtags\n",
    "hashtags= [trends_berlin[0]['trends'][i]['name'] for i in range(5)]\n",
    "hashtags"
   ]
  },
  {
   "cell_type": "code",
   "execution_count": null,
   "metadata": {},
   "outputs": [],
   "source": [
    "Read the Tweepy documentation to find out about methods"
   ]
  },
  {
   "cell_type": "code",
   "execution_count": null,
   "metadata": {},
   "outputs": [],
   "source": []
  },
  {
   "cell_type": "code",
   "execution_count": null,
   "metadata": {},
   "outputs": [],
   "source": []
  },
  {
   "cell_type": "code",
   "execution_count": null,
   "metadata": {},
   "outputs": [],
   "source": []
  },
  {
   "cell_type": "code",
   "execution_count": null,
   "metadata": {},
   "outputs": [],
   "source": []
  },
  {
   "cell_type": "code",
   "execution_count": 4,
   "metadata": {},
   "outputs": [
    {
     "name": "stdout",
     "output_type": "stream",
     "text": [
      "Help on package tweepy:\n",
      "\n",
      "NAME\n",
      "    tweepy - Tweepy Twitter API library\n",
      "\n",
      "PACKAGE CONTENTS\n",
      "    api\n",
      "    auth\n",
      "    binder\n",
      "    cache\n",
      "    cursor\n",
      "    error\n",
      "    models\n",
      "    parsers\n",
      "    streaming\n",
      "    utils\n",
      "\n",
      "FUNCTIONS\n",
      "    debug(enable=True, level=1)\n",
      "\n",
      "DATA\n",
      "    __license__ = 'MIT'\n",
      "    api = <tweepy.api.API object>\n",
      "\n",
      "VERSION\n",
      "    3.9.0\n",
      "\n",
      "AUTHOR\n",
      "    Joshua Roesslein\n",
      "\n",
      "FILE\n",
      "    /opt/anaconda3/envs/kittycat/lib/python3.8/site-packages/tweepy/__init__.py\n",
      "\n",
      "\n"
     ]
    }
   ],
   "source": [
    "help(tweepy)"
   ]
  },
  {
   "cell_type": "code",
   "execution_count": null,
   "metadata": {},
   "outputs": [],
   "source": []
  }
 ],
 "metadata": {
  "kernelspec": {
   "display_name": "Python 3",
   "language": "python",
   "name": "python3"
  },
  "language_info": {
   "codemirror_mode": {
    "name": "ipython",
    "version": 3
   },
   "file_extension": ".py",
   "mimetype": "text/x-python",
   "name": "python",
   "nbconvert_exporter": "python",
   "pygments_lexer": "ipython3",
   "version": "3.8.5"
  }
 },
 "nbformat": 4,
 "nbformat_minor": 4
}
