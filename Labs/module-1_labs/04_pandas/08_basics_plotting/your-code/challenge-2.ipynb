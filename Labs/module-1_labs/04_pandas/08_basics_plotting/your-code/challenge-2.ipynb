{
 "cells": [
  {
   "cell_type": "markdown",
   "metadata": {},
   "source": [
    "# Challenge 2 - Plotting Multiple Data Series\n",
    "\n",
    "Complete the following set of exercises to solidify your knowledge of plotting multiple data series with pandas and matplotlib. Part of the challenge that comes with plotting multiple data series is transforming the data into the form needed to visualize it like you want. For some of the exercises in this lab, you will need to transform the data into the form most appropriate for generating the visualization and then create the plot."
   ]
  },
  {
   "cell_type": "code",
   "execution_count": 71,
   "metadata": {},
   "outputs": [],
   "source": [
    "# import all the relevant packages\n",
    "import pandas as pd\n",
    "import numpy as np\n",
    "import matplotlib.pyplot as plt"
   ]
  },
  {
   "cell_type": "code",
   "execution_count": 6,
   "metadata": {},
   "outputs": [
    {
     "data": {
      "text/html": [
       "<div>\n",
       "<style scoped>\n",
       "    .dataframe tbody tr th:only-of-type {\n",
       "        vertical-align: middle;\n",
       "    }\n",
       "\n",
       "    .dataframe tbody tr th {\n",
       "        vertical-align: top;\n",
       "    }\n",
       "\n",
       "    .dataframe thead th {\n",
       "        text-align: right;\n",
       "    }\n",
       "</style>\n",
       "<table border=\"1\" class=\"dataframe\">\n",
       "  <thead>\n",
       "    <tr style=\"text-align: right;\">\n",
       "      <th></th>\n",
       "      <th>Year</th>\n",
       "      <th>Month</th>\n",
       "      <th>Supplier</th>\n",
       "      <th>ItemCode</th>\n",
       "      <th>Description</th>\n",
       "      <th>ItemType</th>\n",
       "      <th>RetailSales</th>\n",
       "      <th>RetailTransfers</th>\n",
       "      <th>WarehouseSales</th>\n",
       "    </tr>\n",
       "  </thead>\n",
       "  <tbody>\n",
       "    <tr>\n",
       "      <th>0</th>\n",
       "      <td>2017</td>\n",
       "      <td>4</td>\n",
       "      <td>ROYAL WINE CORP</td>\n",
       "      <td>100200</td>\n",
       "      <td>GAMLA CAB - 750ML</td>\n",
       "      <td>WINE</td>\n",
       "      <td>0.0</td>\n",
       "      <td>1.0</td>\n",
       "      <td>0.0</td>\n",
       "    </tr>\n",
       "    <tr>\n",
       "      <th>1</th>\n",
       "      <td>2017</td>\n",
       "      <td>4</td>\n",
       "      <td>SANTA MARGHERITA USA INC</td>\n",
       "      <td>100749</td>\n",
       "      <td>SANTA MARGHERITA P/GRIG ALTO - 375ML</td>\n",
       "      <td>WINE</td>\n",
       "      <td>0.0</td>\n",
       "      <td>1.0</td>\n",
       "      <td>0.0</td>\n",
       "    </tr>\n",
       "    <tr>\n",
       "      <th>2</th>\n",
       "      <td>2017</td>\n",
       "      <td>4</td>\n",
       "      <td>JIM BEAM BRANDS CO</td>\n",
       "      <td>10103</td>\n",
       "      <td>KNOB CREEK BOURBON 9YR - 100P - 375ML</td>\n",
       "      <td>LIQUOR</td>\n",
       "      <td>0.0</td>\n",
       "      <td>8.0</td>\n",
       "      <td>0.0</td>\n",
       "    </tr>\n",
       "  </tbody>\n",
       "</table>\n",
       "</div>"
      ],
      "text/plain": [
       "   Year  Month                  Supplier ItemCode  \\\n",
       "0  2017      4           ROYAL WINE CORP   100200   \n",
       "1  2017      4  SANTA MARGHERITA USA INC   100749   \n",
       "2  2017      4        JIM BEAM BRANDS CO    10103   \n",
       "\n",
       "                             Description ItemType  RetailSales  \\\n",
       "0                      GAMLA CAB - 750ML     WINE          0.0   \n",
       "1   SANTA MARGHERITA P/GRIG ALTO - 375ML     WINE          0.0   \n",
       "2  KNOB CREEK BOURBON 9YR - 100P - 375ML   LIQUOR          0.0   \n",
       "\n",
       "   RetailTransfers  WarehouseSales  \n",
       "0              1.0             0.0  \n",
       "1              1.0             0.0  \n",
       "2              8.0             0.0  "
      ]
     },
     "execution_count": 6,
     "metadata": {},
     "output_type": "execute_result"
    }
   ],
   "source": [
    "# import the data file liquor_store_sales.csv\n",
    "df = pd.read_csv('../data/liquor_store_sales.csv')\n",
    "df.head(3)"
   ]
  },
  {
   "cell_type": "markdown",
   "metadata": {},
   "source": [
    "## 1. Create a bar chart with bars for total Retail Sales, Retail Transfers, and Warehouse Sales by Item Type."
   ]
  },
  {
   "cell_type": "code",
   "execution_count": 40,
   "metadata": {},
   "outputs": [
    {
     "data": {
      "image/png": "[encoded data removed]",
      "text/plain": [
       "<Figure size 432x288 with 1 Axes>"
      ]
     },
     "metadata": {
      "needs_background": "light"
     },
     "output_type": "display_data"
    }
   ],
   "source": [
    "bart = df.groupby(['ItemType'])[['RetailSales', 'RetailTransfers','WarehouseSales']].sum().reset_index()\n",
    "bart\n",
    "bart.plot.bar(x = 'ItemType', y =['RetailSales','RetailTransfers','WarehouseSales'])\n",
    "plt.xlabel('Itemtype')\n",
    "plt.ylabel('Sales')\n",
    "plt.show()"
   ]
  },
  {
   "cell_type": "code",
   "execution_count": 41,
   "metadata": {},
   "outputs": [
    {
     "data": {
      "text/html": [
       "<div>\n",
       "<style scoped>\n",
       "    .dataframe tbody tr th:only-of-type {\n",
       "        vertical-align: middle;\n",
       "    }\n",
       "\n",
       "    .dataframe tbody tr th {\n",
       "        vertical-align: top;\n",
       "    }\n",
       "\n",
       "    .dataframe thead th {\n",
       "        text-align: right;\n",
       "    }\n",
       "</style>\n",
       "<table border=\"1\" class=\"dataframe\">\n",
       "  <thead>\n",
       "    <tr style=\"text-align: right;\">\n",
       "      <th></th>\n",
       "      <th>ItemType</th>\n",
       "      <th>RetailSales</th>\n",
       "      <th>RetailTransfers</th>\n",
       "      <th>WarehouseSales</th>\n",
       "    </tr>\n",
       "  </thead>\n",
       "  <tbody>\n",
       "    <tr>\n",
       "      <th>0</th>\n",
       "      <td>BEER</td>\n",
       "      <td>209763.11</td>\n",
       "      <td>234924.44</td>\n",
       "      <td>2437617.32</td>\n",
       "    </tr>\n",
       "    <tr>\n",
       "      <th>1</th>\n",
       "      <td>DUNNAGE</td>\n",
       "      <td>0.00</td>\n",
       "      <td>0.00</td>\n",
       "      <td>-45331.00</td>\n",
       "    </tr>\n",
       "    <tr>\n",
       "      <th>2</th>\n",
       "      <td>KEGS</td>\n",
       "      <td>0.00</td>\n",
       "      <td>0.00</td>\n",
       "      <td>43558.00</td>\n",
       "    </tr>\n",
       "    <tr>\n",
       "      <th>3</th>\n",
       "      <td>LIQUOR</td>\n",
       "      <td>309847.85</td>\n",
       "      <td>334176.41</td>\n",
       "      <td>33173.32</td>\n",
       "    </tr>\n",
       "    <tr>\n",
       "      <th>4</th>\n",
       "      <td>NON-ALCOHOL</td>\n",
       "      <td>8109.97</td>\n",
       "      <td>9058.37</td>\n",
       "      <td>8656.72</td>\n",
       "    </tr>\n",
       "    <tr>\n",
       "      <th>5</th>\n",
       "      <td>REF</td>\n",
       "      <td>281.34</td>\n",
       "      <td>171.92</td>\n",
       "      <td>-6754.00</td>\n",
       "    </tr>\n",
       "    <tr>\n",
       "      <th>6</th>\n",
       "      <td>STR_SUPPLIES</td>\n",
       "      <td>995.98</td>\n",
       "      <td>3594.70</td>\n",
       "      <td>0.00</td>\n",
       "    </tr>\n",
       "    <tr>\n",
       "      <th>7</th>\n",
       "      <td>WINE</td>\n",
       "      <td>313400.42</td>\n",
       "      <td>340710.51</td>\n",
       "      <td>433009.47</td>\n",
       "    </tr>\n",
       "  </tbody>\n",
       "</table>\n",
       "</div>"
      ],
      "text/plain": [
       "       ItemType  RetailSales  RetailTransfers  WarehouseSales\n",
       "0          BEER    209763.11        234924.44      2437617.32\n",
       "1       DUNNAGE         0.00             0.00       -45331.00\n",
       "2          KEGS         0.00             0.00        43558.00\n",
       "3        LIQUOR    309847.85        334176.41        33173.32\n",
       "4   NON-ALCOHOL      8109.97          9058.37         8656.72\n",
       "5           REF       281.34           171.92        -6754.00\n",
       "6  STR_SUPPLIES       995.98          3594.70            0.00\n",
       "7          WINE    313400.42        340710.51       433009.47"
      ]
     },
     "execution_count": 41,
     "metadata": {},
     "output_type": "execute_result"
    }
   ],
   "source": [
    "bart"
   ]
  },
  {
   "cell_type": "markdown",
   "metadata": {},
   "source": [
    "## 2. Create a bar chart showing total Retail Sales for the top 10 suppliers with the most total sales. "
   ]
  },
  {
   "cell_type": "code",
   "execution_count": 73,
   "metadata": {},
   "outputs": [
    {
     "data": {
      "image/png": "[encoded data removed]",
      "text/plain": [
       "<Figure size 432x288 with 1 Axes>"
      ]
     },
     "metadata": {
      "needs_background": "light"
     },
     "output_type": "display_data"
    }
   ],
   "source": [
    "sales = df.nlargest(10,['RetailSales']).head(10)    \n",
    "sales.plot.bar(x='ItemType', y = 'RetailSales')\n",
    "plt.show()"
   ]
  },
  {
   "cell_type": "code",
   "execution_count": 68,
   "metadata": {},
   "outputs": [
    {
     "data": {
      "text/html": [
       "<div>\n",
       "<style scoped>\n",
       "    .dataframe tbody tr th:only-of-type {\n",
       "        vertical-align: middle;\n",
       "    }\n",
       "\n",
       "    .dataframe tbody tr th {\n",
       "        vertical-align: top;\n",
       "    }\n",
       "\n",
       "    .dataframe thead th {\n",
       "        text-align: right;\n",
       "    }\n",
       "</style>\n",
       "<table border=\"1\" class=\"dataframe\">\n",
       "  <thead>\n",
       "    <tr style=\"text-align: right;\">\n",
       "      <th></th>\n",
       "      <th>Year</th>\n",
       "      <th>Month</th>\n",
       "      <th>Supplier</th>\n",
       "      <th>ItemCode</th>\n",
       "      <th>Description</th>\n",
       "      <th>ItemType</th>\n",
       "      <th>RetailSales</th>\n",
       "      <th>RetailTransfers</th>\n",
       "      <th>WarehouseSales</th>\n",
       "    </tr>\n",
       "  </thead>\n",
       "  <tbody>\n",
       "    <tr>\n",
       "      <th>98039</th>\n",
       "      <td>2017</td>\n",
       "      <td>12</td>\n",
       "      <td>FIFTH GENERATION INC</td>\n",
       "      <td>53929</td>\n",
       "      <td>TITO'S HANDMADE VODKA - 1.75L</td>\n",
       "      <td>LIQUOR</td>\n",
       "      <td>1616.60</td>\n",
       "      <td>1587.99</td>\n",
       "      <td>15.00</td>\n",
       "    </tr>\n",
       "    <tr>\n",
       "      <th>20662</th>\n",
       "      <td>2017</td>\n",
       "      <td>6</td>\n",
       "      <td>CROWN IMPORTS</td>\n",
       "      <td>23445</td>\n",
       "      <td>CORONA EXTRA LOOSE NR - 12OZ</td>\n",
       "      <td>BEER</td>\n",
       "      <td>1249.00</td>\n",
       "      <td>1160.00</td>\n",
       "      <td>13723.71</td>\n",
       "    </tr>\n",
       "    <tr>\n",
       "      <th>89403</th>\n",
       "      <td>2017</td>\n",
       "      <td>12</td>\n",
       "      <td>CROWN IMPORTS</td>\n",
       "      <td>23445</td>\n",
       "      <td>CORONA EXTRA LOOSE NR - 12OZ</td>\n",
       "      <td>BEER</td>\n",
       "      <td>1170.00</td>\n",
       "      <td>1038.00</td>\n",
       "      <td>11932.79</td>\n",
       "    </tr>\n",
       "    <tr>\n",
       "      <th>32129</th>\n",
       "      <td>2017</td>\n",
       "      <td>6</td>\n",
       "      <td>CROWN IMPORTS</td>\n",
       "      <td>96741</td>\n",
       "      <td>CORONA EXTRA 4/6 NR - 12OZ</td>\n",
       "      <td>BEER</td>\n",
       "      <td>1138.36</td>\n",
       "      <td>1162.96</td>\n",
       "      <td>7210.92</td>\n",
       "    </tr>\n",
       "    <tr>\n",
       "      <th>69107</th>\n",
       "      <td>2017</td>\n",
       "      <td>10</td>\n",
       "      <td>FIFTH GENERATION INC</td>\n",
       "      <td>53929</td>\n",
       "      <td>TITO'S HANDMADE VODKA - 1.75L</td>\n",
       "      <td>LIQUOR</td>\n",
       "      <td>1101.39</td>\n",
       "      <td>1030.64</td>\n",
       "      <td>19.00</td>\n",
       "    </tr>\n",
       "    <tr>\n",
       "      <th>28445</th>\n",
       "      <td>2017</td>\n",
       "      <td>6</td>\n",
       "      <td>FIFTH GENERATION INC</td>\n",
       "      <td>53929</td>\n",
       "      <td>TITO'S HANDMADE VODKA - 1.75L</td>\n",
       "      <td>LIQUOR</td>\n",
       "      <td>1080.89</td>\n",
       "      <td>1008.49</td>\n",
       "      <td>15.00</td>\n",
       "    </tr>\n",
       "    <tr>\n",
       "      <th>55468</th>\n",
       "      <td>2017</td>\n",
       "      <td>9</td>\n",
       "      <td>FIFTH GENERATION INC</td>\n",
       "      <td>53929</td>\n",
       "      <td>TITO'S HANDMADE VODKA - 1.75L</td>\n",
       "      <td>LIQUOR</td>\n",
       "      <td>1065.28</td>\n",
       "      <td>1077.66</td>\n",
       "      <td>15.00</td>\n",
       "    </tr>\n",
       "    <tr>\n",
       "      <th>47878</th>\n",
       "      <td>2017</td>\n",
       "      <td>9</td>\n",
       "      <td>CROWN IMPORTS</td>\n",
       "      <td>23445</td>\n",
       "      <td>CORONA EXTRA LOOSE NR - 12OZ</td>\n",
       "      <td>BEER</td>\n",
       "      <td>1063.00</td>\n",
       "      <td>939.00</td>\n",
       "      <td>12733.83</td>\n",
       "    </tr>\n",
       "    <tr>\n",
       "      <th>18535</th>\n",
       "      <td>2017</td>\n",
       "      <td>5</td>\n",
       "      <td>CROWN IMPORTS</td>\n",
       "      <td>96741</td>\n",
       "      <td>CORONA EXTRA 4/6 NR - 12OZ</td>\n",
       "      <td>BEER</td>\n",
       "      <td>1037.37</td>\n",
       "      <td>1180.00</td>\n",
       "      <td>7283.96</td>\n",
       "    </tr>\n",
       "    <tr>\n",
       "      <th>74906</th>\n",
       "      <td>2017</td>\n",
       "      <td>11</td>\n",
       "      <td>CROWN IMPORTS</td>\n",
       "      <td>23445</td>\n",
       "      <td>CORONA EXTRA LOOSE NR - 12OZ</td>\n",
       "      <td>BEER</td>\n",
       "      <td>992.00</td>\n",
       "      <td>981.00</td>\n",
       "      <td>16079.12</td>\n",
       "    </tr>\n",
       "  </tbody>\n",
       "</table>\n",
       "</div>"
      ],
      "text/plain": [
       "       Year  Month              Supplier ItemCode  \\\n",
       "98039  2017     12  FIFTH GENERATION INC    53929   \n",
       "20662  2017      6         CROWN IMPORTS    23445   \n",
       "89403  2017     12         CROWN IMPORTS    23445   \n",
       "32129  2017      6         CROWN IMPORTS    96741   \n",
       "69107  2017     10  FIFTH GENERATION INC    53929   \n",
       "28445  2017      6  FIFTH GENERATION INC    53929   \n",
       "55468  2017      9  FIFTH GENERATION INC    53929   \n",
       "47878  2017      9         CROWN IMPORTS    23445   \n",
       "18535  2017      5         CROWN IMPORTS    96741   \n",
       "74906  2017     11         CROWN IMPORTS    23445   \n",
       "\n",
       "                         Description ItemType  RetailSales  RetailTransfers  \\\n",
       "98039  TITO'S HANDMADE VODKA - 1.75L   LIQUOR      1616.60          1587.99   \n",
       "20662   CORONA EXTRA LOOSE NR - 12OZ     BEER      1249.00          1160.00   \n",
       "89403   CORONA EXTRA LOOSE NR - 12OZ     BEER      1170.00          1038.00   \n",
       "32129     CORONA EXTRA 4/6 NR - 12OZ     BEER      1138.36          1162.96   \n",
       "69107  TITO'S HANDMADE VODKA - 1.75L   LIQUOR      1101.39          1030.64   \n",
       "28445  TITO'S HANDMADE VODKA - 1.75L   LIQUOR      1080.89          1008.49   \n",
       "55468  TITO'S HANDMADE VODKA - 1.75L   LIQUOR      1065.28          1077.66   \n",
       "47878   CORONA EXTRA LOOSE NR - 12OZ     BEER      1063.00           939.00   \n",
       "18535     CORONA EXTRA 4/6 NR - 12OZ     BEER      1037.37          1180.00   \n",
       "74906   CORONA EXTRA LOOSE NR - 12OZ     BEER       992.00           981.00   \n",
       "\n",
       "       WarehouseSales  \n",
       "98039           15.00  \n",
       "20662        13723.71  \n",
       "89403        11932.79  \n",
       "32129         7210.92  \n",
       "69107           19.00  \n",
       "28445           15.00  \n",
       "55468           15.00  \n",
       "47878        12733.83  \n",
       "18535         7283.96  \n",
       "74906        16079.12  "
      ]
     },
     "execution_count": 68,
     "metadata": {},
     "output_type": "execute_result"
    }
   ],
   "source": [
    "sales"
   ]
  },
  {
   "cell_type": "markdown",
   "metadata": {},
   "source": [
    "## 3. Create a multi-line chart that shows average Retail Sales, Retail Transfers, and Warehouse Sales per month over time."
   ]
  },
  {
   "cell_type": "code",
   "execution_count": 103,
   "metadata": {},
   "outputs": [
    {
     "data": {
      "image/png": "[encoded data removed]",
      "text/plain": [
       "<Figure size 432x288 with 1 Axes>"
      ]
     },
     "metadata": {
      "needs_background": "light"
     },
     "output_type": "display_data"
    }
   ],
   "source": [
    "multi_line = df.groupby(['Month'])[['RetailSales', 'RetailTransfers', 'WarehouseSales']].mean().reset_index()\n",
    "multi_line\n",
    "plt.plot(multi_line['Month'], multi_line[['RetailSales', 'RetailTransfers', 'WarehouseSales']])\n",
    "plt.xlabel('Month')\n",
    "plt.ylabel('Sales')\n",
    "plt.legend(['RSales', 'RTransfers', 'Wsales'])\n",
    "plt.show()\n",
    "\n"
   ]
  },
  {
   "cell_type": "code",
   "execution_count": 90,
   "metadata": {},
   "outputs": [
    {
     "data": {
      "text/html": [
       "<div>\n",
       "<style scoped>\n",
       "    .dataframe tbody tr th:only-of-type {\n",
       "        vertical-align: middle;\n",
       "    }\n",
       "\n",
       "    .dataframe tbody tr th {\n",
       "        vertical-align: top;\n",
       "    }\n",
       "\n",
       "    .dataframe thead th {\n",
       "        text-align: right;\n",
       "    }\n",
       "</style>\n",
       "<table border=\"1\" class=\"dataframe\">\n",
       "  <thead>\n",
       "    <tr style=\"text-align: right;\">\n",
       "      <th></th>\n",
       "      <th>Month</th>\n",
       "      <th>RetailSales</th>\n",
       "      <th>RetailTransfers</th>\n",
       "      <th>WarehouseSales</th>\n",
       "    </tr>\n",
       "  </thead>\n",
       "  <tbody>\n",
       "    <tr>\n",
       "      <th>0</th>\n",
       "      <td>1</td>\n",
       "      <td>5.679413</td>\n",
       "      <td>5.574833</td>\n",
       "      <td>19.072137</td>\n",
       "    </tr>\n",
       "    <tr>\n",
       "      <th>1</th>\n",
       "      <td>2</td>\n",
       "      <td>5.939247</td>\n",
       "      <td>6.050136</td>\n",
       "      <td>20.229658</td>\n",
       "    </tr>\n",
       "    <tr>\n",
       "      <th>2</th>\n",
       "      <td>4</td>\n",
       "      <td>0.000000</td>\n",
       "      <td>15.707503</td>\n",
       "      <td>0.000000</td>\n",
       "    </tr>\n",
       "    <tr>\n",
       "      <th>3</th>\n",
       "      <td>5</td>\n",
       "      <td>7.038838</td>\n",
       "      <td>7.421817</td>\n",
       "      <td>27.310548</td>\n",
       "    </tr>\n",
       "    <tr>\n",
       "      <th>4</th>\n",
       "      <td>6</td>\n",
       "      <td>7.143914</td>\n",
       "      <td>6.950396</td>\n",
       "      <td>27.839069</td>\n",
       "    </tr>\n",
       "    <tr>\n",
       "      <th>5</th>\n",
       "      <td>8</td>\n",
       "      <td>6.409991</td>\n",
       "      <td>6.584726</td>\n",
       "      <td>28.122641</td>\n",
       "    </tr>\n",
       "    <tr>\n",
       "      <th>6</th>\n",
       "      <td>9</td>\n",
       "      <td>6.757254</td>\n",
       "      <td>6.419721</td>\n",
       "      <td>22.817909</td>\n",
       "    </tr>\n",
       "    <tr>\n",
       "      <th>7</th>\n",
       "      <td>10</td>\n",
       "      <td>6.549021</td>\n",
       "      <td>6.827827</td>\n",
       "      <td>22.289367</td>\n",
       "    </tr>\n",
       "    <tr>\n",
       "      <th>8</th>\n",
       "      <td>11</td>\n",
       "      <td>6.765496</td>\n",
       "      <td>7.103699</td>\n",
       "      <td>23.348862</td>\n",
       "    </tr>\n",
       "    <tr>\n",
       "      <th>9</th>\n",
       "      <td>12</td>\n",
       "      <td>9.078241</td>\n",
       "      <td>8.353759</td>\n",
       "      <td>21.169463</td>\n",
       "    </tr>\n",
       "  </tbody>\n",
       "</table>\n",
       "</div>"
      ],
      "text/plain": [
       "   Month  RetailSales  RetailTransfers  WarehouseSales\n",
       "0      1     5.679413         5.574833       19.072137\n",
       "1      2     5.939247         6.050136       20.229658\n",
       "2      4     0.000000        15.707503        0.000000\n",
       "3      5     7.038838         7.421817       27.310548\n",
       "4      6     7.143914         6.950396       27.839069\n",
       "5      8     6.409991         6.584726       28.122641\n",
       "6      9     6.757254         6.419721       22.817909\n",
       "7     10     6.549021         6.827827       22.289367\n",
       "8     11     6.765496         7.103699       23.348862\n",
       "9     12     9.078241         8.353759       21.169463"
      ]
     },
     "execution_count": 90,
     "metadata": {},
     "output_type": "execute_result"
    }
   ],
   "source": [
    "multi_line"
   ]
  },
  {
   "cell_type": "markdown",
   "metadata": {},
   "source": [
    "## 4. Plot the same information as above but as a bar chart."
   ]
  },
  {
   "cell_type": "code",
   "execution_count": 105,
   "metadata": {},
   "outputs": [
    {
     "data": {
      "image/png": "[encoded data removed]",
      "text/plain": [
       "<Figure size 432x288 with 1 Axes>"
      ]
     },
     "metadata": {
      "needs_background": "light"
     },
     "output_type": "display_data"
    }
   ],
   "source": [
    "multi_line.plot.bar('Month', ['RetailSales', 'RetailTransfers', 'WarehouseSales'])\n",
    "plt.show()"
   ]
  },
  {
   "cell_type": "code",
   "execution_count": null,
   "metadata": {},
   "outputs": [],
   "source": []
  }
 ],
 "metadata": {
  "kernelspec": {
   "display_name": "Python 3",
   "language": "python",
   "name": "python3"
  },
  "language_info": {
   "codemirror_mode": {
    "name": "ipython",
    "version": 3
   },
   "file_extension": ".py",
   "mimetype": "text/x-python",
   "name": "python",
   "nbconvert_exporter": "python",
   "pygments_lexer": "ipython3",
   "version": "3.8.5"
  }
 },
 "nbformat": 4,
 "nbformat_minor": 2
}
