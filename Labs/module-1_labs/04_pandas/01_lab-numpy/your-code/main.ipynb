{
 "cells": [
  {
   "cell_type": "markdown",
   "metadata": {},
   "source": [
    "# Working with Numpy\n",
    "\n",
    "Numpy is the numerical python package, with a lot of mathematical capabilities. Before we can use it, we need to first import the package. We will import it under the name np such that we can afterwards refer to it by this short name."
   ]
  },
  {
   "cell_type": "code",
   "execution_count": 4,
   "metadata": {},
   "outputs": [],
   "source": [
    "# your code here\n",
    "import numpy as np"
   ]
  },
  {
   "cell_type": "markdown",
   "metadata": {},
   "source": [
    "In the cell below, generate two 2x3 array with all elements equal to 1 - assign one of the arrays to the variable a and the other one to b. Add the two arrays. What do you get?"
   ]
  },
  {
   "cell_type": "code",
   "execution_count": 10,
   "metadata": {},
   "outputs": [
    {
     "name": "stdout",
     "output_type": "stream",
     "text": [
      "[[0.84424525 0.65723186 0.57551831]\n",
      " [0.08569048 0.21322628 0.22406819]]\n",
      "[0.84424525 0.65723186 0.57551831]\n",
      "[0.08569048 0.21322628 0.22406819]\n"
     ]
    }
   ],
   "source": [
    "# your code here\n",
    "two_arrays = np.random.random((2,3))\n",
    "two_arrays\n",
    "print(two_arrays)\n",
    "\n",
    "\n",
    "a = two_arrays[0,:]\n",
    "b = two_arrays[1, :]\n",
    "print(a)\n",
    "print(b)"
   ]
  },
  {
   "cell_type": "code",
   "execution_count": 16,
   "metadata": {},
   "outputs": [
    {
     "data": {
      "text/plain": [
       "array([0.92993573, 0.87045815, 0.79958651])"
      ]
     },
     "execution_count": 16,
     "metadata": {},
     "output_type": "execute_result"
    }
   ],
   "source": [
    "a + b"
   ]
  },
  {
   "cell_type": "markdown",
   "metadata": {},
   "source": [
    "Now generate another array c which is a 3x2 array with all elements equal to 1. Are you able to add a and c? Why or why not?"
   ]
  },
  {
   "cell_type": "code",
   "execution_count": 14,
   "metadata": {},
   "outputs": [
    {
     "name": "stdout",
     "output_type": "stream",
     "text": [
      "[[0.83774468 0.23340166]\n",
      " [0.46249679 0.17008945]\n",
      " [0.13120502 0.31798522]]\n"
     ]
    }
   ],
   "source": [
    "# your code here\n",
    "c = np.random.random((3, 2))\n",
    "print(c)"
   ]
  },
  {
   "cell_type": "code",
   "execution_count": 15,
   "metadata": {},
   "outputs": [
    {
     "ename": "ValueError",
     "evalue": "operands could not be broadcast together with shapes (3,) (3,2) ",
     "output_type": "error",
     "traceback": [
      "\u001b[0;31m---------------------------------------------------------------------------\u001b[0m",
      "\u001b[0;31mValueError\u001b[0m                                Traceback (most recent call last)",
      "\u001b[0;32m<ipython-input-15-e81e582b6fa9>\u001b[0m in \u001b[0;36m<module>\u001b[0;34m\u001b[0m\n\u001b[0;32m----> 1\u001b[0;31m \u001b[0ma\u001b[0m \u001b[0;34m+\u001b[0m \u001b[0mc\u001b[0m\u001b[0;34m\u001b[0m\u001b[0;34m\u001b[0m\u001b[0m\n\u001b[0m",
      "\u001b[0;31mValueError\u001b[0m: operands could not be broadcast together with shapes (3,) (3,2) "
     ]
    }
   ],
   "source": [
    "a + c"
   ]
  },
  {
   "cell_type": "markdown",
   "metadata": {},
   "source": [
    "Transpose c so that it has the same structure of a (i.e. become a 2x3 array). Assign the transposed array to variable \"d\". Are you able to add a and d?"
   ]
  },
  {
   "cell_type": "code",
   "execution_count": 18,
   "metadata": {},
   "outputs": [
    {
     "data": {
      "text/plain": [
       "array([[0.83774468, 0.46249679, 0.13120502],\n",
       "       [0.23340166, 0.17008945, 0.31798522]])"
      ]
     },
     "execution_count": 18,
     "metadata": {},
     "output_type": "execute_result"
    }
   ],
   "source": [
    "# your code here\n",
    "d = np.transpose(c)\n",
    "d"
   ]
  },
  {
   "cell_type": "markdown",
   "metadata": {},
   "source": [
    "Which combination of arrays are you able to multiply with each other? Why?"
   ]
  },
  {
   "cell_type": "code",
   "execution_count": 27,
   "metadata": {},
   "outputs": [
    {
     "data": {
      "text/plain": [
       "array([0.07234378, 0.14013911, 0.12895535])"
      ]
     },
     "execution_count": 27,
     "metadata": {},
     "output_type": "execute_result"
    }
   ],
   "source": [
    "# your code here\n",
    "np.multiply(a, b)\n",
    "#because they share the same array."
   ]
  },
  {
   "cell_type": "markdown",
   "metadata": {},
   "source": [
    "Create a list which contains the numbers from 0 to 10. Square the list elementwise using numpy functions."
   ]
  },
  {
   "cell_type": "code",
   "execution_count": 30,
   "metadata": {},
   "outputs": [
    {
     "name": "stdout",
     "output_type": "stream",
     "text": [
      "list of num1_10: [[0.36726115 1.84797453 1.05485687 6.5186122 ]\n",
      " [0.32718949 2.27933582 3.92467233 4.23235756]]\n"
     ]
    },
    {
     "data": {
      "text/plain": [
       "array([[ 0.13488075,  3.41500988,  1.11272301, 42.49230506],\n",
       "       [ 0.10705297,  5.19537179, 15.40305292, 17.91285054]])"
      ]
     },
     "execution_count": 30,
     "metadata": {},
     "output_type": "execute_result"
    }
   ],
   "source": [
    "# your code here\n",
    "num1_10 = np.random.random((2, 4)) * 10\n",
    "\n",
    "print(\"list of num1_10:\", num1_10)\n",
    "\n",
    "np.square(num1_10)"
   ]
  },
  {
   "cell_type": "markdown",
   "metadata": {},
   "source": [
    "Create a numpy array of size 10x10 which has random numbers between 0 and 100 on the main diagonal and zeros otherwise."
   ]
  },
  {
   "cell_type": "code",
   "execution_count": 25,
   "metadata": {},
   "outputs": [
    {
     "data": {
      "text/plain": [
       "array([[76.23480769, 94.92307962, 72.84645177, 53.63273863, 45.9809734 ,\n",
       "        11.00036763, 15.29751792, 21.77835648,  3.8056046 , 54.53791035],\n",
       "       [11.96467907, 72.34217919, 78.40141555, 82.78764728,  1.05396263,\n",
       "        82.38850426, 97.85403587, 19.86512801, 93.63287694, 72.03394628],\n",
       "       [28.86537488, 49.94824729, 45.44488905, 10.76974806, 89.44921773,\n",
       "         5.69817929, 83.13246914, 16.77223329, 12.1482725 , 28.56655309],\n",
       "       [81.00142292, 69.00895457,  7.01064492, 55.84847396, 86.38161592,\n",
       "        96.6846917 , 81.29659949, 23.95486074, 17.87067923, 93.4247591 ],\n",
       "       [66.41995939, 23.87258503,  8.81226771, 70.38188617, 50.06797193,\n",
       "        57.12718266, 73.38621854, 32.32363386, 18.83133968, 80.80206457],\n",
       "       [19.58952413, 54.87588289, 88.97736596, 86.85478095, 93.64968452,\n",
       "         5.32523973, 88.27556886, 13.46828681, 53.02381872, 82.8026533 ],\n",
       "       [ 5.54946718, 67.23111906, 87.6856151 , 14.40184117,  8.47193407,\n",
       "        76.81956817, 14.40721321,  0.57977729, 56.77504982, 89.76762776],\n",
       "       [53.19100914, 29.12333218, 73.30323063,  2.8213477 , 21.55775663,\n",
       "        78.4736716 , 79.31838702, 86.43555831, 50.6295524 , 35.53764543],\n",
       "       [12.68549967, 53.24221677, 46.67354737, 20.71163387, 86.62999714,\n",
       "        82.37309647, 21.66082046, 33.32570276, 96.87667393, 44.17034138],\n",
       "       [46.14674928, 15.5598114 , 17.17427518, 72.51495787, 12.38838016,\n",
       "        30.17344201, 24.84684501, 33.29415585, 64.82633803,  8.76575662]])"
      ]
     },
     "execution_count": 25,
     "metadata": {},
     "output_type": "execute_result"
    }
   ],
   "source": [
    "# your code here\n",
    "num_10 = np.random.random((10, 10)) * 100\n",
    "num_10"
   ]
  },
  {
   "cell_type": "code",
   "execution_count": null,
   "metadata": {},
   "outputs": [],
   "source": []
  }
 ],
 "metadata": {
  "kernelspec": {
   "display_name": "Python 3",
   "language": "python",
   "name": "python3"
  },
  "language_info": {
   "codemirror_mode": {
    "name": "ipython",
    "version": 3
   },
   "file_extension": ".py",
   "mimetype": "text/x-python",
   "name": "python",
   "nbconvert_exporter": "python",
   "pygments_lexer": "ipython3",
   "version": "3.8.5"
  }
 },
 "nbformat": 4,
 "nbformat_minor": 2
}
