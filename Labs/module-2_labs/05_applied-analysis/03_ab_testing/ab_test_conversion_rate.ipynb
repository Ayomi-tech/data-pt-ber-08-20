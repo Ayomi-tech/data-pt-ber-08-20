{
 "cells": [
  {
   "cell_type": "code",
   "execution_count": 1,
   "metadata": {},
   "outputs": [],
   "source": [
    "import pandas as pd\n",
    "import numpy as np\n",
    "import seaborn as sns\n",
    "import matplotlib.pyplot as plt\n",
    "import scipy"
   ]
  },
  {
   "cell_type": "markdown",
   "metadata": {},
   "source": [
    "# A/B testing to improve Conversion Rates\n",
    "\n",
    "You work for Company K. Company K is a video streaming service that is selling subscriptions. After running a few analyses, you suggest to the Product Team that placing more prominent upsells on the landing page may result in higher conversion rates (visitors signing up for the subscription). The Product Team took your suggestion with excitement and the engineering team went ahead and implemented the experiment right away. \n",
    "\n",
    "The experiment ran for the month of February 2020. You prepared a few datasets beforehand that will help you in analyzing the success of the A/B test.\n",
    "The A/B test had two experiment groups, A & B, in which visitors assigned to A were in the control group and visitors assigned to B received the new variant with the new upsells. You suggest to assign approximately 7% of the daily visitors to the experiment, applying a 50/50 split among the two variants.\n",
    "\n",
    "You have the following datasets:\n",
    "\n",
    "1. `first_pageviews`: This is a summary of all the unsubscribed users and the timestamp of their first pageview. Users get assigned according to their cookies, which is how we make sure that a user may not be assigned to two different groups when they reach our landing page. Since visitors haven't signed up at this point, they don't have a `user_id`, instead, we assign them a random but unique `anonymous_id`. If visitors get assigned to an experiment, you should see a non-null value in the `exp_id` column. Your experiment has the ids **101** for control and **102** for the variant.\n",
    "2. `subscribers`: This table shows you which users have subscribed at what point in time. To subscribe, you need to be a registered user, which is how you can uniquely identify each subscriber. Since we only sell yearly subscriptions, users cannot have more than 1 subscription within 365 days. \n",
    "3. `users`: This table is useful to link the first pageview of unsubscribed visitors to our subscribers. It keeps track of the `anonymous_id` we assigned to them and maps to the `user_id` we assigned after they sign up\n",
    "\n",
    "Immediately after the end of the experiment, the Product Manager approaches you overly excited and wants you to analyze the success of the experiment.\n",
    "\n",
    "You can find the datasets in the `data/2020-03-01` folder."
   ]
  },
  {
   "cell_type": "code",
   "execution_count": 2,
   "metadata": {},
   "outputs": [],
   "source": [
    "# load the datasets\n",
    "first_pageviews = pd.read_csv('data/2020-03-01/first_pageviews.csv')\n",
    "users = pd.read_csv('data/2020-03-01/users_mar01.csv')\n",
    "subscriptions = pd.read_csv('data/2020-03-01/subscriptions_mar01.csv')"
   ]
  },
  {
   "cell_type": "markdown",
   "metadata": {},
   "source": [
    "## Inspect the data"
   ]
  },
  {
   "cell_type": "code",
   "execution_count": 3,
   "metadata": {
    "scrolled": true
   },
   "outputs": [
    {
     "name": "stdout",
     "output_type": "stream",
     "text": [
      "                           anonymous_id                               user_id\n",
      "0  e575dd8c-f02c-4a1a-8a53-fef7ff2b9f95  b67781da-3a0f-48af-80d8-728d3ec31c66\n",
      "1  a92532b2-0317-49bb-9f00-3d9b9ae71ea5  ce1764ca-91a2-4c2e-95fe-c415c5df7be5\n",
      "2  9c39b4d4-d7da-49e2-bcd9-4abee3e211f6  b24712a4-40b7-4841-a9e9-f566d9ed48a9\n",
      "3  858cc4cc-dcd2-4897-815b-500a2ee8c00e  d0e4f27e-11ab-470c-85db-4f7389ba63d4\n",
      "4  96a9ad69-568e-40bd-9ff7-3e6b8e0d3f9a  91b679ad-38cc-4569-b5fc-8a98dc858b8d\n",
      "                                user_id                     created_at  \\\n",
      "0  b67781da-3a0f-48af-80d8-728d3ec31c66  2020-01-26 09:00:55.628471160   \n",
      "1  ce1764ca-91a2-4c2e-95fe-c415c5df7be5  2020-01-30 10:43:16.359589080   \n",
      "2  b24712a4-40b7-4841-a9e9-f566d9ed48a9  2020-02-15 21:19:35.663792880   \n",
      "3  d0e4f27e-11ab-470c-85db-4f7389ba63d4  2020-02-13 04:45:52.198410780   \n",
      "4  91b679ad-38cc-4569-b5fc-8a98dc858b8d  2020-02-10 13:24:29.670026400   \n",
      "\n",
      "  client_app  \n",
      "0    android  \n",
      "1        ios  \n",
      "2        web  \n",
      "3        ios  \n",
      "4    android  \n"
     ]
    }
   ],
   "source": [
    "# show the first 5 lines of each dataset\n",
    "# first_pageviews.head(5)\n",
    "print(users.head(5))\n",
    "print(subscriptions.head(5))"
   ]
  },
  {
   "cell_type": "code",
   "execution_count": 4,
   "metadata": {},
   "outputs": [
    {
     "name": "stdout",
     "output_type": "stream",
     "text": [
      "date_id          object\n",
      "anonymous_id     object\n",
      "exp_id          float64\n",
      "dtype: object\n"
     ]
    }
   ],
   "source": [
    "# check the data types and set them properly for each dataset\n",
    "print(first_pageviews.dtypes)\n",
    "first_pageviews['date_id'] =  pd.to_datetime(first_pageviews['date_id'], errors='coerce', yearfirst=True, infer_datetime_format=True)\n",
    "# print(subscriptions.dtypes)\n",
    "subscriptions['created_at'] =  pd.to_datetime(subscriptions['created_at'], errors='coerce', yearfirst=True, infer_datetime_format=True)\n"
   ]
  },
  {
   "cell_type": "code",
   "execution_count": 5,
   "metadata": {
    "scrolled": true
   },
   "outputs": [
    {
     "data": {
      "text/plain": [
       "[<matplotlib.lines.Line2D at 0x7fb8e6518280>]"
      ]
     },
     "execution_count": 5,
     "metadata": {},
     "output_type": "execute_result"
    },
    {
     "data": {
      "image/png": "[encoded data removed]",
      "text/plain": [
       "<Figure size 432x288 with 1 Axes>"
      ]
     },
     "metadata": {
      "needs_background": "light"
     },
     "output_type": "display_data"
    }
   ],
   "source": [
    "# plot first pageview per day to inspect if you can spot any outliers or anything suspicious\n",
    "count = pd.pivot_table(first_pageviews, index=['date_id'], values=['anonymous_id'], aggfunc='count').reset_index()\n",
    "# print(count)\n",
    "plt.figsize=(22, 12)\n",
    "plt.plot(count['date_id'], count['anonymous_id'])\n"
   ]
  },
  {
   "cell_type": "code",
   "execution_count": 6,
   "metadata": {},
   "outputs": [
    {
     "data": {
      "text/plain": [
       "<pandas.core.groupby.generic.DataFrameGroupBy object at 0x7fb8e635feb0>"
      ]
     },
     "execution_count": 6,
     "metadata": {},
     "output_type": "execute_result"
    }
   ],
   "source": [
    "first_pageviews.groupby(['date_id'])"
   ]
  },
  {
   "cell_type": "code",
   "execution_count": 7,
   "metadata": {},
   "outputs": [
    {
     "name": "stdout",
     "output_type": "stream",
     "text": [
      "0.0      1841966\n",
      "101.0      67887\n",
      "102.0      67715\n",
      "Name: exp_id, dtype: int64\n",
      "138429.76\n"
     ]
    }
   ],
   "source": [
    "# check the assignment into the experiment. You should see that 7% of the visitors were \n",
    "# assigned to the experiment with a 50/50 split among the two variants\n",
    "# first_pageviews['exp_id'].value_counts()\n",
    "print(first_pageviews['exp_id'].fillna(0).value_counts())\n",
    "print(len(first_pageviews)/100*7)\n",
    "\n"
   ]
  },
  {
   "cell_type": "markdown",
   "metadata": {},
   "source": [
    "The assignment seemed to work as planned. You can now continue with the data prep.\n",
    "\n",
    "## Create experiment dataset\n",
    "\n",
    "To simplify the analysis, filter and merge the datasets to only focus on what's relevant. That is, you only care about visitors that were actually assigned to the experiment. Among those, you want to know how many subscribed. The proportion of those, for each group, is the conversion rate."
   ]
  },
  {
   "cell_type": "code",
   "execution_count": 8,
   "metadata": {
    "scrolled": true
   },
   "outputs": [
    {
     "data": {
      "text/html": [
       "<div>\n",
       "<style scoped>\n",
       "    .dataframe tbody tr th:only-of-type {\n",
       "        vertical-align: middle;\n",
       "    }\n",
       "\n",
       "    .dataframe tbody tr th {\n",
       "        vertical-align: top;\n",
       "    }\n",
       "\n",
       "    .dataframe thead th {\n",
       "        text-align: right;\n",
       "    }\n",
       "</style>\n",
       "<table border=\"1\" class=\"dataframe\">\n",
       "  <thead>\n",
       "    <tr style=\"text-align: right;\">\n",
       "      <th></th>\n",
       "      <th>date_id</th>\n",
       "      <th>anonymous_id</th>\n",
       "      <th>exp_id</th>\n",
       "      <th>user_id</th>\n",
       "      <th>created_at</th>\n",
       "      <th>client_app</th>\n",
       "    </tr>\n",
       "  </thead>\n",
       "  <tbody>\n",
       "    <tr>\n",
       "      <th>0</th>\n",
       "      <td>2020-02-01</td>\n",
       "      <td>c8bc65ae-e5bb-47b0-b2ba-a3e32f086c39</td>\n",
       "      <td>101.0</td>\n",
       "      <td>NaN</td>\n",
       "      <td>NaT</td>\n",
       "      <td>NaN</td>\n",
       "    </tr>\n",
       "    <tr>\n",
       "      <th>1</th>\n",
       "      <td>2020-02-01</td>\n",
       "      <td>5808da06-67c6-467f-bedd-aa872839ccde</td>\n",
       "      <td>101.0</td>\n",
       "      <td>NaN</td>\n",
       "      <td>NaT</td>\n",
       "      <td>NaN</td>\n",
       "    </tr>\n",
       "    <tr>\n",
       "      <th>2</th>\n",
       "      <td>2020-02-01</td>\n",
       "      <td>3265ddda-fefc-471f-b956-fa88b1d85e08</td>\n",
       "      <td>101.0</td>\n",
       "      <td>NaN</td>\n",
       "      <td>NaT</td>\n",
       "      <td>NaN</td>\n",
       "    </tr>\n",
       "    <tr>\n",
       "      <th>3</th>\n",
       "      <td>2020-02-01</td>\n",
       "      <td>0b633f23-c070-4289-b323-058c0a4105fb</td>\n",
       "      <td>101.0</td>\n",
       "      <td>NaN</td>\n",
       "      <td>NaT</td>\n",
       "      <td>NaN</td>\n",
       "    </tr>\n",
       "    <tr>\n",
       "      <th>4</th>\n",
       "      <td>2020-02-01</td>\n",
       "      <td>72c9c459-ae27-407a-a257-901678774df2</td>\n",
       "      <td>101.0</td>\n",
       "      <td>NaN</td>\n",
       "      <td>NaT</td>\n",
       "      <td>NaN</td>\n",
       "    </tr>\n",
       "    <tr>\n",
       "      <th>...</th>\n",
       "      <td>...</td>\n",
       "      <td>...</td>\n",
       "      <td>...</td>\n",
       "      <td>...</td>\n",
       "      <td>...</td>\n",
       "      <td>...</td>\n",
       "    </tr>\n",
       "    <tr>\n",
       "      <th>135597</th>\n",
       "      <td>2020-02-29</td>\n",
       "      <td>1a58f77c-39ce-4aa7-ba43-92857081c8ea</td>\n",
       "      <td>102.0</td>\n",
       "      <td>NaN</td>\n",
       "      <td>NaT</td>\n",
       "      <td>NaN</td>\n",
       "    </tr>\n",
       "    <tr>\n",
       "      <th>135598</th>\n",
       "      <td>2020-02-29</td>\n",
       "      <td>69dee06a-03b5-46b5-b5b7-480790769ef2</td>\n",
       "      <td>102.0</td>\n",
       "      <td>NaN</td>\n",
       "      <td>NaT</td>\n",
       "      <td>NaN</td>\n",
       "    </tr>\n",
       "    <tr>\n",
       "      <th>135599</th>\n",
       "      <td>2020-02-29</td>\n",
       "      <td>df28818f-57af-4dbb-a3df-8f0f68dee469</td>\n",
       "      <td>102.0</td>\n",
       "      <td>NaN</td>\n",
       "      <td>NaT</td>\n",
       "      <td>NaN</td>\n",
       "    </tr>\n",
       "    <tr>\n",
       "      <th>135600</th>\n",
       "      <td>2020-02-29</td>\n",
       "      <td>38b75810-513e-4b7b-a1cf-71cd37ae203d</td>\n",
       "      <td>102.0</td>\n",
       "      <td>NaN</td>\n",
       "      <td>NaT</td>\n",
       "      <td>NaN</td>\n",
       "    </tr>\n",
       "    <tr>\n",
       "      <th>135601</th>\n",
       "      <td>2020-02-29</td>\n",
       "      <td>0e6b1f15-5419-449d-ad8d-a9cceb72a44b</td>\n",
       "      <td>102.0</td>\n",
       "      <td>NaN</td>\n",
       "      <td>NaT</td>\n",
       "      <td>NaN</td>\n",
       "    </tr>\n",
       "  </tbody>\n",
       "</table>\n",
       "<p>135602 rows × 6 columns</p>\n",
       "</div>"
      ],
      "text/plain": [
       "          date_id                          anonymous_id  exp_id user_id  \\\n",
       "0      2020-02-01  c8bc65ae-e5bb-47b0-b2ba-a3e32f086c39   101.0     NaN   \n",
       "1      2020-02-01  5808da06-67c6-467f-bedd-aa872839ccde   101.0     NaN   \n",
       "2      2020-02-01  3265ddda-fefc-471f-b956-fa88b1d85e08   101.0     NaN   \n",
       "3      2020-02-01  0b633f23-c070-4289-b323-058c0a4105fb   101.0     NaN   \n",
       "4      2020-02-01  72c9c459-ae27-407a-a257-901678774df2   101.0     NaN   \n",
       "...           ...                                   ...     ...     ...   \n",
       "135597 2020-02-29  1a58f77c-39ce-4aa7-ba43-92857081c8ea   102.0     NaN   \n",
       "135598 2020-02-29  69dee06a-03b5-46b5-b5b7-480790769ef2   102.0     NaN   \n",
       "135599 2020-02-29  df28818f-57af-4dbb-a3df-8f0f68dee469   102.0     NaN   \n",
       "135600 2020-02-29  38b75810-513e-4b7b-a1cf-71cd37ae203d   102.0     NaN   \n",
       "135601 2020-02-29  0e6b1f15-5419-449d-ad8d-a9cceb72a44b   102.0     NaN   \n",
       "\n",
       "       created_at client_app  \n",
       "0             NaT        NaN  \n",
       "1             NaT        NaN  \n",
       "2             NaT        NaN  \n",
       "3             NaT        NaN  \n",
       "4             NaT        NaN  \n",
       "...           ...        ...  \n",
       "135597        NaT        NaN  \n",
       "135598        NaT        NaN  \n",
       "135599        NaT        NaN  \n",
       "135600        NaT        NaN  \n",
       "135601        NaT        NaN  \n",
       "\n",
       "[135602 rows x 6 columns]"
      ]
     },
     "execution_count": 8,
     "metadata": {},
     "output_type": "execute_result"
    }
   ],
   "source": [
    "# merge the tables so you can see all visitors assigned to the experiment \n",
    "a = first_pageviews[(first_pageviews['exp_id']==101) | (first_pageviews['exp_id']==102)]\n",
    "\n",
    "# and whether they subscribed or not\n",
    "b =a.merge(users, how='left', on='anonymous_id')\n",
    "# create a dummy column for whether a user subscribed or not\n",
    "result = pd.merge(b, subscriptions, how='left', on=['user_id'])\n",
    "result"
   ]
  },
  {
   "cell_type": "code",
   "execution_count": 26,
   "metadata": {},
   "outputs": [
    {
     "data": {
      "text/plain": [
       "0"
      ]
     },
     "execution_count": 26,
     "metadata": {},
     "output_type": "execute_result"
    }
   ],
   "source": [
    "result['anonymous_id'].isnull().sum()"
   ]
  },
  {
   "cell_type": "markdown",
   "metadata": {},
   "source": [
    "## Inspect experiment data\n",
    "\n",
    "Before running the test, you want to spend some time checking the data you collected."
   ]
  },
  {
   "cell_type": "code",
   "execution_count": 29,
   "metadata": {},
   "outputs": [
    {
     "ename": "TypeError",
     "evalue": "'DataFrame' object is not callable",
     "output_type": "error",
     "traceback": [
      "\u001b[0;31m---------------------------------------------------------------------------\u001b[0m",
      "\u001b[0;31mTypeError\u001b[0m                                 Traceback (most recent call last)",
      "\u001b[0;32m<ipython-input-29-ed3bf1e427c0>\u001b[0m in \u001b[0;36m<module>\u001b[0;34m\u001b[0m\n\u001b[1;32m      1\u001b[0m \u001b[0;31m# plot a timeseries of daily visitors that were assigned to an experiment\u001b[0m\u001b[0;34m\u001b[0m\u001b[0;34m\u001b[0m\u001b[0;34m\u001b[0m\u001b[0m\n\u001b[0;32m----> 2\u001b[0;31m \u001b[0mnew\u001b[0m  \u001b[0;34m=\u001b[0m \u001b[0mresult\u001b[0m\u001b[0;34m(\u001b[0m\u001b[0mresult\u001b[0m\u001b[0;34m[\u001b[0m\u001b[0;34m'anonymous_id'\u001b[0m\u001b[0;34m]\u001b[0m\u001b[0;34m==\u001b[0m\u001b[0mresult\u001b[0m\u001b[0;34m[\u001b[0m\u001b[0;34m'user_id'\u001b[0m\u001b[0;34m]\u001b[0m\u001b[0;34m)\u001b[0m\u001b[0;34m\u001b[0m\u001b[0;34m\u001b[0m\u001b[0m\n\u001b[0m\u001b[1;32m      3\u001b[0m \u001b[0;31m# plt.plot(result['date_id'], result['anonymous_id'])\u001b[0m\u001b[0;34m\u001b[0m\u001b[0;34m\u001b[0m\u001b[0;34m\u001b[0m\u001b[0m\n\u001b[1;32m      4\u001b[0m \u001b[0;31m# plt.show()\u001b[0m\u001b[0;34m\u001b[0m\u001b[0;34m\u001b[0m\u001b[0;34m\u001b[0m\u001b[0m\n\u001b[1;32m      5\u001b[0m \u001b[0;31m# plot a line for each exp_id\u001b[0m\u001b[0;34m\u001b[0m\u001b[0;34m\u001b[0m\u001b[0;34m\u001b[0m\u001b[0m\n",
      "\u001b[0;31mTypeError\u001b[0m: 'DataFrame' object is not callable"
     ]
    }
   ],
   "source": [
    "# plot a timeseries of daily visitors that were assigned to an experiment\n",
    "new  = result(result['anonymous_id']==result['user_id'])\n",
    "# plt.plot(result['date_id'], result['anonymous_id'])\n",
    "# plt.show()\n",
    "# plot a line for each exp_id\n",
    "\n",
    "\n",
    "# plt.plot(result['exp_id'])"
   ]
  },
  {
   "cell_type": "code",
   "execution_count": 11,
   "metadata": {},
   "outputs": [],
   "source": [
    "# does the time range match the experiment requirements?\n",
    "# Do the lines indicate an equal assignment over time?"
   ]
  },
  {
   "cell_type": "markdown",
   "metadata": {},
   "source": [
    "## Describing the data\n",
    "\n",
    "Compute the differences among the groups, before running a statistical test"
   ]
  },
  {
   "cell_type": "code",
   "execution_count": 12,
   "metadata": {},
   "outputs": [],
   "source": [
    "# compute the number of conversion for each experiment group"
   ]
  },
  {
   "cell_type": "code",
   "execution_count": 13,
   "metadata": {},
   "outputs": [],
   "source": [
    "# compute the conversion rate for each experiment group"
   ]
  },
  {
   "cell_type": "code",
   "execution_count": 14,
   "metadata": {},
   "outputs": [],
   "source": [
    "# interpret the results. From just looking at the numbers, which group performed better \n",
    "# with respect to conversions or conversion rates?"
   ]
  },
  {
   "cell_type": "markdown",
   "metadata": {},
   "source": [
    "You should see that there is a difference in the conversion rate across the different experiment groups.\n",
    "\n",
    "Are there any differences among the subscibers for each group with respect to the client application they signed up through?"
   ]
  },
  {
   "cell_type": "code",
   "execution_count": 15,
   "metadata": {},
   "outputs": [],
   "source": [
    "# Compute relative frequency for each client_app through which they subscribed in each experiment group"
   ]
  },
  {
   "cell_type": "code",
   "execution_count": 16,
   "metadata": {},
   "outputs": [],
   "source": [
    "# interpret and discuss the results"
   ]
  },
  {
   "cell_type": "markdown",
   "metadata": {},
   "source": [
    "## Test whether the difference in conversion rate is significant\n",
    "\n",
    "It is time for the statistical test!"
   ]
  },
  {
   "cell_type": "code",
   "execution_count": 17,
   "metadata": {},
   "outputs": [],
   "source": [
    "# compute the two arrays/series to be passed to the t-test"
   ]
  },
  {
   "cell_type": "code",
   "execution_count": 18,
   "metadata": {},
   "outputs": [],
   "source": [
    "# run the test and compute the p-value, without the equal variance assumption"
   ]
  },
  {
   "cell_type": "code",
   "execution_count": 19,
   "metadata": {},
   "outputs": [],
   "source": [
    "# Write up your conclusion and discuss"
   ]
  },
  {
   "cell_type": "markdown",
   "metadata": {},
   "source": [
    "The experiment unfortunately did not result in a significant difference among the two groups. That is, you cannot conclude that the upsells were in fact improving the conversion rates. You still doubt whether you've done everything in the right way. \n",
    "\n",
    "During a coffee break, you overheard some colleague talking about how they are contemplating about getting newspaper subscription. They said they have been going to the newspaper website a few times already but they're not sure if they're willing to pay the price. You start thinking that you were maybe a little to rushed with starting the analysis on the first day after the experiment ended. It might take some time for people to subscribe after the first pageview..."
   ]
  },
  {
   "cell_type": "code",
   "execution_count": 20,
   "metadata": {},
   "outputs": [],
   "source": [
    "# check the latest date a subscription was registered"
   ]
  },
  {
   "cell_type": "code",
   "execution_count": 21,
   "metadata": {},
   "outputs": [],
   "source": [
    "# Using the Five-number summary, check how long it takes for users to subscribe after their first visit"
   ]
  },
  {
   "cell_type": "code",
   "execution_count": 22,
   "metadata": {},
   "outputs": [],
   "source": [
    "# What is flawed when computing the five-number summary using this sample?"
   ]
  },
  {
   "cell_type": "markdown",
   "metadata": {},
   "source": [
    "## Considering time it takes to subscribe\n",
    "\n",
    "The team decides to wait for the analysis until the end of the month to allow users to subscribe. On April 1st, the Product Manager approaches you with even more excitement and pushes you to redo the analysis.\n",
    "\n",
    "The data for the additional subscribers that signed up between the day of your first analysis and today can be found in `data/2020-04-01/`.\n",
    "\n",
    "**Important:** The new data does not include any of the data that were included in the previous datasets."
   ]
  },
  {
   "cell_type": "code",
   "execution_count": 23,
   "metadata": {},
   "outputs": [],
   "source": [
    "# load the newest data for subscriptions and their corresponding mapping in the users dataset"
   ]
  },
  {
   "cell_type": "code",
   "execution_count": 24,
   "metadata": {},
   "outputs": [],
   "source": [
    "# combine the newest data with the existing datasets"
   ]
  },
  {
   "cell_type": "code",
   "execution_count": 25,
   "metadata": {},
   "outputs": [],
   "source": [
    "# From here on, you're on your own. Redo the analysis from above with the new dataset.\n",
    "# Make sure to run a few inspections to make sure your data is how you expect it to be\n",
    "# After analyzing, provide a summary and a discussion including your communication to the Product Team"
   ]
  }
 ],
 "metadata": {
  "kernelspec": {
   "display_name": "Python 3",
   "language": "python",
   "name": "python3"
  },
  "language_info": {
   "codemirror_mode": {
    "name": "ipython",
    "version": 3
   },
   "file_extension": ".py",
   "mimetype": "text/x-python",
   "name": "python",
   "nbconvert_exporter": "python",
   "pygments_lexer": "ipython3",
   "version": "3.8.5"
  }
 },
 "nbformat": 4,
 "nbformat_minor": 2
}
