{
 "cells": [
  {
   "cell_type": "markdown",
   "metadata": {},
   "source": [
    "# Before your start:\n",
    "- Read the README.md file\n",
    "- Comment as much as you can and use the resources (README.md file)\n",
    "- Happy learning!"
   ]
  },
  {
   "cell_type": "code",
   "execution_count": 2,
   "metadata": {},
   "outputs": [],
   "source": [
    "# import numpy and pandas\n",
    "\n",
    "import numpy as np\n",
    "import pandas as pd\n",
    "from scipy import stats"
   ]
  },
  {
   "cell_type": "code",
   "execution_count": 3,
   "metadata": {},
   "outputs": [
    {
     "data": {
      "text/plain": [
       "\"\\n95% Confidence Interval (CI):\\nA 95% CI is a range of values that you can be 95% sure it contains the true mean of the population.\\n\\nFor a 95% CI, it means that if we take our population and sample it 100 times, 95 times of those 100, \\nwe will produce a confidence interval that contains the true mean of the population (remember we don't \\nknow this true mean of the population, we are estimating it using the sample). If a large portion of our\\nconfidence intervals do not contain what the hypothesys claims to be the mean (the null hypothesis, \\nthe one we want to reject), then we can reject the null hypothesis (and support our alternative).\\n\\n\""
      ]
     },
     "execution_count": 3,
     "metadata": {},
     "output_type": "execute_result"
    }
   ],
   "source": [
    "'''\n",
    "95% Confidence Interval (CI):\n",
    "A 95% CI is a range of values that you can be 95% sure it contains the true mean of the population.\n",
    "\n",
    "For a 95% CI, it means that if we take our population and sample it 100 times, 95 times of those 100, \n",
    "we will produce a confidence interval that contains the true mean of the population (remember we don't \n",
    "know this true mean of the population, we are estimating it using the sample). If a large portion of our\n",
    "confidence intervals do not contain what the hypothesys claims to be the mean (the null hypothesis, \n",
    "the one we want to reject), then we can reject the null hypothesis (and support our alternative).\n",
    "\n",
    "'''"
   ]
  },
  {
   "cell_type": "markdown",
   "metadata": {},
   "source": [
    "# Challenge 1 - Exploring the Data\n",
    "\n",
    "In this challenge, we will examine all salaries of employees of the City of Chicago. We will start by loading the dataset and examining its contents"
   ]
  },
  {
   "cell_type": "code",
   "execution_count": 5,
   "metadata": {},
   "outputs": [
    {
     "ename": "SyntaxError",
     "evalue": "invalid syntax (<ipython-input-5-a8cb939abea2>, line 3)",
     "output_type": "error",
     "traceback": [
      "\u001b[0;36m  File \u001b[0;32m\"<ipython-input-5-a8cb939abea2>\"\u001b[0;36m, line \u001b[0;32m3\u001b[0m\n\u001b[0;31m    salaries = pd.read_csv(../'Current_Employee_Names__Salaries__and_Position_Titles.csv')\u001b[0m\n\u001b[0m                           ^\u001b[0m\n\u001b[0;31mSyntaxError\u001b[0m\u001b[0;31m:\u001b[0m invalid syntax\n"
     ]
    }
   ],
   "source": [
    "# Run this code:\n",
    "\n",
    "salaries = pd.read_csv(../'Current_Employee_Names__Salaries__and_Position_Titles.csv')"
   ]
  },
  {
   "cell_type": "markdown",
   "metadata": {},
   "source": [
    "Examine the `salaries` dataset using the `head` function below."
   ]
  },
  {
   "cell_type": "code",
   "execution_count": null,
   "metadata": {},
   "outputs": [],
   "source": [
    "# Your code here:\n",
    "\n",
    "salaries.head()"
   ]
  },
  {
   "cell_type": "markdown",
   "metadata": {},
   "source": [
    "We see from looking at the `head` function that there is quite a bit of missing data. Let's examine how much missing data is in each column. Produce this output in the cell below"
   ]
  },
  {
   "cell_type": "code",
   "execution_count": null,
   "metadata": {},
   "outputs": [],
   "source": [
    "# Your code here:\n",
    "\n",
    "salaries.isna().sum()"
   ]
  },
  {
   "cell_type": "markdown",
   "metadata": {},
   "source": [
    "Let's also look at the count of hourly vs. salaried employees. Write the code in the cell below"
   ]
  },
  {
   "cell_type": "code",
   "execution_count": null,
   "metadata": {},
   "outputs": [],
   "source": [
    "# Your code here:\n",
    "\n",
    "salaries['Salary or Hourly'].value_counts()"
   ]
  },
  {
   "cell_type": "markdown",
   "metadata": {},
   "source": [
    "What this information indicates is that the table contains information about two types of employees - salaried and hourly. Some columns apply only to one type of employee while other columns only apply to another kind. This is why there are so many missing values. Therefore, we will not do anything to handle the missing values."
   ]
  },
  {
   "cell_type": "markdown",
   "metadata": {},
   "source": [
    "There are different departments in the city. List all departments and the count of employees in each department."
   ]
  },
  {
   "cell_type": "code",
   "execution_count": null,
   "metadata": {
    "scrolled": true
   },
   "outputs": [],
   "source": [
    "# Your code here:\n",
    "\n",
    "salaries.Department.value_counts()"
   ]
  },
  {
   "cell_type": "markdown",
   "metadata": {},
   "source": [
    "# Challenge 2 - Hypothesis Tests\n",
    "\n",
    "In this section of the lab, we will test whether the hourly wage of all hourly workers is significantly different from $30/hr. Import the correct one sample test function from scipy and perform the hypothesis test for a 95% two sided confidence interval."
   ]
  },
  {
   "cell_type": "code",
   "execution_count": null,
   "metadata": {},
   "outputs": [],
   "source": [
    "'''\n",
    "We will test whether the hourly wage of all hourly workers is significantly different from $30/hr\n",
    "- our hypothesis/what we want to prove (alternative hypothesis) is that the hourly wage is different from $30/hr\n",
    "- null hypothesis: the hourly wage is EQUAL to $30/hr\n",
    "'''"
   ]
  },
  {
   "cell_type": "code",
   "execution_count": null,
   "metadata": {},
   "outputs": [],
   "source": [
    "# Your code here:\n",
    "\n",
    "from scipy.stats import ttest_1samp\n",
    "\n",
    "ttest_1samp(salaries[salaries['Salary or Hourly'] == 'Hourly']['Hourly Rate'], 30)"
   ]
  },
  {
   "cell_type": "code",
   "execution_count": null,
   "metadata": {},
   "outputs": [],
   "source": [
    "'''\n",
    "For a 95% confidence interval, we have an alpha of 5% (0.05).\n",
    "\n",
    "If the p-value is less than alpha (i.e., it is significant), then the confidence \n",
    "interval will NOT contain the hypothesized mean (30) - https://blog.minitab.com/blog/alphas-p-values-confidence-intervals-oh-my\n",
    "\n",
    "As our p-value is p<0.05, we can reject the null hypothesis and\n",
    "we can safely say that the hourly wage \n",
    "of all hourly workers is significantly different from $30/hr\n",
    "(with a probability of making a wrong decison of 5%).\n",
    "\n",
    "'''"
   ]
  },
  {
   "cell_type": "markdown",
   "metadata": {},
   "source": [
    "We are also curious about salaries in the police force. The chief of police in Chicago claimed in a press briefing that salaries this year are higher than last year's mean of $86000/year a year for all salaried employees. Test this one sided hypothesis using a 95% confidence interval.\n",
    "\n",
    "Hint: A one tailed test has a p-value that is half of the two tailed p-value. If our hypothesis is greater than, then to reject, the test statistic must also be positive."
   ]
  },
  {
   "cell_type": "code",
   "execution_count": null,
   "metadata": {},
   "outputs": [],
   "source": [
    "'''\n",
    "The police force chief claims that salaries this year are higher than last year's mean of $86000/year. \n",
    "Therefore we play devil's advocate and say the opposite, to then prove this wrong.\n",
    "- alternative hypothesis: salaries this year > $86000/year\n",
    "- null hypothesis (status quo): salaries this year < $86000/year\n",
    "'''"
   ]
  },
  {
   "cell_type": "code",
   "execution_count": null,
   "metadata": {},
   "outputs": [],
   "source": [
    "# Your code here:\n",
    "\n",
    "ttest_1samp(salaries[(salaries['Salary or Hourly'] == 'Salary') & (salaries['Department'] == 'POLICE')]['Annual Salary'], 86000)"
   ]
  },
  {
   "cell_type": "code",
   "execution_count": null,
   "metadata": {},
   "outputs": [],
   "source": [
    "\n",
    "'''\n",
    "This is a one-sided hypothesis, so we need that the p-value / 2 is smaller than 0.05. In other words, we need\n",
    "p < 0.10. Furthermore, since our null hypothesis is smaller than a value, to reject it we need to be in\n",
    "the critical value zone on the right side of the distribution (thus we need a positive test statistic).\n",
    "\n",
    "So here, to reject the null  hypothesis, our p-value has to be p < 0.10.\n",
    "Which is the case (p-value=0.0020603403550965137). Furthermore, the test statistic is positive.\n",
    "So we can safely say that salaries, this year, for the police department, \n",
    "are significantly higher than last year's mean of $86000/year.\n",
    "'''\n"
   ]
  },
  {
   "cell_type": "markdown",
   "metadata": {},
   "source": [
    "Using the `crosstab` function, find the department that has the most hourly workers. "
   ]
  },
  {
   "cell_type": "code",
   "execution_count": null,
   "metadata": {},
   "outputs": [],
   "source": [
    "# Your code here:\n",
    "\n",
    "pd.crosstab(salaries['Department'], salaries['Salary or Hourly'])"
   ]
  },
  {
   "cell_type": "markdown",
   "metadata": {},
   "source": [
    "The workers from the department with the most hourly workers have complained that their hourly wage is less than $35/hour. Using a one sample t-test, test this one-sided hypothesis at the 95% confidence level."
   ]
  },
  {
   "cell_type": "code",
   "execution_count": null,
   "metadata": {},
   "outputs": [],
   "source": [
    "'''\n",
    "- our hypothesis: hourly wage is less than $35/hour\n",
    "- null hypothesis: hourly wage is higher than $35/hour (and we will try to reject this.)\n",
    "'''"
   ]
  },
  {
   "cell_type": "code",
   "execution_count": null,
   "metadata": {},
   "outputs": [],
   "source": [
    "# Your code here:\n",
    "\n",
    "ttest_1samp(salaries[(salaries['Salary or Hourly'] == 'Hourly') & (salaries['Department'] == 'STREETS & SAN')]['Hourly Rate'], 35)"
   ]
  },
  {
   "cell_type": "code",
   "execution_count": null,
   "metadata": {},
   "outputs": [],
   "source": [
    "'''\n",
    "So again, this is a one-sided test. We need a p-value that is less than 0.10, and here our null hypothesis\n",
    "is that it is greater than a value. Therefore, to reject, we need to be in the critical region on the left side\n",
    "of the distribution and need a negative test statistic.\n",
    "As we got a p-value < 0.10 and a negative test statistic, we can reject the null hypothesis, and say that their \n",
    "hourly wage is statistically (significantly less) than 35$/hour.\n",
    "'''"
   ]
  },
  {
   "cell_type": "markdown",
   "metadata": {},
   "source": [
    "# Challenge 3 - Constructing Confidence Intervals\n",
    "\n",
    "While testing our hypothesis is a great way to gather empirical evidence for accepting or rejecting the hypothesis, another way to gather evidence is by creating a confidence interval. A confidence interval gives us information about the true mean of the population. So for a 95% confidence interval, we are 95% sure that the mean of the population is within the confidence interval. \n",
    ").\n",
    "\n",
    "To read more about confidence intervals, click [here](https://en.wikipedia.org/wiki/Confidence_interval).\n",
    "\n",
    "\n",
    "In the cell below, we will construct a 95% confidence interval for the mean hourly wage of all hourly workers. \n",
    "\n",
    "The confidence interval is computed in SciPy using the `t.interval` function. You can read more about this function [here](https://docs.scipy.org/doc/scipy-0.14.0/reference/generated/scipy.stats.t.html).\n",
    "\n",
    "To compute the confidence interval of the hourly wage, use the 0.95 for the confidence level, number of rows - 1 for degrees of freedom, the mean of the sample for the location parameter and the standard error for the scale. The standard error can be computed using [this](https://docs.scipy.org/doc/scipy/reference/generated/scipy.stats.sem.html) function in SciPy."
   ]
  },
  {
   "cell_type": "code",
   "execution_count": null,
   "metadata": {},
   "outputs": [],
   "source": [
    "# Your code here:\n",
    "\n",
    "from scipy.stats import t, sem\n",
    "\n",
    "\n",
    "a = salaries[salaries['Salary or Hourly'] == 'Hourly']['Hourly Rate']\n",
    "t.interval(0.95, df=len(a)-1, loc=np.mean(a), scale=sem(a))"
   ]
  },
  {
   "cell_type": "markdown",
   "metadata": {},
   "source": [
    "Now construct the 95% confidence interval for all salaried employeed in the police in the cell below."
   ]
  },
  {
   "cell_type": "code",
   "execution_count": null,
   "metadata": {},
   "outputs": [],
   "source": [
    "# Your code here:\n",
    "\n",
    "b = salaries[(salaries['Salary or Hourly'] == 'Salary') & (salaries['Department'] == 'POLICE')]['Annual Salary']\n",
    "t.interval(0.95, df=len(b)-1, loc=np.mean(b), scale=sem(b))"
   ]
  },
  {
   "cell_type": "markdown",
   "metadata": {},
   "source": [
    "# Bonus Challenge - Hypothesis Tests of Proportions\n",
    "\n",
    "Another type of one sample test is a hypothesis test of proportions. In this test, we examine whether the proportion of a group in our sample is significantly different than a fraction. \n",
    "\n",
    "You can read more about one sample proportion tests [here](http://sphweb.bumc.bu.edu/otlt/MPH-Modules/BS/SAS/SAS6-CategoricalData/SAS6-CategoricalData2.html).\n",
    "\n",
    "In the cell below, use the `proportions_ztest` function from `statsmodels` to perform a hypothesis test that will determine whether the number of hourly workers in the City of Chicago is significantly different from 25% at the 95% confidence level."
   ]
  },
  {
   "cell_type": "code",
   "execution_count": null,
   "metadata": {},
   "outputs": [],
   "source": [
    "# Your code here:\n",
    "\n",
    "from statsmodels.stats.proportion import proportions_ztest\n",
    "\n",
    "\n",
    "stat, pval = proportions_ztest(count=salaries['Salary or Hourly'].value_counts()[1], nobs=salaries.shape[0], value=0.25)"
   ]
  },
  {
   "cell_type": "markdown",
   "metadata": {},
   "source": [
    "# Extra Resource: Custom function for one-sided test"
   ]
  },
  {
   "cell_type": "code",
   "execution_count": null,
   "metadata": {},
   "outputs": [],
   "source": [
    "def one_sided_test(data, val, direction_null = 'greater', alpha = 0.05):\n",
    "    results = stats.ttest_1samp(data, val)\n",
    "    if direction_null == 'greater':\n",
    "        if (results[0] < 0) & (results[1]/2 < float(alpha)):\n",
    "            print(\"Reject null hypothesis, mean is less than {}.\".format(val))\n",
    "        else:\n",
    "            print(\"Fail to reject null hypothesis.\")\n",
    "    elif direction_null == 'smaller':\n",
    "        if (results[0] > 0) & (results[1]/2 < float(alpha)):\n",
    "            print(\"Reject null hypothesis, mean is greater than {}.\".format(val))\n",
    "        else:\n",
    "            print(\"Fail to reject null hypothesis.\")\n",
    "    else:\n",
    "        raise ValueError(\"Please specify a valid direction for the one-sided test.\")"
   ]
  },
  {
   "cell_type": "code",
   "execution_count": null,
   "metadata": {},
   "outputs": [],
   "source": []
  }
 ],
 "metadata": {
  "kernelspec": {
   "display_name": "Python 3",
   "language": "python",
   "name": "python3"
  },
  "language_info": {
   "codemirror_mode": {
    "name": "ipython",
    "version": 3
   },
   "file_extension": ".py",
   "mimetype": "text/x-python",
   "name": "python",
   "nbconvert_exporter": "python",
   "pygments_lexer": "ipython3",
   "version": "3.8.5"
  }
 },
 "nbformat": 4,
 "nbformat_minor": 2
}
