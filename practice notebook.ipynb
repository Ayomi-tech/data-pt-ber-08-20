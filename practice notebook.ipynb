{
 "cells": [
  {
   "cell_type": "code",
   "execution_count": 203,
   "metadata": {},
   "outputs": [],
   "source": [
    "import re\n",
    "import random\n",
    "import numpy as np\n",
    "import pandas as pd "
   ]
  },
  {
   "cell_type": "code",
   "execution_count": 204,
   "metadata": {},
   "outputs": [
    {
     "data": {
      "text/plain": [
       "[10, 53, 96]"
      ]
     },
     "execution_count": 204,
     "metadata": {},
     "output_type": "execute_result"
    }
   ],
   "source": [
    "cd = [[5,5], [50,3],[90, 6]]\n",
    "\n",
    "new = [(num1 + num2 )for (num1,num2) in cd]\n",
    "\n",
    "new"
   ]
  },
  {
   "cell_type": "code",
   "execution_count": 205,
   "metadata": {},
   "outputs": [
    {
     "data": {
      "text/plain": [
       "[10, 53, 96, 54]"
      ]
     },
     "execution_count": 205,
     "metadata": {},
     "output_type": "execute_result"
    }
   ],
   "source": [
    "bo = [[5,5], [50,3],[90, 6], [50, 4]]\n",
    "bu = [(num1 + num3) for (num1, num3) in bo]\n",
    "bu"
   ]
  },
  {
   "cell_type": "code",
   "execution_count": 206,
   "metadata": {},
   "outputs": [],
   "source": [
    "urls = [\n",
    "    \"www.google.com/238ijg34wiughr\",\n",
    "    \"www.twitter.com/362ttgsf/2f4g/hello\",\n",
    "    \"www.reddit.com/banana.pdf\",\n",
    "    \"www.myspace.de/image.jpg\",\n",
    "    \"https://www.guardian.co.uk/news\",\n",
    "]"
   ]
  },
  {
   "cell_type": "code",
   "execution_count": 207,
   "metadata": {},
   "outputs": [
    {
     "data": {
      "text/plain": [
       "['youtube']"
      ]
     },
     "execution_count": 207,
     "metadata": {},
     "output_type": "execute_result"
    }
   ],
   "source": [
    "domain_pattern = r\"\\.(\\w+)\\.\"\n",
    "urlss= \"www.youtube.com/watch?v=keTJPH-alFQ\"\n",
    "re.findall(domain_pattern, urlss)"
   ]
  },
  {
   "cell_type": "code",
   "execution_count": 208,
   "metadata": {},
   "outputs": [
    {
     "data": {
      "text/plain": [
       "['google']"
      ]
     },
     "execution_count": 208,
     "metadata": {},
     "output_type": "execute_result"
    }
   ],
   "source": [
    "urlss= \"mail.google.com/mail/u/0/#\"\n",
    "re.findall(domain_pattern, urlss)"
   ]
  },
  {
   "cell_type": "code",
   "execution_count": 209,
   "metadata": {},
   "outputs": [
    {
     "data": {
      "text/plain": [
       "[['google'], ['twitter'], ['reddit'], ['myspace'], ['guardian']]"
      ]
     },
     "execution_count": 209,
     "metadata": {},
     "output_type": "execute_result"
    }
   ],
   "source": [
    "domains = []\n",
    "for url in urls:\n",
    "    num_domian = re.findall(domain_pattern, url)\n",
    "    domains.append(num_domian)\n",
    "    \n",
    "    \n",
    "    \n",
    "domains    "
   ]
  },
  {
   "cell_type": "code",
   "execution_count": 210,
   "metadata": {},
   "outputs": [
    {
     "data": {
      "text/plain": [
       "['google', 'twitter', 'reddit', 'myspace', 'guardian']"
      ]
     },
     "execution_count": 210,
     "metadata": {},
     "output_type": "execute_result"
    }
   ],
   "source": [
    "domains = []\n",
    "for url in urls:\n",
    "    domain = re.findall(domain_pattern, url)[0]\n",
    "    domains.append(domain)\n",
    "    \n",
    "domains    "
   ]
  },
  {
   "cell_type": "code",
   "execution_count": 211,
   "metadata": {},
   "outputs": [
    {
     "data": {
      "text/plain": [
       "['google', 'twitter', 'reddit', 'myspace', 'guardian']"
      ]
     },
     "execution_count": 211,
     "metadata": {},
     "output_type": "execute_result"
    }
   ],
   "source": [
    "doma = []\n",
    "for url in urls:\n",
    "    doma.append(re.findall(domain_pattern, url)[0])\n",
    "    \n",
    "    \n",
    "doma  "
   ]
  },
  {
   "cell_type": "code",
   "execution_count": 212,
   "metadata": {},
   "outputs": [
    {
     "data": {
      "text/plain": [
       "[['guardian'], ['guardian'], ['guardian'], ['guardian'], ['guardian']]"
      ]
     },
     "execution_count": 212,
     "metadata": {},
     "output_type": "execute_result"
    }
   ],
   "source": [
    "domainss = [re.findall(domain_pattern, url) for urd in urls]\n",
    "domainss"
   ]
  },
  {
   "cell_type": "code",
   "execution_count": 213,
   "metadata": {},
   "outputs": [],
   "source": [
    "men = [45, 90, 120, 42150, 0, 1254]"
   ]
  },
  {
   "cell_type": "code",
   "execution_count": 214,
   "metadata": {},
   "outputs": [
    {
     "data": {
      "text/plain": [
       "[90, 180, 240, 84300, 0, 2508]"
      ]
     },
     "execution_count": 214,
     "metadata": {},
     "output_type": "execute_result"
    }
   ],
   "source": [
    "guys = []\n",
    "\n",
    "for man in men:\n",
    "    num = man * 2\n",
    "    guys.append(num)\n",
    "   \n",
    "\n",
    "guys"
   ]
  },
  {
   "cell_type": "code",
   "execution_count": 215,
   "metadata": {},
   "outputs": [
    {
     "data": {
      "text/plain": [
       "[67.5, 135.0, 180.0, 63225.0, 0.0, 1881.0]"
      ]
     },
     "execution_count": 215,
     "metadata": {},
     "output_type": "execute_result"
    }
   ],
   "source": [
    "[man * 1.5 for man in men]"
   ]
  },
  {
   "cell_type": "code",
   "execution_count": 216,
   "metadata": {},
   "outputs": [
    {
     "data": {
      "text/plain": [
       "[67, 135, 180, 63225, 0, 1881]"
      ]
     },
     "execution_count": 216,
     "metadata": {},
     "output_type": "execute_result"
    }
   ],
   "source": [
    "[int(man * 1.5) for man in men]"
   ]
  },
  {
   "cell_type": "code",
   "execution_count": 217,
   "metadata": {},
   "outputs": [
    {
     "data": {
      "text/plain": [
       "range(0, 20)"
      ]
     },
     "execution_count": 217,
     "metadata": {},
     "output_type": "execute_result"
    }
   ],
   "source": [
    "range(20)"
   ]
  },
  {
   "cell_type": "code",
   "execution_count": 218,
   "metadata": {},
   "outputs": [
    {
     "data": {
      "text/plain": [
       "[1, 3, 5, 7, 9, 11, 13, 15, 17, 19, 21, 23, 25, 27, 29, 31, 33, 35, 37, 39]"
      ]
     },
     "execution_count": 218,
     "metadata": {},
     "output_type": "execute_result"
    }
   ],
   "source": [
    "[num *2 + 1 for num in range(20)]"
   ]
  },
  {
   "cell_type": "code",
   "execution_count": 219,
   "metadata": {},
   "outputs": [],
   "source": [
    "words = [\"ice cream\", \"banana\", \"apple\", \"Bread\", \"Cake\"]"
   ]
  },
  {
   "cell_type": "code",
   "execution_count": 220,
   "metadata": {},
   "outputs": [
    {
     "data": {
      "text/plain": [
       "['banana', 'Bread']"
      ]
     },
     "execution_count": 220,
     "metadata": {},
     "output_type": "execute_result"
    }
   ],
   "source": [
    "b_words = []\n",
    "\n",
    "for word in words:\n",
    "    if word.lower().startswith(\"b\"):\n",
    "         b_words.append(word)\n",
    "            \n",
    "b_words            "
   ]
  },
  {
   "cell_type": "code",
   "execution_count": 221,
   "metadata": {},
   "outputs": [
    {
     "data": {
      "text/plain": [
       "['banana', 'Bread']"
      ]
     },
     "execution_count": 221,
     "metadata": {},
     "output_type": "execute_result"
    }
   ],
   "source": [
    "[word for word in words if word.lower().startswith('b')]"
   ]
  },
  {
   "cell_type": "code",
   "execution_count": 222,
   "metadata": {},
   "outputs": [
    {
     "data": {
      "text/plain": [
       "[39, 21, 20, 24, 15, 14, 33, 30, 1, 23, 2, 37, 37, 7, 22, 10, 12, 21, 15, 39]"
      ]
     },
     "execution_count": 222,
     "metadata": {},
     "output_type": "execute_result"
    }
   ],
   "source": [
    "customers = random.choices(range(40), k=20)\n",
    "customers"
   ]
  },
  {
   "cell_type": "code",
   "execution_count": 223,
   "metadata": {},
   "outputs": [
    {
     "name": "stdout",
     "output_type": "stream",
     "text": [
      "You are a great customer and you have just won a car: 39\n",
      "39\n",
      "You are a great customer and you have just won a car: 21\n",
      "21\n",
      "You have just won yourself a cake and a cup of juice: 20\n",
      "20\n",
      "You are a great customer and you have just won a car: 24\n",
      "24\n",
      "You have just won yourself a cake and a cup of juice: 15\n",
      "15\n",
      "You have just won yourself a cake and a cup of juice: 14\n",
      "14\n",
      "You are a great customer and you have just won a car: 33\n",
      "33\n",
      "You are a great customer and you have just won a car: 30\n",
      "30\n",
      "You have just won yourself a cake and a cup of juice: 1\n",
      "1\n",
      "You are a great customer and you have just won a car: 23\n",
      "23\n",
      "You have just won yourself a cake and a cup of juice: 2\n",
      "2\n",
      "You are a great customer and you have just won a car: 37\n",
      "37\n",
      "You are a great customer and you have just won a car: 37\n",
      "37\n",
      "You have just won yourself a cake and a cup of juice: 7\n",
      "7\n",
      "You are a great customer and you have just won a car: 22\n",
      "22\n",
      "You have just won yourself a cake and a cup of juice: 10\n",
      "10\n",
      "You have just won yourself a cake and a cup of juice: 12\n",
      "12\n",
      "You are a great customer and you have just won a car: 21\n",
      "21\n",
      "You have just won yourself a cake and a cup of juice: 15\n",
      "15\n",
      "You are a great customer and you have just won a car: 39\n",
      "39\n"
     ]
    }
   ],
   "source": [
    "for num in customers:\n",
    "    if num <=16 in customers:\n",
    "        print(f\"You need to work harder to spend more: {num}\")\n",
    "        print(num)\n",
    "    elif num <= 20 in customers:\n",
    "        print(f\"You have just won yourself a cake and a cup of juice: {num}\")\n",
    "        print(num)\n",
    "    else:\n",
    "        print(f\"You are a great customer and you have just won a car: {num}\")\n",
    "        print(num)"
   ]
  },
  {
   "cell_type": "code",
   "execution_count": 224,
   "metadata": {},
   "outputs": [],
   "source": [
    "customer_gifts = {0: \"Spend more money\",\n",
    "    1:\"Here are some chocolate\",\n",
    "    2:\"Take a cake\",\n",
    "    3:\"You won a car\"}\n",
    "    "
   ]
  },
  {
   "cell_type": "code",
   "execution_count": 225,
   "metadata": {
    "scrolled": true
   },
   "outputs": [
    {
     "name": "stdout",
     "output_type": "stream",
     "text": [
      "You won a car\n",
      "Take a cake\n",
      "Take a cake\n",
      "Take a cake\n",
      "Here are some chocolate\n",
      "Here are some chocolate\n",
      "You won a car\n",
      "You won a car\n",
      "Spend more money\n",
      "Take a cake\n",
      "Spend more money\n",
      "You won a car\n",
      "You won a car\n",
      "Spend more money\n",
      "Take a cake\n",
      "Here are some chocolate\n",
      "Here are some chocolate\n",
      "Take a cake\n",
      "Here are some chocolate\n",
      "You won a car\n"
     ]
    }
   ],
   "source": [
    "# this goes like for num in bars/10 and for the bars in customers. for num in [outcome of the calulation]\n",
    "for num in [int(bars/10) for bars in customers]:\n",
    "    print(customer_gifts[num])"
   ]
  },
  {
   "cell_type": "code",
   "execution_count": 226,
   "metadata": {},
   "outputs": [],
   "source": [
    "customer_gift_lambda_funcs = {\n",
    "    0: lambda: print(\"Spend more money\"),\n",
    "    1: lambda: print(\"Here's some chocolate\"),\n",
    "    2: lambda: print(\"Take a cake!\"),\n",
    "    3: lambda: print(\"Have a house\")}"
   ]
  },
  {
   "cell_type": "code",
   "execution_count": 227,
   "metadata": {},
   "outputs": [
    {
     "name": "stdout",
     "output_type": "stream",
     "text": [
      "Have a house\n",
      "Take a cake!\n",
      "Take a cake!\n",
      "Take a cake!\n",
      "Here's some chocolate\n",
      "Here's some chocolate\n",
      "Have a house\n",
      "Have a house\n",
      "Spend more money\n",
      "Take a cake!\n",
      "Spend more money\n",
      "Have a house\n",
      "Have a house\n",
      "Spend more money\n",
      "Take a cake!\n",
      "Here's some chocolate\n",
      "Here's some chocolate\n",
      "Take a cake!\n",
      "Here's some chocolate\n",
      "Have a house\n"
     ]
    }
   ],
   "source": [
    "#lambda function, you will have to call with parenthesis at the back to getyour result.\n",
    "for u in[int(um/10)for um in customers]:\n",
    "    customer_gift_lambda_funcs[u]()"
   ]
  },
  {
   "cell_type": "code",
   "execution_count": 228,
   "metadata": {},
   "outputs": [
    {
     "name": "stdout",
     "output_type": "stream",
     "text": [
      "You won a car\n",
      "3\n",
      "Take a cake\n",
      "2\n",
      "Take a cake\n",
      "2\n",
      "Take a cake\n",
      "2\n",
      "Here are some chocolate\n",
      "1\n",
      "Here are some chocolate\n",
      "1\n",
      "You won a car\n",
      "3\n",
      "You won a car\n",
      "3\n",
      "Spend more money\n",
      "0\n",
      "Take a cake\n",
      "2\n",
      "Spend more money\n",
      "0\n",
      "You won a car\n",
      "3\n",
      "You won a car\n",
      "3\n",
      "Spend more money\n",
      "0\n",
      "Take a cake\n",
      "2\n",
      "Here are some chocolate\n",
      "1\n",
      "Here are some chocolate\n",
      "1\n",
      "Take a cake\n",
      "2\n",
      "Here are some chocolate\n",
      "1\n",
      "You won a car\n",
      "3\n"
     ]
    }
   ],
   "source": [
    "for i in [int(num/10) for num in customers]:\n",
    "    print(customer_gifts[i])\n",
    "    print(i)\n",
    "   "
   ]
  },
  {
   "cell_type": "code",
   "execution_count": 229,
   "metadata": {},
   "outputs": [
    {
     "data": {
      "text/plain": [
       "4"
      ]
     },
     "execution_count": 229,
     "metadata": {},
     "output_type": "execute_result"
    }
   ],
   "source": [
    "#function... anything you call with square as the  parameter will be square by 2\n",
    "\n",
    "def square(x):\n",
    "    return x ** 2\n",
    "\n",
    "square(2)"
   ]
  },
  {
   "cell_type": "code",
   "execution_count": 230,
   "metadata": {},
   "outputs": [
    {
     "data": {
      "text/plain": [
       "4"
      ]
     },
     "execution_count": 230,
     "metadata": {},
     "output_type": "execute_result"
    }
   ],
   "source": [
    "#lambda function \n",
    "sq_uare = lambda x: x**2\n",
    "\n",
    "sq_uare(2)\n"
   ]
  },
  {
   "cell_type": "code",
   "execution_count": 231,
   "metadata": {},
   "outputs": [],
   "source": [
    "bf = [20, 30, 40, 50, 60, 70, 80, 100]"
   ]
  },
  {
   "cell_type": "code",
   "execution_count": 232,
   "metadata": {},
   "outputs": [
    {
     "data": {
      "text/plain": [
       "[40, 60, 80, 100, 120, 140, 160, 200]"
      ]
     },
     "execution_count": 232,
     "metadata": {},
     "output_type": "execute_result"
    }
   ],
   "source": [
    "# adding [] tells python that you are performing calculation on everything inside the list.\n",
    "dc = [fb *2 for fb in bf]\n",
    "dc"
   ]
  },
  {
   "cell_type": "code",
   "execution_count": 233,
   "metadata": {},
   "outputs": [],
   "source": [
    "\n",
    "buyers_gift = {0: \"Nice\",\n",
    "              1: \"Good\",\n",
    "              2: \"Beautiful\",\n",
    "              3: \"Cute\",\n",
    "              4: \"Best\"}\n"
   ]
  },
  {
   "cell_type": "code",
   "execution_count": 234,
   "metadata": {},
   "outputs": [
    {
     "name": "stdout",
     "output_type": "stream",
     "text": [
      "Nice\n",
      "Nice\n",
      "Nice\n",
      "Good\n",
      "Good\n",
      "Good\n",
      "Good\n",
      "Beautiful\n"
     ]
    }
   ],
   "source": [
    "for num in [int(ut / 100) for ut in dc]:\n",
    "    print(buyers_gift[num])"
   ]
  },
  {
   "cell_type": "code",
   "execution_count": 235,
   "metadata": {},
   "outputs": [
    {
     "data": {
      "text/plain": [
       "{'street': ['HIGH ST', 'LOW ST'], 'city': ['SACRAMENTO', 'SACRAMENTO']}"
      ]
     },
     "execution_count": 235,
     "metadata": {},
     "output_type": "execute_result"
    }
   ],
   "source": [
    "{\"street\": [\"HIGH ST\", \"LOW ST\"],\n",
    " \"city\": [\"SACRAMENTO\", \"SACRAMENTO\"]}"
   ]
  },
  {
   "cell_type": "code",
   "execution_count": 236,
   "metadata": {},
   "outputs": [
    {
     "data": {
      "text/plain": [
       "[(0, 12), (1, 'boy'), (2, 78), (3, 'girl'), (4, 'man'), (5, 'woman')]"
      ]
     },
     "execution_count": 236,
     "metadata": {},
     "output_type": "execute_result"
    }
   ],
   "source": [
    "#enumerate will number each element\n",
    "aj  = [12, 'boy', 78, 'girl',  'man', 'woman']\n",
    "list(enumerate(aj))"
   ]
  },
  {
   "cell_type": "code",
   "execution_count": 237,
   "metadata": {},
   "outputs": [],
   "source": [
    "u = ('hello', 'world')"
   ]
  },
  {
   "cell_type": "code",
   "execution_count": 238,
   "metadata": {},
   "outputs": [
    {
     "name": "stdout",
     "output_type": "stream",
     "text": [
      "hello\n",
      "world\n"
     ]
    }
   ],
   "source": [
    "s = u[0]\n",
    "t = u[1]\n",
    "print(s)\n",
    "print(t)"
   ]
  },
  {
   "cell_type": "code",
   "execution_count": 239,
   "metadata": {},
   "outputs": [
    {
     "data": {
      "text/plain": [
       "'london'"
      ]
     },
     "execution_count": 239,
     "metadata": {},
     "output_type": "execute_result"
    }
   ],
   "source": [
    "city = 'london'\n",
    "city"
   ]
  },
  {
   "cell_type": "code",
   "execution_count": 240,
   "metadata": {},
   "outputs": [
    {
     "data": {
      "text/plain": [
       "'London'"
      ]
     },
     "execution_count": 240,
     "metadata": {},
     "output_type": "execute_result"
    }
   ],
   "source": [
    "#this change the first letter from london to capital letter L\n",
    "city.capitalize()"
   ]
  },
  {
   "cell_type": "code",
   "execution_count": 241,
   "metadata": {},
   "outputs": [
    {
     "data": {
      "text/plain": [
       "True"
      ]
     },
     "execution_count": 241,
     "metadata": {},
     "output_type": "execute_result"
    }
   ],
   "source": [
    "#getting the last alphabet \n",
    "city.endswith('n')"
   ]
  },
  {
   "cell_type": "code",
   "execution_count": 242,
   "metadata": {},
   "outputs": [
    {
     "data": {
      "text/plain": [
       "False"
      ]
     },
     "execution_count": 242,
     "metadata": {},
     "output_type": "execute_result"
    }
   ],
   "source": [
    "city.endswith('r')"
   ]
  },
  {
   "cell_type": "code",
   "execution_count": 243,
   "metadata": {},
   "outputs": [
    {
     "name": "stdout",
     "output_type": "stream",
     "text": [
      "\u001b[34mApplications\u001b[m\u001b[m            \u001b[34mMusic\u001b[m\u001b[m                   \u001b[34mhomebrew\u001b[m\u001b[m\r\n",
      "\u001b[34mDesktop\u001b[m\u001b[m                 \u001b[34mPictures\u001b[m\u001b[m                \u001b[34mmac-learning-\u001b[m\u001b[m\r\n",
      "\u001b[34mDocuments\u001b[m\u001b[m               \u001b[34mPublic\u001b[m\u001b[m                  middle_tn_schools.csv\r\n",
      "\u001b[34mDownloads\u001b[m\u001b[m               README.md               practice notebook.ipynb\r\n",
      "\u001b[34mLibrary\u001b[m\u001b[m                 Untitled.ipynb\r\n",
      "\u001b[34mMovies\u001b[m\u001b[m                  Untitled3.ipynb\r\n"
     ]
    }
   ],
   "source": [
    "!ls\n"
   ]
  },
  {
   "cell_type": "code",
   "execution_count": 244,
   "metadata": {},
   "outputs": [],
   "source": [
    "!cd Desktop/"
   ]
  },
  {
   "cell_type": "code",
   "execution_count": 245,
   "metadata": {},
   "outputs": [
    {
     "name": "stdout",
     "output_type": "stream",
     "text": [
      "\u001b[34mApplications\u001b[m\u001b[m            \u001b[34mMusic\u001b[m\u001b[m                   \u001b[34mhomebrew\u001b[m\u001b[m\r\n",
      "\u001b[34mDesktop\u001b[m\u001b[m                 \u001b[34mPictures\u001b[m\u001b[m                \u001b[34mmac-learning-\u001b[m\u001b[m\r\n",
      "\u001b[34mDocuments\u001b[m\u001b[m               \u001b[34mPublic\u001b[m\u001b[m                  middle_tn_schools.csv\r\n",
      "\u001b[34mDownloads\u001b[m\u001b[m               README.md               practice notebook.ipynb\r\n",
      "\u001b[34mLibrary\u001b[m\u001b[m                 Untitled.ipynb\r\n",
      "\u001b[34mMovies\u001b[m\u001b[m                  Untitled3.ipynb\r\n"
     ]
    }
   ],
   "source": [
    "!ls"
   ]
  },
  {
   "cell_type": "markdown",
   "metadata": {},
   "source": [
    "###df.columns df.dtypes  df.tail() df.head() \n",
    "df.isnull().sum() adding of all null element together in each column\n",
    "\n",
    "Drop = [‘id’, ‘name’] this are the columns that need to be drop\n",
    "Df.drop(drop, axis =‘columns’, inplace=True) groping the columns here \n",
    "\n",
    "Df.fillna({‘name’ : 0}, inplace=True) this fill all the missing value with 0 in the       name column\n",
    "\n",
    "df[[‘name’]] \n",
    "\n",
    "df[[‘name’, ‘price’]]\n",
    "\n",
    "df[5:9] giving us index 5 to 8 from the data frame \n",
    "\n",
    "df[0:11] [[‘name’, ‘amount’]] this pick row from 0 to 10 from the name and amount columns. \n",
    "\n",
    "df[df[‘amount’] < 100] this will give us details that goes with the calculation\n",
    "\n",
    "df.nlargest(10, ‘reviews’) calling out top 10 reviews from the dataset\n",
    "\n",
    "df[‘cities’].unique this will bring out all cities from the dateframe without duplicate, so we can know the numbers of cities on the dataframe\n",
    "\n",
    "df[‘cities’].value_counts() this would count the numbers of each cities \n",
    "\n",
    "df[‘cities’].value_counts().head(10) this will print the top 10 cities\n",
    "\n",
    "df[‘cities’].value_counts().plot(kind=‘bar’)\n",
    "\n",
    "sns.countplot(data=df, x=‘cities’) this is a season graph that will show city as the x axis and df as y axis\n"
   ]
  },
  {
   "cell_type": "code",
   "execution_count": 246,
   "metadata": {},
   "outputs": [
    {
     "name": "stdout",
     "output_type": "stream",
     "text": [
      "Is sister in family: True\n"
     ]
    }
   ],
   "source": [
    "# checking for element in variable \n",
    "fam =['father', 'mother', 'sister', 'brother']\n",
    "print('Is sister in family:', 'sister' in fam)\n"
   ]
  },
  {
   "cell_type": "code",
   "execution_count": 247,
   "metadata": {},
   "outputs": [
    {
     "data": {
      "text/plain": [
       "'father mother and children'"
      ]
     },
     "execution_count": 247,
     "metadata": {},
     "output_type": "execute_result"
    }
   ],
   "source": [
    "#replace\n",
    "fami = \"father mother and child\"\n",
    "fami.replace('child', 'children')"
   ]
  },
  {
   "cell_type": "code",
   "execution_count": 248,
   "metadata": {},
   "outputs": [
    {
     "name": "stdout",
     "output_type": "stream",
     "text": [
      "BECOMING DATA ANALYST\n"
     ]
    }
   ],
   "source": [
    "#upper and lower\n",
    "choice = \"becoming data analyst\"\n",
    "print(choice.upper())"
   ]
  },
  {
   "cell_type": "code",
   "execution_count": 249,
   "metadata": {},
   "outputs": [
    {
     "data": {
      "text/plain": [
       "'becoming data analyst'"
      ]
     },
     "execution_count": 249,
     "metadata": {},
     "output_type": "execute_result"
    }
   ],
   "source": [
    "choice.lower()"
   ]
  },
  {
   "cell_type": "code",
   "execution_count": 250,
   "metadata": {},
   "outputs": [
    {
     "data": {
      "text/plain": [
       "29"
      ]
     },
     "execution_count": 250,
     "metadata": {},
     "output_type": "execute_result"
    }
   ],
   "source": [
    "num = 13 * 2 + 3\n",
    "num"
   ]
  },
  {
   "cell_type": "code",
   "execution_count": 251,
   "metadata": {},
   "outputs": [
    {
     "data": {
      "text/plain": [
       "27"
      ]
     },
     "execution_count": 251,
     "metadata": {},
     "output_type": "execute_result"
    }
   ],
   "source": [
    "num = num -2\n",
    "num"
   ]
  },
  {
   "cell_type": "code",
   "execution_count": 252,
   "metadata": {},
   "outputs": [
    {
     "name": "stdout",
     "output_type": "stream",
     "text": [
      "6\n"
     ]
    }
   ],
   "source": [
    "dft = range(3, 20, 3)\n",
    "print(len(dft))"
   ]
  },
  {
   "cell_type": "code",
   "execution_count": 253,
   "metadata": {},
   "outputs": [
    {
     "name": "stdout",
     "output_type": "stream",
     "text": [
      "3\n",
      "4\n",
      "5\n"
     ]
    }
   ],
   "source": [
    "x = range(3, 6)\n",
    "for n in x:\n",
    "  print(n)"
   ]
  },
  {
   "cell_type": "code",
   "execution_count": 254,
   "metadata": {},
   "outputs": [
    {
     "name": "stdout",
     "output_type": "stream",
     "text": [
      "3\n",
      "5\n",
      "7\n",
      "9\n",
      "11\n",
      "13\n",
      "15\n",
      "17\n",
      "19\n"
     ]
    }
   ],
   "source": [
    "x = range(3, 20, 2)\n",
    "for n in x:\n",
    "  print(n)"
   ]
  },
  {
   "cell_type": "code",
   "execution_count": 255,
   "metadata": {},
   "outputs": [],
   "source": [
    "well_height = 125\n",
    "daily_distance = 30\n",
    "nightly_distance = 20\n",
    "snail_position = 0"
   ]
  },
  {
   "cell_type": "code",
   "execution_count": 256,
   "metadata": {},
   "outputs": [],
   "source": [
    "days = 0"
   ]
  },
  {
   "cell_type": "code",
   "execution_count": 257,
   "metadata": {},
   "outputs": [
    {
     "name": "stdout",
     "output_type": "stream",
     "text": [
      "snailis in the well\n",
      "snailis in the well\n",
      "snailis in the well\n",
      "snailis in the well\n",
      "snailis in the well\n",
      "snailis in the well\n",
      "snailis in the well\n",
      "snailis in the well\n",
      "snailis in the well\n",
      "snailis in the well\n",
      "snailis in the well\n",
      "snail is out of the well\n"
     ]
    }
   ],
   "source": [
    "while snail_position <= well_height:\n",
    "    snail_position += daily_distance\n",
    "    print('snailis in the well')\n",
    "    days += 1\n",
    "    if snail_position <= well_height:\n",
    "        snail_position -= nightly_distance\n",
    "    else:\n",
    "        print('snail is out of the well')"
   ]
  },
  {
   "cell_type": "code",
   "execution_count": 258,
   "metadata": {},
   "outputs": [],
   "source": [
    "stops = [(10, 0), (4, 1), (3, 5), (3, 4), (5, 1), (1, 5), (5, 8), (4, 6), (2, 3)]"
   ]
  },
  {
   "cell_type": "code",
   "execution_count": 259,
   "metadata": {},
   "outputs": [
    {
     "data": {
      "text/plain": [
       "[10, 4, 3, 3, 5, 1, 5, 4, 2]"
      ]
     },
     "execution_count": 259,
     "metadata": {},
     "output_type": "execute_result"
    }
   ],
   "source": [
    "passenger_at_stop = [stop[0]  for stop in stops]\n",
    "passenger_at_stop"
   ]
  },
  {
   "cell_type": "code",
   "execution_count": null,
   "metadata": {},
   "outputs": [],
   "source": []
  },
  {
   "cell_type": "code",
   "execution_count": 260,
   "metadata": {},
   "outputs": [
    {
     "name": "stdout",
     "output_type": "stream",
     "text": [
      "The passengers at each stop are [10, 13, 11, 10, 14, 10, 7, 5, 4]\n"
     ]
    }
   ],
   "source": [
    "passenger_at_stop = []\n",
    "total = 0\n",
    "\n",
    "for stop in stops:\n",
    "    total += stop[0]\n",
    "    total -= stop[1]\n",
    "    passenger_at_stop.append(total)\n",
    "print('The passengers at each stop are', passenger_at_stop) "
   ]
  },
  {
   "cell_type": "code",
   "execution_count": 261,
   "metadata": {},
   "outputs": [
    {
     "name": "stdout",
     "output_type": "stream",
     "text": [
      "enter your first name:ayo\n"
     ]
    },
    {
     "name": "stderr",
     "output_type": "stream",
     "text": [
      "/opt/anaconda3/lib/python3.7/site-packages/ipykernel_launcher.py:4: FutureWarning: elementwise comparison failed; returning scalar instead, but in the future will perform elementwise comparison\n",
      "  after removing the cwd from sys.path.\n"
     ]
    }
   ],
   "source": [
    "#a = input('enter your first name')\n",
    "\n",
    "\n",
    "if a== input('enter your first name:'):\n",
    "    print(\"my name is:\", a)\n",
    "    a == str()\n",
    "\n",
    "    "
   ]
  },
  {
   "cell_type": "code",
   "execution_count": 262,
   "metadata": {},
   "outputs": [
    {
     "name": "stdout",
     "output_type": "stream",
     "text": [
      "Good to go\n",
      "how old are you 24\n",
      "24\n",
      "You are welcome\n"
     ]
    }
   ],
   "source": [
    "income = True\n",
    "credit = True\n",
    "student = True\n",
    "age = 30\n",
    "\n",
    "if income and credit and student:\n",
    "    print(\"Good to go\")\n",
    "    print(input('how old are you '))\n",
    "else:\n",
    "    print(\"Try again later\")\n",
    "    \n",
    "while age >= 30:\n",
    "    print(\"You are welcome\")\n",
    "    break\n",
    "else:\n",
    "    print(\"Try again later\")\n",
    "    "
   ]
  },
  {
   "cell_type": "code",
   "execution_count": 263,
   "metadata": {},
   "outputs": [
    {
     "name": "stdout",
     "output_type": "stream",
     "text": [
      "how old are you? 37\n",
      "I am 37 years old\n",
      "You are eligible \n"
     ]
    }
   ],
   "source": [
    "good_income = True\n",
    "good_credit = True\n",
    "expat = True\n",
    "age = 30\n",
    "\n",
    "\n",
    "age_check = int(input('how old are you? '))\n",
    "if good_income and good_credit and expat and (age_check > age):\n",
    "    print(f\"I am {age_check} years old\")\n",
    "    print(\"You are eligible \")\n",
    "else:\n",
    "    print(\"You are not eligible\")\n",
    "    \n",
    "#while age >= 30:\n",
    "#    print(\"You are welcome\")\n",
    "#    break\n",
    "#else:\n",
    "#    print(\"Try again later\")\n",
    "    "
   ]
  },
  {
   "cell_type": "code",
   "execution_count": 264,
   "metadata": {},
   "outputs": [
    {
     "ename": "SyntaxError",
     "evalue": "invalid syntax (<ipython-input-264-68d7d985ccda>, line 7)",
     "output_type": "error",
     "traceback": [
      "\u001b[0;36m  File \u001b[0;32m\"<ipython-input-264-68d7d985ccda>\"\u001b[0;36m, line \u001b[0;32m7\u001b[0m\n\u001b[0;31m    if good_income == True\u001b[0m\n\u001b[0m                          ^\u001b[0m\n\u001b[0;31mSyntaxError\u001b[0m\u001b[0;31m:\u001b[0m invalid syntax\n"
     ]
    }
   ],
   "source": [
    "good_income = True\n",
    "good_credit = True\n",
    "expat = True\n",
    "age = 30\n",
    "\n",
    "age_checky = int(input('how old are you? '))\n",
    "if good_income == True"
   ]
  },
  {
   "cell_type": "code",
   "execution_count": null,
   "metadata": {},
   "outputs": [],
   "source": [
    "thisdict =\t{\n",
    "  \"brand\": \"Ford\",\n",
    "  \"model\": \"Mustang\",\n",
    "  \"year\": 1964\n",
    "}\n",
    "x = thisdict.get(\"model\")\n",
    "print(x)"
   ]
  },
  {
   "cell_type": "code",
   "execution_count": null,
   "metadata": {},
   "outputs": [],
   "source": [
    "thisdict =\t{\n",
    "  \"brand\": \"Ford\",\n",
    "  \"model\": \"Mustang\",\n",
    "  \"year\": 1964\n",
    "}\n",
    "\n",
    "thisdict"
   ]
  },
  {
   "cell_type": "code",
   "execution_count": null,
   "metadata": {},
   "outputs": [],
   "source": [
    "thisdict[\"model\"]"
   ]
  },
  {
   "cell_type": "code",
   "execution_count": null,
   "metadata": {},
   "outputs": [],
   "source": [
    "#changing of value\n",
    "thisdict[\"brand\"]= \"Toyota\"\n",
    "thisdict"
   ]
  },
  {
   "cell_type": "code",
   "execution_count": null,
   "metadata": {},
   "outputs": [],
   "source": [
    "for i in thisdict:\n",
    "    print(i)"
   ]
  },
  {
   "cell_type": "code",
   "execution_count": null,
   "metadata": {},
   "outputs": [],
   "source": [
    "client_age = 20\n",
    "if client_age >= 20:\n",
    "        print('welcome')\n",
    "else:\n",
    "    print('bye')"
   ]
  },
  {
   "cell_type": "code",
   "execution_count": null,
   "metadata": {},
   "outputs": [],
   "source": [
    "mba =30\n",
    "\n",
    "if mba >=25:\n",
    "        print(\"yes\")\n",
    "        name = input(\"what is your name: \")\n",
    "        print(f\"My name is {name}\")\n",
    "        \n",
    "        "
   ]
  },
  {
   "cell_type": "code",
   "execution_count": null,
   "metadata": {},
   "outputs": [],
   "source": [
    "eligible if canada_pr >= 30 else not eligible"
   ]
  },
  {
   "cell_type": "code",
   "execution_count": null,
   "metadata": {},
   "outputs": [],
   "source": [
    "import numpy as np\n",
    "\n",
    "\n",
    "a = np.random.random((2,4,4))\n",
    "a"
   ]
  },
  {
   "cell_type": "code",
   "execution_count": null,
   "metadata": {},
   "outputs": [],
   "source": [
    "a[0][3][-1]"
   ]
  },
  {
   "cell_type": "code",
   "execution_count": null,
   "metadata": {},
   "outputs": [],
   "source": [
    "for num in a:\n",
    "    print(num)"
   ]
  },
  {
   "cell_type": "code",
   "execution_count": null,
   "metadata": {},
   "outputs": [],
   "source": [
    "for num1 in a:\n",
    "    for num2 in num1:\n",
    "        print(num2)"
   ]
  },
  {
   "cell_type": "code",
   "execution_count": null,
   "metadata": {},
   "outputs": [],
   "source": [
    "for num1 in a:\n",
    "    for num2 in num1:\n",
    "        for num3 in num2:\n",
    "            print(num3)"
   ]
  },
  {
   "cell_type": "code",
   "execution_count": null,
   "metadata": {},
   "outputs": [],
   "source": [
    "\n",
    "colnames = ['Column1','Column2','Column3','Column4','Column5']\n",
    "df = pd.DataFrame(np.random.random((10,5)), columns=colnames)\n",
    "df\n"
   ]
  },
  {
   "cell_type": "code",
   "execution_count": null,
   "metadata": {},
   "outputs": [],
   "source": [
    "df[['Column1', 'Column3']]\n"
   ]
  },
  {
   "cell_type": "code",
   "execution_count": null,
   "metadata": {},
   "outputs": [],
   "source": [
    "house_dict = {'Baker House': [7420, 'BrkSide', 1939, 5, 118000],\n",
    "              'Beazley House': [14115, 'Mitchel', 1993, 5, 143000],\n",
    "              'Dominguez House': [14260, 'NoRidge', 2000, 8, 250000],\n",
    "              'Hamilton House': [6120, 'OldTown', 1931, 7, 129900],\n",
    "              'James House': [11250, 'CollgCr', 2001, 7, 223500],\n",
    "              'Martinez House': [9600, 'Veenker', 1976, 6, 181500],\n",
    "              'Roberts House': [9550, 'Crawfor', 1915, 7, 140000],\n",
    "              'Smith House': [8450, 'CollgCr', 2003, 7, 208500],\n",
    "              'Snyder House': [10084, 'Somerst', 2004, 8, 307000],\n",
    "              'Zuckerman House': [10382, 'NWAmes', 1973, 7, 200000]}\n",
    "DT = pd.DataFrame(house_dict).transpose()\n",
    "DT"
   ]
  },
  {
   "cell_type": "code",
   "execution_count": null,
   "metadata": {},
   "outputs": [],
   "source": [
    "DT[1]"
   ]
  },
  {
   "cell_type": "code",
   "execution_count": null,
   "metadata": {},
   "outputs": [],
   "source": [
    "sums = [1, 2, -3, 4, -5, 6]\n",
    "\n",
    "sum_positivities = 0\n",
    "\n",
    "for num in sums:\n",
    "    if num < 0:\n",
    "        continue\n",
    "    sum_positivities += num\n",
    "        \n",
    "       \n",
    "print(sum_positivities)"
   ]
  },
  {
   "cell_type": "code",
   "execution_count": null,
   "metadata": {},
   "outputs": [],
   "source": [
    "[num + num] for num if num > 0 in sums"
   ]
  },
  {
   "cell_type": "code",
   "execution_count": null,
   "metadata": {},
   "outputs": [],
   "source": [
    "sums = [1, 2, -3, 4, -5, 6]\n",
    "sum([num for num in sums if num > 0])\n"
   ]
  },
  {
   "cell_type": "code",
   "execution_count": null,
   "metadata": {},
   "outputs": [],
   "source": [
    "words= [\"Apple\", \"Banana\", \"Car\", \"Dolphin\" ]\n",
    "for word in words:\n",
    "        #This loop is fetching word from the list\n",
    "        print (f\"The following lines will print each letters of: {word}\")\n",
    "        for letter in word:\n",
    "                #This loop is fetching letter for the word\n",
    "                print (letter)\n",
    "        print(\"\") #This print is used to print a blank line\n"
   ]
  },
  {
   "cell_type": "code",
   "execution_count": null,
   "metadata": {},
   "outputs": [],
   "source": [
    "sums[:-1]"
   ]
  },
  {
   "cell_type": "code",
   "execution_count": 265,
   "metadata": {},
   "outputs": [
    {
     "name": "stdout",
     "output_type": "stream",
     "text": [
      "Enter the number of elements to be in the list:6\n",
      "Element: 3\n",
      "Element: -1\n",
      "Element: 9\n",
      "Element: 6\n",
      "Element: 7\n",
      "Element: 4\n",
      "Sum of all positive even numbers: 10\n",
      "Sum of all positive odd numbers: 19\n",
      "Sum of all negative numbers: -1\n"
     ]
    }
   ],
   "source": [
    "n=int(input(\"Enter the number of elements to be in the list:\"))\n",
    "b=[]\n",
    "for i in range(0,n):\n",
    "    a=int(input(\"Element: \"))\n",
    "    b.append(a)\n",
    "sum1=0\n",
    "sum2=0\n",
    "sum3=0\n",
    "for j in b:\n",
    "    if j>0:\n",
    "        if j%2 == 0:\n",
    "            sum1=sum1+j\n",
    "        else:\n",
    "            sum2=sum2+j\n",
    "    else:\n",
    "        \n",
    "        sum3=sum3+j\n",
    "print(\"Sum of all positive even numbers:\",sum1)\n",
    "print(\"Sum of all positive odd numbers:\",sum2)\n",
    "print(\"Sum of all negative numbers:\",sum3)"
   ]
  },
  {
   "cell_type": "code",
   "execution_count": null,
   "metadata": {},
   "outputs": [],
   "source": [
    "data = np.random.random((2,3))\n",
    "data "
   ]
  },
  {
   "cell_type": "code",
   "execution_count": null,
   "metadata": {},
   "outputs": [],
   "source": [
    "a = data[0]\n",
    "a"
   ]
  },
  {
   "cell_type": "code",
   "execution_count": null,
   "metadata": {},
   "outputs": [],
   "source": [
    "b = data[1]\n",
    "b "
   ]
  },
  {
   "cell_type": "code",
   "execution_count": null,
   "metadata": {},
   "outputs": [],
   "source": [
    "print(sum(a, b))"
   ]
  },
  {
   "cell_type": "code",
   "execution_count": null,
   "metadata": {},
   "outputs": [],
   "source": [
    "c = np.random.random((3, 2))\n",
    "c"
   ]
  },
  {
   "cell_type": "code",
   "execution_count": null,
   "metadata": {},
   "outputs": [],
   "source": [
    "print(sum(c))"
   ]
  },
  {
   "cell_type": "code",
   "execution_count": null,
   "metadata": {},
   "outputs": [],
   "source": [
    "print(sum(a, c))"
   ]
  },
  {
   "cell_type": "code",
   "execution_count": null,
   "metadata": {},
   "outputs": [],
   "source": [
    "d = c.transpose()\n",
    "d"
   ]
  },
  {
   "cell_type": "code",
   "execution_count": null,
   "metadata": {},
   "outputs": [],
   "source": [
    "# np.outer multiply list t and list b together. like for i in t and for  u in b: i * u and we have the result in array.\n",
    "\n",
    "t = [3,4]\n",
    "b = [1,2,3,4]\n",
    "c = np.outer(t, b)\n",
    "c \n",
    "\n",
    "#d = []\n",
    "#for i in t:\n",
    "    #for u in b:\n",
    "        #c = i * u \n",
    "        #d.append(c)\n",
    "#d        "
   ]
  },
  {
   "cell_type": "code",
   "execution_count": null,
   "metadata": {},
   "outputs": [],
   "source": [
    "def multiplyList(myList) : \n",
    "      \n",
    "    # Multiply elements one by one \n",
    "    result = 1\n",
    "    for x in myList: \n",
    "         result  = result * x  \n",
    "    return result  \n",
    "      \n",
    "# Driver code \n",
    "list1 = [1, 2, 3]  \n",
    "list2 = [3, 2, 4]\n",
    "multiplyList(list1)"
   ]
  },
  {
   "cell_type": "code",
   "execution_count": null,
   "metadata": {},
   "outputs": [],
   "source": [
    "last = np.random.random((10, 10))\n",
    "last"
   ]
  },
  {
   "cell_type": "markdown",
   "metadata": {},
   "source": [
    "# Lamda functions"
   ]
  },
  {
   "cell_type": "code",
   "execution_count": null,
   "metadata": {},
   "outputs": [],
   "source": [
    "def above "
   ]
  },
  {
   "cell_type": "code",
   "execution_count": 1,
   "metadata": {},
   "outputs": [
    {
     "data": {
      "text/plain": [
       "10"
      ]
     },
     "execution_count": 1,
     "metadata": {},
     "output_type": "execute_result"
    }
   ],
   "source": [
    "-double= lambda x:2*x\n",
    "-double(5)\n",
    "-(lambda x: 2*x) 5"
   ]
  },
  {
   "cell_type": "code",
   "execution_count": 17,
   "metadata": {},
   "outputs": [
    {
     "data": {
      "text/plain": [
       "20"
      ]
     },
     "execution_count": 17,
     "metadata": {},
     "output_type": "execute_result"
    }
   ],
   "source": [
    "def double_function(x):\n",
    "    return x*2\n",
    "double_function(10)    "
   ]
  },
  {
   "cell_type": "code",
   "execution_count": 10,
   "metadata": {},
   "outputs": [
    {
     "data": {
      "text/plain": [
       "10"
      ]
     },
     "execution_count": 10,
     "metadata": {},
     "output_type": "execute_result"
    }
   ],
   "source": [
    "double_lambda = lambda x: 2*x\n",
    "double_lambda(5)"
   ]
  },
  {
   "cell_type": "code",
   "execution_count": 11,
   "metadata": {},
   "outputs": [
    {
     "data": {
      "text/plain": [
       "10"
      ]
     },
     "execution_count": 11,
     "metadata": {},
     "output_type": "execute_result"
    }
   ],
   "source": [
    "take_5 = lambda i: i + 5\n",
    "take_5(5)"
   ]
  },
  {
   "cell_type": "code",
   "execution_count": 16,
   "metadata": {},
   "outputs": [
    {
     "data": {
      "text/plain": [
       "15"
      ]
     },
     "execution_count": 16,
     "metadata": {},
     "output_type": "execute_result"
    }
   ],
   "source": [
    "#you can also call lambda like this also\n",
    "(lambda x: x+5)(10)"
   ]
  },
  {
   "cell_type": "code",
   "execution_count": 22,
   "metadata": {},
   "outputs": [
    {
     "data": {
      "text/plain": [
       "50"
      ]
     },
     "execution_count": 22,
     "metadata": {},
     "output_type": "execute_result"
    }
   ],
   "source": [
    "# to call one argument inthe function then you will have to add value to the def like (x, y=0) then you can call add_funtion(2)\n",
    "def add_function(x,y):\n",
    "    return x+y\n",
    "add_function(30, 20)"
   ]
  },
  {
   "cell_type": "code",
   "execution_count": 23,
   "metadata": {},
   "outputs": [
    {
     "data": {
      "text/plain": [
       "40"
      ]
     },
     "execution_count": 23,
     "metadata": {},
     "output_type": "execute_result"
    }
   ],
   "source": [
    "add_lambda = lambda x, y: x +y\n",
    "add_lambda(30,10)"
   ]
  },
  {
   "cell_type": "code",
   "execution_count": 24,
   "metadata": {},
   "outputs": [
    {
     "data": {
      "text/plain": [
       "30"
      ]
     },
     "execution_count": 24,
     "metadata": {},
     "output_type": "execute_result"
    }
   ],
   "source": [
    "(lambda x,y: x+y)(10,20)"
   ]
  },
  {
   "cell_type": "code",
   "execution_count": 26,
   "metadata": {},
   "outputs": [
    {
     "data": {
      "text/plain": [
       "4"
      ]
     },
     "execution_count": 26,
     "metadata": {},
     "output_type": "execute_result"
    }
   ],
   "source": [
    "if_lambda = lambda x, y: x if x > y else y\n",
    "if_lambda (2 ,4)"
   ]
  },
  {
   "cell_type": "code",
   "execution_count": 34,
   "metadata": {},
   "outputs": [
    {
     "data": {
      "text/plain": [
       "2"
      ]
     },
     "execution_count": 34,
     "metadata": {},
     "output_type": "execute_result"
    }
   ],
   "source": [
    "def even_zero_funtion(x):\n",
    "    if x%2==0:\n",
    "        return x\n",
    "    else:\n",
    "        return 0\n",
    "        \n",
    "even_zero_funtion(2)        "
   ]
  },
  {
   "cell_type": "code",
   "execution_count": 36,
   "metadata": {},
   "outputs": [
    {
     "data": {
      "text/plain": [
       "4"
      ]
     },
     "execution_count": 36,
     "metadata": {},
     "output_type": "execute_result"
    }
   ],
   "source": [
    "def even_zero_funtion(x):\n",
    "    return x if x%2 ==0 else 0\n",
    "even_zero_funtion(4)"
   ]
  },
  {
   "cell_type": "code",
   "execution_count": 38,
   "metadata": {},
   "outputs": [
    {
     "data": {
      "text/plain": [
       "6"
      ]
     },
     "execution_count": 38,
     "metadata": {},
     "output_type": "execute_result"
    }
   ],
   "source": [
    "even_zero = lambda x: x if x%2 == 0 else 0\n",
    "even_zero(6)"
   ]
  },
  {
   "cell_type": "code",
   "execution_count": 39,
   "metadata": {},
   "outputs": [
    {
     "data": {
      "text/plain": [
       "8"
      ]
     },
     "execution_count": 39,
     "metadata": {},
     "output_type": "execute_result"
    }
   ],
   "source": [
    "(lambda x: x if x%2 == 0 else 0)(8)"
   ]
  },
  {
   "cell_type": "code",
   "execution_count": 42,
   "metadata": {},
   "outputs": [
    {
     "data": {
      "text/plain": [
       "[0.5, 1.0, 1.5, 2.0, 2.5, 3.0, 3.5, 4.0, 4.5, 5.0]"
      ]
     },
     "execution_count": 42,
     "metadata": {},
     "output_type": "execute_result"
    }
   ],
   "source": [
    "mylist = [1, 2, 3, 4, 5, 6, 7, 8, 9, 10]\n",
    "[i/2 for i in mylist]"
   ]
  },
  {
   "cell_type": "code",
   "execution_count": 48,
   "metadata": {},
   "outputs": [
    {
     "data": {
      "text/plain": [
       "[0.5, 1.0, 1.5, 2.0, 2.5, 3.0, 3.5, 4.0, 4.5, 5.0]"
      ]
     },
     "execution_count": 48,
     "metadata": {},
     "output_type": "execute_result"
    }
   ],
   "source": [
    "[(lambda x: x/2)(x) for x in mylist]\n"
   ]
  },
  {
   "cell_type": "code",
   "execution_count": 51,
   "metadata": {},
   "outputs": [
    {
     "data": {
      "text/plain": [
       "[0, 2, 0, 4, 0, 6, 0, 8, 0, 10]"
      ]
     },
     "execution_count": 51,
     "metadata": {},
     "output_type": "execute_result"
    }
   ],
   "source": [
    "[(lambda x: x if x%2 == 0 else 0) (x) for x in mylist]\n"
   ]
  },
  {
   "cell_type": "code",
   "execution_count": 54,
   "metadata": {},
   "outputs": [
    {
     "data": {
      "text/plain": [
       "['MisterB', 'MisterD', 'MisterE', 'MisterF']"
      ]
     },
     "execution_count": 54,
     "metadata": {},
     "output_type": "execute_result"
    }
   ],
   "source": [
    "misters = ['MisterE', 'MisterB', 'MisterF', 'MisterD']\n",
    "misters.sort()\n",
    "misters"
   ]
  },
  {
   "cell_type": "code",
   "execution_count": 55,
   "metadata": {},
   "outputs": [
    {
     "data": {
      "text/plain": [
       "['MisterB', 'MisterD', 'MisterE', 'MisterF']"
      ]
     },
     "execution_count": 55,
     "metadata": {},
     "output_type": "execute_result"
    }
   ],
   "source": [
    "sorted(misters)"
   ]
  },
  {
   "cell_type": "code",
   "execution_count": 56,
   "metadata": {},
   "outputs": [
    {
     "data": {
      "text/plain": [
       "['MisterB', 'MisterD', 'MisterE', 'MisterF']"
      ]
     },
     "execution_count": 56,
     "metadata": {},
     "output_type": "execute_result"
    }
   ],
   "source": [
    "#sortin the last letter with lambda\n",
    "last_lambda = lambda x: x[-1]\n",
    "sorted(misters, key=last_lambda)"
   ]
  },
  {
   "cell_type": "code",
   "execution_count": 59,
   "metadata": {},
   "outputs": [
    {
     "data": {
      "text/plain": [
       "'e'"
      ]
     },
     "execution_count": 59,
     "metadata": {},
     "output_type": "execute_result"
    }
   ],
   "source": [
    "#sorting with the second letter from each tuples\n",
    "list_tuples = [('eggs', 1), ('apples', 2), ('carrots', 1), ('beetroot', 5)]\n",
    "second_letter = lambda x: x[0][1]\n",
    "second_letter(('hello', 1))"
   ]
  },
  {
   "cell_type": "code",
   "execution_count": 60,
   "metadata": {},
   "outputs": [
    {
     "data": {
      "text/plain": [
       "[('carrots', 1), ('beetroot', 5), ('eggs', 1), ('apples', 2)]"
      ]
     },
     "execution_count": 60,
     "metadata": {},
     "output_type": "execute_result"
    }
   ],
   "source": [
    "sorted(list_tuples, key=second_letter)"
   ]
  },
  {
   "cell_type": "code",
   "execution_count": null,
   "metadata": {},
   "outputs": [],
   "source": []
  }
 ],
 "metadata": {
  "kernelspec": {
   "display_name": "Python 3",
   "language": "python",
   "name": "python3"
  },
  "language_info": {
   "codemirror_mode": {
    "name": "ipython",
    "version": 3
   },
   "file_extension": ".py",
   "mimetype": "text/x-python",
   "name": "python",
   "nbconvert_exporter": "python",
   "pygments_lexer": "ipython3",
   "version": "3.8.5"
  }
 },
 "nbformat": 4,
 "nbformat_minor": 4
}
